{
 "cells": [
  {
   "cell_type": "markdown",
   "metadata": {},
   "source": [
    "<h1>Enginnering Planing and Codding V2</h1>"
   ]
  },
  {
   "cell_type": "code",
   "execution_count": null,
   "metadata": {},
   "outputs": [],
   "source": [
    "# Importa o código principal\n",
    "import sys\n",
    "sys.path.append('C:\\\\Users\\\\Danilo Santos\\\\Desktop\\\\Qualificação PPGCC\\\\abordagem\\\\RFNS')"
   ]
  },
  {
   "cell_type": "code",
   "execution_count": null,
   "metadata": {},
   "outputs": [],
   "source": [
    "from grimoire.ConfigurationEnginnering import ConfigurationEnginnering"
   ]
  },
  {
   "cell_type": "code",
   "execution_count": null,
   "metadata": {},
   "outputs": [],
   "source": [
    "ce = ConfigurationEnginnering()"
   ]
  },
  {
   "cell_type": "code",
   "execution_count": null,
   "metadata": {},
   "outputs": [],
   "source": [
    "dir(ce)"
   ]
  },
  {
   "cell_type": "code",
   "execution_count": null,
   "metadata": {},
   "outputs": [],
   "source": [
    "ce.run_logging()"
   ]
  },
  {
   "cell_type": "code",
   "execution_count": null,
   "metadata": {},
   "outputs": [],
   "source": [
    "dir(ce.logger)"
   ]
  },
  {
   "cell_type": "code",
   "execution_count": null,
   "metadata": {},
   "outputs": [],
   "source": [
    "ce.logger.add('debug', 'msg log')"
   ]
  },
  {
   "cell_type": "code",
   "execution_count": null,
   "metadata": {},
   "outputs": [],
   "source": [
    "from grimoire.EnginneringForest import EnginneringForest"
   ]
  },
  {
   "cell_type": "code",
   "execution_count": null,
   "metadata": {
    "scrolled": true
   },
   "outputs": [],
   "source": [
    "ef = EnginneringForest(select_features=3)\n",
    "ef.run_logging()"
   ]
  },
  {
   "cell_type": "code",
   "execution_count": null,
   "metadata": {},
   "outputs": [],
   "source": [
    "ef2 = EnginneringForest(select_features=3)"
   ]
  },
  {
   "cell_type": "code",
   "execution_count": null,
   "metadata": {},
   "outputs": [],
   "source": [
    "dir(ef)"
   ]
  },
  {
   "cell_type": "code",
   "execution_count": null,
   "metadata": {},
   "outputs": [],
   "source": [
    "dir(ef2.logger)"
   ]
  },
  {
   "cell_type": "code",
   "execution_count": null,
   "metadata": {},
   "outputs": [],
   "source": []
  },
  {
   "cell_type": "code",
   "execution_count": 1,
   "metadata": {},
   "outputs": [],
   "source": [
    "# Importa o código principal\n",
    "import sys\n",
    "sys.path.append('C:\\\\Users\\\\Danilo Santos\\\\Desktop\\\\Qualificação PPGCC\\\\abordagem\\\\RFNS')\n",
    "from grimoire.EnginneringForest import EnginneringForest"
   ]
  },
  {
   "cell_type": "code",
   "execution_count": 2,
   "metadata": {},
   "outputs": [],
   "source": [
    "import pandas as pd\n",
    "\n",
    "import numpy as np\n",
    "\n",
    "from sklearn.model_selection import train_test_split\n",
    "from sklearn.metrics import confusion_matrix, accuracy_score\n",
    "from sklearn.ensemble import RandomForestClassifier\n",
    "\n",
    "import matplotlib.pyplot as plt\n",
    "from matplotlib.colors import ListedColormap\n",
    "\n",
    "import seaborn as sns"
   ]
  },
  {
   "cell_type": "code",
   "execution_count": 3,
   "metadata": {},
   "outputs": [],
   "source": [
    "df_heart = pd.read_csv('../datasets/heart.csv', engine='c', memory_map=True, low_memory=True)\n",
    "\n",
    "X=df_heart[['age', 'sex', 'cp', 'trestbps',  'chol', 'fbs', 'restecg', 'thalach', 'exang', \n",
    "            'oldpeak', 'slope', 'ca', 'thal']]\n",
    "# Labels\n",
    "y=df_heart['target']\n",
    "\n",
    "# Split dataset into training set and test set\n",
    "# 70% training and 30% test\n",
    "X_train, X_test, y_train, y_test = train_test_split(X, y, test_size=0.3, random_state=30, shuffle=True, stratify=y)"
   ]
  },
  {
   "cell_type": "code",
   "execution_count": 4,
   "metadata": {},
   "outputs": [
    {
     "name": "stdout",
     "output_type": "stream",
     "text": [
      "Acuracia = 0.7912087912087912\n",
      "Matriz de confusao \n",
      "[[28 13]\n",
      " [ 6 44]]\n",
      "N arvores = [13]\n",
      "Acuracia = 0.8241758241758241\n",
      "Matriz de confusao \n",
      "[[33  8]\n",
      " [ 8 42]]\n",
      "N arvores = [13, 78]\n",
      "Acuracia = 0.8351648351648352\n",
      "Matriz de confusao \n",
      "[[33  8]\n",
      " [ 7 43]]\n",
      "N arvores = [13, 78, 286]\n",
      "Acuracia = 0.8241758241758241\n",
      "Matriz de confusao \n",
      "[[32  9]\n",
      " [ 7 43]]\n",
      "N arvores = [13, 78, 286, 715]\n",
      "Acuracia = 0.8241758241758241\n",
      "Matriz de confusao \n",
      "[[31 10]\n",
      " [ 6 44]]\n",
      "N arvores = [13, 78, 286, 715, 1287]\n",
      "Acuracia = 0.8021978021978022\n",
      "Matriz de confusao \n",
      "[[30 11]\n",
      " [ 7 43]]\n",
      "N arvores = [13, 78, 286, 715, 1287, 1716]\n",
      "Acuracia = 0.7912087912087912\n",
      "Matriz de confusao \n",
      "[[29 12]\n",
      " [ 7 43]]\n",
      "N arvores = [13, 78, 286, 715, 1287, 1716, 1716]\n"
     ]
    }
   ],
   "source": [
    "heart_accuracy_eg = []\n",
    "heart_matrix_confusion_eg = []\n",
    "n_estimators_eg = []\n",
    "limit = int((X.shape[1] / 2) + 1)\n",
    "\n",
    "for n_tree in range(limit):\n",
    "    model_eg = EnginneringForest(select_features=n_tree+1)\n",
    "    model_eg.fit(X_train, y_train)\n",
    "    y_pred = model_eg.predict(X_test)\n",
    "\n",
    "    mac = accuracy_score(y_test, y_pred)\n",
    "    mcm = confusion_matrix(y_test,y_pred)\n",
    "    \n",
    "    heart_accuracy_eg.append(mac)\n",
    "    heart_matrix_confusion_eg.append(mcm)\n",
    "    n_estimators_eg.append(len(model_eg.estimators_))\n",
    "    \n",
    "    print('Acuracia = {0}'.format(mac))\n",
    "    print(\"Matriz de confusao \\n{0}\".format(str(mcm)))\n",
    "    print(\"N arvores = {0}\".format(n_estimators_eg))\n",
    "\n",
    "    del model_eg"
   ]
  },
  {
   "cell_type": "code",
   "execution_count": null,
   "metadata": {},
   "outputs": [],
   "source": []
  }
 ],
 "metadata": {
  "kernelspec": {
   "display_name": "Python 3",
   "language": "python",
   "name": "python3"
  },
  "language_info": {
   "codemirror_mode": {
    "name": "ipython",
    "version": 3
   },
   "file_extension": ".py",
   "mimetype": "text/x-python",
   "name": "python",
   "nbconvert_exporter": "python",
   "pygments_lexer": "ipython3",
   "version": "3.7.2"
  }
 },
 "nbformat": 4,
 "nbformat_minor": 2
}
