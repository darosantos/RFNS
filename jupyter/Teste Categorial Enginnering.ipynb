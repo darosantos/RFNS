{
 "cells": [
  {
   "cell_type": "code",
   "execution_count": 1,
   "metadata": {},
   "outputs": [],
   "source": [
    "import sys\n",
    "sys.path.append('C:\\\\Users\\\\Danilo Santos\\\\Desktop\\\\Qualificação PPGCC\\\\abordagem\\\\RFNS')\n",
    "from grimoire.EnginneringForest import EnginneringForest"
   ]
  },
  {
   "cell_type": "code",
   "execution_count": 2,
   "metadata": {},
   "outputs": [],
   "source": [
    "import pandas as pd\n",
    "\n",
    "import numpy as np\n",
    "\n",
    "from sklearn.model_selection import train_test_split"
   ]
  },
  {
   "cell_type": "code",
   "execution_count": 3,
   "metadata": {},
   "outputs": [],
   "source": [
    "path = 'C:\\\\Users\\\\Danilo Santos\\\\Desktop\\\\Qualificação PPGCC\\\\abordagem\\\\RFNS'\n",
    "df_acute = pd.read_csv(path+'\\\\datasets\\\\acute\\\\diagnosis.csv',\n",
    "                       engine='c', \n",
    "                       memory_map=True, \n",
    "                       low_memory=True)"
   ]
  },
  {
   "cell_type": "code",
   "execution_count": 4,
   "metadata": {},
   "outputs": [],
   "source": [
    "X = df_acute[['temperatura', 'nausea', 'dorlombar', \n",
    "              'urinepushing', 'miccao', 'queimacao', 'inflamacao']]\n",
    "# Labels\n",
    "y = df_acute['target']\n",
    "\n",
    "X_train, X_test, y_train, y_test = train_test_split(X, y, test_size=0.30, \n",
    "                                                    random_state=100, \n",
    "                                                    shuffle=True, \n",
    "                                                    stratify=y)"
   ]
  },
  {
   "cell_type": "code",
   "execution_count": 5,
   "metadata": {},
   "outputs": [
    {
     "data": {
      "text/plain": [
       "(120, 7)"
      ]
     },
     "execution_count": 5,
     "metadata": {},
     "output_type": "execute_result"
    }
   ],
   "source": [
    "X.shape"
   ]
  },
  {
   "cell_type": "code",
   "execution_count": 6,
   "metadata": {},
   "outputs": [
    {
     "data": {
      "text/plain": [
       "(84, 7)"
      ]
     },
     "execution_count": 6,
     "metadata": {},
     "output_type": "execute_result"
    }
   ],
   "source": [
    "X_train.shape"
   ]
  },
  {
   "cell_type": "code",
   "execution_count": 7,
   "metadata": {},
   "outputs": [
    {
     "data": {
      "text/html": [
       "<div>\n",
       "<style scoped>\n",
       "    .dataframe tbody tr th:only-of-type {\n",
       "        vertical-align: middle;\n",
       "    }\n",
       "\n",
       "    .dataframe tbody tr th {\n",
       "        vertical-align: top;\n",
       "    }\n",
       "\n",
       "    .dataframe thead th {\n",
       "        text-align: right;\n",
       "    }\n",
       "</style>\n",
       "<table border=\"1\" class=\"dataframe\">\n",
       "  <thead>\n",
       "    <tr style=\"text-align: right;\">\n",
       "      <th></th>\n",
       "      <th>temperatura</th>\n",
       "      <th>nausea</th>\n",
       "      <th>dorlombar</th>\n",
       "      <th>urinepushing</th>\n",
       "      <th>miccao</th>\n",
       "      <th>queimacao</th>\n",
       "      <th>inflamacao</th>\n",
       "    </tr>\n",
       "  </thead>\n",
       "  <tbody>\n",
       "    <tr>\n",
       "      <th>0</th>\n",
       "      <td>35.5</td>\n",
       "      <td>no</td>\n",
       "      <td>yes</td>\n",
       "      <td>no</td>\n",
       "      <td>no</td>\n",
       "      <td>no</td>\n",
       "      <td>no</td>\n",
       "    </tr>\n",
       "    <tr>\n",
       "      <th>1</th>\n",
       "      <td>35.9</td>\n",
       "      <td>no</td>\n",
       "      <td>no</td>\n",
       "      <td>yes</td>\n",
       "      <td>yes</td>\n",
       "      <td>yes</td>\n",
       "      <td>yes</td>\n",
       "    </tr>\n",
       "    <tr>\n",
       "      <th>2</th>\n",
       "      <td>35.9</td>\n",
       "      <td>no</td>\n",
       "      <td>yes</td>\n",
       "      <td>no</td>\n",
       "      <td>no</td>\n",
       "      <td>no</td>\n",
       "      <td>no</td>\n",
       "    </tr>\n",
       "    <tr>\n",
       "      <th>3</th>\n",
       "      <td>36.0</td>\n",
       "      <td>no</td>\n",
       "      <td>no</td>\n",
       "      <td>yes</td>\n",
       "      <td>yes</td>\n",
       "      <td>yes</td>\n",
       "      <td>yes</td>\n",
       "    </tr>\n",
       "    <tr>\n",
       "      <th>4</th>\n",
       "      <td>36.0</td>\n",
       "      <td>no</td>\n",
       "      <td>yes</td>\n",
       "      <td>no</td>\n",
       "      <td>no</td>\n",
       "      <td>no</td>\n",
       "      <td>no</td>\n",
       "    </tr>\n",
       "  </tbody>\n",
       "</table>\n",
       "</div>"
      ],
      "text/plain": [
       "   temperatura nausea dorlombar urinepushing miccao queimacao inflamacao\n",
       "0         35.5     no       yes           no     no        no         no\n",
       "1         35.9     no        no          yes    yes       yes        yes\n",
       "2         35.9     no       yes           no     no        no         no\n",
       "3         36.0     no        no          yes    yes       yes        yes\n",
       "4         36.0     no       yes           no     no        no         no"
      ]
     },
     "execution_count": 7,
     "metadata": {},
     "output_type": "execute_result"
    }
   ],
   "source": [
    "X.head()"
   ]
  },
  {
   "cell_type": "code",
   "execution_count": 8,
   "metadata": {},
   "outputs": [],
   "source": [
    "model = EnginneringForest(3)"
   ]
  },
  {
   "cell_type": "code",
   "execution_count": 9,
   "metadata": {},
   "outputs": [],
   "source": [
    "model.is_data_categorical = True\n",
    "model.encoder_enable = True\n",
    "model.encoder_target = True\n",
    "model.encoder_data = True"
   ]
  },
  {
   "cell_type": "code",
   "execution_count": 10,
   "metadata": {},
   "outputs": [
    {
     "data": {
      "text/plain": [
       "True"
      ]
     },
     "execution_count": 10,
     "metadata": {},
     "output_type": "execute_result"
    }
   ],
   "source": [
    "model.fit(X_train, y_train)"
   ]
  },
  {
   "cell_type": "code",
   "execution_count": 11,
   "metadata": {},
   "outputs": [
    {
     "data": {
      "text/plain": [
       "13"
      ]
     },
     "execution_count": 11,
     "metadata": {},
     "output_type": "execute_result"
    }
   ],
   "source": [
    "model.n_features_"
   ]
  },
  {
   "cell_type": "code",
   "execution_count": 12,
   "metadata": {},
   "outputs": [
    {
     "data": {
      "text/plain": [
       "Index(['temperatura', 'nausea_no', 'nausea_yes', 'dorlombar_no',\n",
       "       'dorlombar_yes', 'urinepushing_no', 'urinepushing_yes', 'miccao_no',\n",
       "       'miccao_yes', 'queimacao_yes', 'queimacao_no', 'inflamacao_no',\n",
       "       'inflamacao_yes'],\n",
       "      dtype='object')"
      ]
     },
     "execution_count": 12,
     "metadata": {},
     "output_type": "execute_result"
    }
   ],
   "source": [
    "model.name_features_"
   ]
  },
  {
   "cell_type": "code",
   "execution_count": 13,
   "metadata": {},
   "outputs": [
    {
     "data": {
      "text/plain": [
       "array([['temperatura', 'nausea_no', 'nausea_yes'],\n",
       "       ['temperatura', 'nausea_no', 'dorlombar_no'],\n",
       "       ['temperatura', 'nausea_no', 'dorlombar_yes'],\n",
       "       ['temperatura', 'nausea_no', 'urinepushing_no'],\n",
       "       ['temperatura', 'nausea_no', 'urinepushing_yes'],\n",
       "       ['temperatura', 'nausea_no', 'miccao_no'],\n",
       "       ['temperatura', 'nausea_no', 'miccao_yes'],\n",
       "       ['temperatura', 'nausea_no', 'queimacao_yes'],\n",
       "       ['temperatura', 'nausea_no', 'queimacao_no'],\n",
       "       ['temperatura', 'nausea_no', 'inflamacao_no'],\n",
       "       ['temperatura', 'nausea_no', 'inflamacao_yes'],\n",
       "       ['temperatura', 'nausea_yes', 'dorlombar_no'],\n",
       "       ['temperatura', 'nausea_yes', 'dorlombar_yes'],\n",
       "       ['temperatura', 'nausea_yes', 'urinepushing_no'],\n",
       "       ['temperatura', 'nausea_yes', 'urinepushing_yes'],\n",
       "       ['temperatura', 'nausea_yes', 'miccao_no'],\n",
       "       ['temperatura', 'nausea_yes', 'miccao_yes'],\n",
       "       ['temperatura', 'nausea_yes', 'queimacao_yes'],\n",
       "       ['temperatura', 'nausea_yes', 'queimacao_no'],\n",
       "       ['temperatura', 'nausea_yes', 'inflamacao_no'],\n",
       "       ['temperatura', 'nausea_yes', 'inflamacao_yes'],\n",
       "       ['temperatura', 'dorlombar_no', 'dorlombar_yes'],\n",
       "       ['temperatura', 'dorlombar_no', 'urinepushing_no'],\n",
       "       ['temperatura', 'dorlombar_no', 'urinepushing_yes'],\n",
       "       ['temperatura', 'dorlombar_no', 'miccao_no'],\n",
       "       ['temperatura', 'dorlombar_no', 'miccao_yes'],\n",
       "       ['temperatura', 'dorlombar_no', 'queimacao_yes'],\n",
       "       ['temperatura', 'dorlombar_no', 'queimacao_no'],\n",
       "       ['temperatura', 'dorlombar_no', 'inflamacao_no'],\n",
       "       ['temperatura', 'dorlombar_no', 'inflamacao_yes'],\n",
       "       ['temperatura', 'dorlombar_yes', 'urinepushing_no'],\n",
       "       ['temperatura', 'dorlombar_yes', 'urinepushing_yes'],\n",
       "       ['temperatura', 'dorlombar_yes', 'miccao_no'],\n",
       "       ['temperatura', 'dorlombar_yes', 'miccao_yes'],\n",
       "       ['temperatura', 'dorlombar_yes', 'queimacao_yes'],\n",
       "       ['temperatura', 'dorlombar_yes', 'queimacao_no'],\n",
       "       ['temperatura', 'dorlombar_yes', 'inflamacao_no'],\n",
       "       ['temperatura', 'dorlombar_yes', 'inflamacao_yes'],\n",
       "       ['temperatura', 'urinepushing_no', 'urinepushing_yes'],\n",
       "       ['temperatura', 'urinepushing_no', 'miccao_no'],\n",
       "       ['temperatura', 'urinepushing_no', 'miccao_yes'],\n",
       "       ['temperatura', 'urinepushing_no', 'queimacao_yes'],\n",
       "       ['temperatura', 'urinepushing_no', 'queimacao_no'],\n",
       "       ['temperatura', 'urinepushing_no', 'inflamacao_no'],\n",
       "       ['temperatura', 'urinepushing_no', 'inflamacao_yes'],\n",
       "       ['temperatura', 'urinepushing_yes', 'miccao_no'],\n",
       "       ['temperatura', 'urinepushing_yes', 'miccao_yes'],\n",
       "       ['temperatura', 'urinepushing_yes', 'queimacao_yes'],\n",
       "       ['temperatura', 'urinepushing_yes', 'queimacao_no'],\n",
       "       ['temperatura', 'urinepushing_yes', 'inflamacao_no'],\n",
       "       ['temperatura', 'urinepushing_yes', 'inflamacao_yes'],\n",
       "       ['temperatura', 'miccao_no', 'miccao_yes'],\n",
       "       ['temperatura', 'miccao_no', 'queimacao_yes'],\n",
       "       ['temperatura', 'miccao_no', 'queimacao_no'],\n",
       "       ['temperatura', 'miccao_no', 'inflamacao_no'],\n",
       "       ['temperatura', 'miccao_no', 'inflamacao_yes'],\n",
       "       ['temperatura', 'miccao_yes', 'queimacao_yes'],\n",
       "       ['temperatura', 'miccao_yes', 'queimacao_no'],\n",
       "       ['temperatura', 'miccao_yes', 'inflamacao_no'],\n",
       "       ['temperatura', 'miccao_yes', 'inflamacao_yes'],\n",
       "       ['temperatura', 'queimacao_yes', 'queimacao_no'],\n",
       "       ['temperatura', 'queimacao_yes', 'inflamacao_no'],\n",
       "       ['temperatura', 'queimacao_yes', 'inflamacao_yes'],\n",
       "       ['temperatura', 'queimacao_no', 'inflamacao_no'],\n",
       "       ['temperatura', 'queimacao_no', 'inflamacao_yes'],\n",
       "       ['temperatura', 'inflamacao_no', 'inflamacao_yes'],\n",
       "       ['nausea_no', 'nausea_yes', 'dorlombar_no'],\n",
       "       ['nausea_no', 'nausea_yes', 'dorlombar_yes'],\n",
       "       ['nausea_no', 'nausea_yes', 'urinepushing_no'],\n",
       "       ['nausea_no', 'nausea_yes', 'urinepushing_yes'],\n",
       "       ['nausea_no', 'nausea_yes', 'miccao_no'],\n",
       "       ['nausea_no', 'nausea_yes', 'miccao_yes'],\n",
       "       ['nausea_no', 'nausea_yes', 'queimacao_yes'],\n",
       "       ['nausea_no', 'nausea_yes', 'queimacao_no'],\n",
       "       ['nausea_no', 'nausea_yes', 'inflamacao_no'],\n",
       "       ['nausea_no', 'nausea_yes', 'inflamacao_yes'],\n",
       "       ['nausea_no', 'dorlombar_no', 'dorlombar_yes'],\n",
       "       ['nausea_no', 'dorlombar_no', 'urinepushing_no'],\n",
       "       ['nausea_no', 'dorlombar_no', 'urinepushing_yes'],\n",
       "       ['nausea_no', 'dorlombar_no', 'miccao_no'],\n",
       "       ['nausea_no', 'dorlombar_no', 'miccao_yes'],\n",
       "       ['nausea_no', 'dorlombar_no', 'queimacao_yes'],\n",
       "       ['nausea_no', 'dorlombar_no', 'queimacao_no'],\n",
       "       ['nausea_no', 'dorlombar_no', 'inflamacao_no'],\n",
       "       ['nausea_no', 'dorlombar_no', 'inflamacao_yes'],\n",
       "       ['nausea_no', 'dorlombar_yes', 'urinepushing_no'],\n",
       "       ['nausea_no', 'dorlombar_yes', 'urinepushing_yes'],\n",
       "       ['nausea_no', 'dorlombar_yes', 'miccao_no'],\n",
       "       ['nausea_no', 'dorlombar_yes', 'miccao_yes'],\n",
       "       ['nausea_no', 'dorlombar_yes', 'queimacao_yes'],\n",
       "       ['nausea_no', 'dorlombar_yes', 'queimacao_no'],\n",
       "       ['nausea_no', 'dorlombar_yes', 'inflamacao_no'],\n",
       "       ['nausea_no', 'dorlombar_yes', 'inflamacao_yes'],\n",
       "       ['nausea_no', 'urinepushing_no', 'urinepushing_yes'],\n",
       "       ['nausea_no', 'urinepushing_no', 'miccao_no'],\n",
       "       ['nausea_no', 'urinepushing_no', 'miccao_yes'],\n",
       "       ['nausea_no', 'urinepushing_no', 'queimacao_yes'],\n",
       "       ['nausea_no', 'urinepushing_no', 'queimacao_no'],\n",
       "       ['nausea_no', 'urinepushing_no', 'inflamacao_no'],\n",
       "       ['nausea_no', 'urinepushing_no', 'inflamacao_yes'],\n",
       "       ['nausea_no', 'urinepushing_yes', 'miccao_no'],\n",
       "       ['nausea_no', 'urinepushing_yes', 'miccao_yes'],\n",
       "       ['nausea_no', 'urinepushing_yes', 'queimacao_yes'],\n",
       "       ['nausea_no', 'urinepushing_yes', 'queimacao_no'],\n",
       "       ['nausea_no', 'urinepushing_yes', 'inflamacao_no'],\n",
       "       ['nausea_no', 'urinepushing_yes', 'inflamacao_yes'],\n",
       "       ['nausea_no', 'miccao_no', 'miccao_yes'],\n",
       "       ['nausea_no', 'miccao_no', 'queimacao_yes'],\n",
       "       ['nausea_no', 'miccao_no', 'queimacao_no'],\n",
       "       ['nausea_no', 'miccao_no', 'inflamacao_no'],\n",
       "       ['nausea_no', 'miccao_no', 'inflamacao_yes'],\n",
       "       ['nausea_no', 'miccao_yes', 'queimacao_yes'],\n",
       "       ['nausea_no', 'miccao_yes', 'queimacao_no'],\n",
       "       ['nausea_no', 'miccao_yes', 'inflamacao_no'],\n",
       "       ['nausea_no', 'miccao_yes', 'inflamacao_yes'],\n",
       "       ['nausea_no', 'queimacao_yes', 'queimacao_no'],\n",
       "       ['nausea_no', 'queimacao_yes', 'inflamacao_no'],\n",
       "       ['nausea_no', 'queimacao_yes', 'inflamacao_yes'],\n",
       "       ['nausea_no', 'queimacao_no', 'inflamacao_no'],\n",
       "       ['nausea_no', 'queimacao_no', 'inflamacao_yes'],\n",
       "       ['nausea_no', 'inflamacao_no', 'inflamacao_yes'],\n",
       "       ['nausea_yes', 'dorlombar_no', 'dorlombar_yes'],\n",
       "       ['nausea_yes', 'dorlombar_no', 'urinepushing_no'],\n",
       "       ['nausea_yes', 'dorlombar_no', 'urinepushing_yes'],\n",
       "       ['nausea_yes', 'dorlombar_no', 'miccao_no'],\n",
       "       ['nausea_yes', 'dorlombar_no', 'miccao_yes'],\n",
       "       ['nausea_yes', 'dorlombar_no', 'queimacao_yes'],\n",
       "       ['nausea_yes', 'dorlombar_no', 'queimacao_no'],\n",
       "       ['nausea_yes', 'dorlombar_no', 'inflamacao_no'],\n",
       "       ['nausea_yes', 'dorlombar_no', 'inflamacao_yes'],\n",
       "       ['nausea_yes', 'dorlombar_yes', 'urinepushing_no'],\n",
       "       ['nausea_yes', 'dorlombar_yes', 'urinepushing_yes'],\n",
       "       ['nausea_yes', 'dorlombar_yes', 'miccao_no'],\n",
       "       ['nausea_yes', 'dorlombar_yes', 'miccao_yes'],\n",
       "       ['nausea_yes', 'dorlombar_yes', 'queimacao_yes'],\n",
       "       ['nausea_yes', 'dorlombar_yes', 'queimacao_no'],\n",
       "       ['nausea_yes', 'dorlombar_yes', 'inflamacao_no'],\n",
       "       ['nausea_yes', 'dorlombar_yes', 'inflamacao_yes'],\n",
       "       ['nausea_yes', 'urinepushing_no', 'urinepushing_yes'],\n",
       "       ['nausea_yes', 'urinepushing_no', 'miccao_no'],\n",
       "       ['nausea_yes', 'urinepushing_no', 'miccao_yes'],\n",
       "       ['nausea_yes', 'urinepushing_no', 'queimacao_yes'],\n",
       "       ['nausea_yes', 'urinepushing_no', 'queimacao_no'],\n",
       "       ['nausea_yes', 'urinepushing_no', 'inflamacao_no'],\n",
       "       ['nausea_yes', 'urinepushing_no', 'inflamacao_yes'],\n",
       "       ['nausea_yes', 'urinepushing_yes', 'miccao_no'],\n",
       "       ['nausea_yes', 'urinepushing_yes', 'miccao_yes'],\n",
       "       ['nausea_yes', 'urinepushing_yes', 'queimacao_yes'],\n",
       "       ['nausea_yes', 'urinepushing_yes', 'queimacao_no'],\n",
       "       ['nausea_yes', 'urinepushing_yes', 'inflamacao_no'],\n",
       "       ['nausea_yes', 'urinepushing_yes', 'inflamacao_yes'],\n",
       "       ['nausea_yes', 'miccao_no', 'miccao_yes'],\n",
       "       ['nausea_yes', 'miccao_no', 'queimacao_yes'],\n",
       "       ['nausea_yes', 'miccao_no', 'queimacao_no'],\n",
       "       ['nausea_yes', 'miccao_no', 'inflamacao_no'],\n",
       "       ['nausea_yes', 'miccao_no', 'inflamacao_yes'],\n",
       "       ['nausea_yes', 'miccao_yes', 'queimacao_yes'],\n",
       "       ['nausea_yes', 'miccao_yes', 'queimacao_no'],\n",
       "       ['nausea_yes', 'miccao_yes', 'inflamacao_no'],\n",
       "       ['nausea_yes', 'miccao_yes', 'inflamacao_yes'],\n",
       "       ['nausea_yes', 'queimacao_yes', 'queimacao_no'],\n",
       "       ['nausea_yes', 'queimacao_yes', 'inflamacao_no'],\n",
       "       ['nausea_yes', 'queimacao_yes', 'inflamacao_yes'],\n",
       "       ['nausea_yes', 'queimacao_no', 'inflamacao_no'],\n",
       "       ['nausea_yes', 'queimacao_no', 'inflamacao_yes'],\n",
       "       ['nausea_yes', 'inflamacao_no', 'inflamacao_yes'],\n",
       "       ['dorlombar_no', 'dorlombar_yes', 'urinepushing_no'],\n",
       "       ['dorlombar_no', 'dorlombar_yes', 'urinepushing_yes'],\n",
       "       ['dorlombar_no', 'dorlombar_yes', 'miccao_no'],\n",
       "       ['dorlombar_no', 'dorlombar_yes', 'miccao_yes'],\n",
       "       ['dorlombar_no', 'dorlombar_yes', 'queimacao_yes'],\n",
       "       ['dorlombar_no', 'dorlombar_yes', 'queimacao_no'],\n",
       "       ['dorlombar_no', 'dorlombar_yes', 'inflamacao_no'],\n",
       "       ['dorlombar_no', 'dorlombar_yes', 'inflamacao_yes'],\n",
       "       ['dorlombar_no', 'urinepushing_no', 'urinepushing_yes'],\n",
       "       ['dorlombar_no', 'urinepushing_no', 'miccao_no'],\n",
       "       ['dorlombar_no', 'urinepushing_no', 'miccao_yes'],\n",
       "       ['dorlombar_no', 'urinepushing_no', 'queimacao_yes'],\n",
       "       ['dorlombar_no', 'urinepushing_no', 'queimacao_no'],\n",
       "       ['dorlombar_no', 'urinepushing_no', 'inflamacao_no'],\n",
       "       ['dorlombar_no', 'urinepushing_no', 'inflamacao_yes'],\n",
       "       ['dorlombar_no', 'urinepushing_yes', 'miccao_no'],\n",
       "       ['dorlombar_no', 'urinepushing_yes', 'miccao_yes'],\n",
       "       ['dorlombar_no', 'urinepushing_yes', 'queimacao_yes'],\n",
       "       ['dorlombar_no', 'urinepushing_yes', 'queimacao_no'],\n",
       "       ['dorlombar_no', 'urinepushing_yes', 'inflamacao_no'],\n",
       "       ['dorlombar_no', 'urinepushing_yes', 'inflamacao_yes'],\n",
       "       ['dorlombar_no', 'miccao_no', 'miccao_yes'],\n",
       "       ['dorlombar_no', 'miccao_no', 'queimacao_yes'],\n",
       "       ['dorlombar_no', 'miccao_no', 'queimacao_no'],\n",
       "       ['dorlombar_no', 'miccao_no', 'inflamacao_no'],\n",
       "       ['dorlombar_no', 'miccao_no', 'inflamacao_yes'],\n",
       "       ['dorlombar_no', 'miccao_yes', 'queimacao_yes'],\n",
       "       ['dorlombar_no', 'miccao_yes', 'queimacao_no'],\n",
       "       ['dorlombar_no', 'miccao_yes', 'inflamacao_no'],\n",
       "       ['dorlombar_no', 'miccao_yes', 'inflamacao_yes'],\n",
       "       ['dorlombar_no', 'queimacao_yes', 'queimacao_no'],\n",
       "       ['dorlombar_no', 'queimacao_yes', 'inflamacao_no'],\n",
       "       ['dorlombar_no', 'queimacao_yes', 'inflamacao_yes'],\n",
       "       ['dorlombar_no', 'queimacao_no', 'inflamacao_no'],\n",
       "       ['dorlombar_no', 'queimacao_no', 'inflamacao_yes'],\n",
       "       ['dorlombar_no', 'inflamacao_no', 'inflamacao_yes'],\n",
       "       ['dorlombar_yes', 'urinepushing_no', 'urinepushing_yes'],\n",
       "       ['dorlombar_yes', 'urinepushing_no', 'miccao_no'],\n",
       "       ['dorlombar_yes', 'urinepushing_no', 'miccao_yes'],\n",
       "       ['dorlombar_yes', 'urinepushing_no', 'queimacao_yes'],\n",
       "       ['dorlombar_yes', 'urinepushing_no', 'queimacao_no'],\n",
       "       ['dorlombar_yes', 'urinepushing_no', 'inflamacao_no'],\n",
       "       ['dorlombar_yes', 'urinepushing_no', 'inflamacao_yes'],\n",
       "       ['dorlombar_yes', 'urinepushing_yes', 'miccao_no'],\n",
       "       ['dorlombar_yes', 'urinepushing_yes', 'miccao_yes'],\n",
       "       ['dorlombar_yes', 'urinepushing_yes', 'queimacao_yes'],\n",
       "       ['dorlombar_yes', 'urinepushing_yes', 'queimacao_no'],\n",
       "       ['dorlombar_yes', 'urinepushing_yes', 'inflamacao_no'],\n",
       "       ['dorlombar_yes', 'urinepushing_yes', 'inflamacao_yes'],\n",
       "       ['dorlombar_yes', 'miccao_no', 'miccao_yes'],\n",
       "       ['dorlombar_yes', 'miccao_no', 'queimacao_yes'],\n",
       "       ['dorlombar_yes', 'miccao_no', 'queimacao_no'],\n",
       "       ['dorlombar_yes', 'miccao_no', 'inflamacao_no'],\n",
       "       ['dorlombar_yes', 'miccao_no', 'inflamacao_yes'],\n",
       "       ['dorlombar_yes', 'miccao_yes', 'queimacao_yes'],\n",
       "       ['dorlombar_yes', 'miccao_yes', 'queimacao_no'],\n",
       "       ['dorlombar_yes', 'miccao_yes', 'inflamacao_no'],\n",
       "       ['dorlombar_yes', 'miccao_yes', 'inflamacao_yes'],\n",
       "       ['dorlombar_yes', 'queimacao_yes', 'queimacao_no'],\n",
       "       ['dorlombar_yes', 'queimacao_yes', 'inflamacao_no'],\n",
       "       ['dorlombar_yes', 'queimacao_yes', 'inflamacao_yes'],\n",
       "       ['dorlombar_yes', 'queimacao_no', 'inflamacao_no'],\n",
       "       ['dorlombar_yes', 'queimacao_no', 'inflamacao_yes'],\n",
       "       ['dorlombar_yes', 'inflamacao_no', 'inflamacao_yes'],\n",
       "       ['urinepushing_no', 'urinepushing_yes', 'miccao_no'],\n",
       "       ['urinepushing_no', 'urinepushing_yes', 'miccao_yes'],\n",
       "       ['urinepushing_no', 'urinepushing_yes', 'queimacao_yes'],\n",
       "       ['urinepushing_no', 'urinepushing_yes', 'queimacao_no'],\n",
       "       ['urinepushing_no', 'urinepushing_yes', 'inflamacao_no'],\n",
       "       ['urinepushing_no', 'urinepushing_yes', 'inflamacao_yes'],\n",
       "       ['urinepushing_no', 'miccao_no', 'miccao_yes'],\n",
       "       ['urinepushing_no', 'miccao_no', 'queimacao_yes'],\n",
       "       ['urinepushing_no', 'miccao_no', 'queimacao_no'],\n",
       "       ['urinepushing_no', 'miccao_no', 'inflamacao_no'],\n",
       "       ['urinepushing_no', 'miccao_no', 'inflamacao_yes'],\n",
       "       ['urinepushing_no', 'miccao_yes', 'queimacao_yes'],\n",
       "       ['urinepushing_no', 'miccao_yes', 'queimacao_no'],\n",
       "       ['urinepushing_no', 'miccao_yes', 'inflamacao_no'],\n",
       "       ['urinepushing_no', 'miccao_yes', 'inflamacao_yes'],\n",
       "       ['urinepushing_no', 'queimacao_yes', 'queimacao_no'],\n",
       "       ['urinepushing_no', 'queimacao_yes', 'inflamacao_no'],\n",
       "       ['urinepushing_no', 'queimacao_yes', 'inflamacao_yes'],\n",
       "       ['urinepushing_no', 'queimacao_no', 'inflamacao_no'],\n",
       "       ['urinepushing_no', 'queimacao_no', 'inflamacao_yes'],\n",
       "       ['urinepushing_no', 'inflamacao_no', 'inflamacao_yes'],\n",
       "       ['urinepushing_yes', 'miccao_no', 'miccao_yes'],\n",
       "       ['urinepushing_yes', 'miccao_no', 'queimacao_yes'],\n",
       "       ['urinepushing_yes', 'miccao_no', 'queimacao_no'],\n",
       "       ['urinepushing_yes', 'miccao_no', 'inflamacao_no'],\n",
       "       ['urinepushing_yes', 'miccao_no', 'inflamacao_yes'],\n",
       "       ['urinepushing_yes', 'miccao_yes', 'queimacao_yes'],\n",
       "       ['urinepushing_yes', 'miccao_yes', 'queimacao_no'],\n",
       "       ['urinepushing_yes', 'miccao_yes', 'inflamacao_no'],\n",
       "       ['urinepushing_yes', 'miccao_yes', 'inflamacao_yes'],\n",
       "       ['urinepushing_yes', 'queimacao_yes', 'queimacao_no'],\n",
       "       ['urinepushing_yes', 'queimacao_yes', 'inflamacao_no'],\n",
       "       ['urinepushing_yes', 'queimacao_yes', 'inflamacao_yes'],\n",
       "       ['urinepushing_yes', 'queimacao_no', 'inflamacao_no'],\n",
       "       ['urinepushing_yes', 'queimacao_no', 'inflamacao_yes'],\n",
       "       ['urinepushing_yes', 'inflamacao_no', 'inflamacao_yes'],\n",
       "       ['miccao_no', 'miccao_yes', 'queimacao_yes'],\n",
       "       ['miccao_no', 'miccao_yes', 'queimacao_no'],\n",
       "       ['miccao_no', 'miccao_yes', 'inflamacao_no'],\n",
       "       ['miccao_no', 'miccao_yes', 'inflamacao_yes'],\n",
       "       ['miccao_no', 'queimacao_yes', 'queimacao_no'],\n",
       "       ['miccao_no', 'queimacao_yes', 'inflamacao_no'],\n",
       "       ['miccao_no', 'queimacao_yes', 'inflamacao_yes'],\n",
       "       ['miccao_no', 'queimacao_no', 'inflamacao_no'],\n",
       "       ['miccao_no', 'queimacao_no', 'inflamacao_yes'],\n",
       "       ['miccao_no', 'inflamacao_no', 'inflamacao_yes'],\n",
       "       ['miccao_yes', 'queimacao_yes', 'queimacao_no'],\n",
       "       ['miccao_yes', 'queimacao_yes', 'inflamacao_no'],\n",
       "       ['miccao_yes', 'queimacao_yes', 'inflamacao_yes'],\n",
       "       ['miccao_yes', 'queimacao_no', 'inflamacao_no'],\n",
       "       ['miccao_yes', 'queimacao_no', 'inflamacao_yes'],\n",
       "       ['miccao_yes', 'inflamacao_no', 'inflamacao_yes'],\n",
       "       ['queimacao_yes', 'queimacao_no', 'inflamacao_no'],\n",
       "       ['queimacao_yes', 'queimacao_no', 'inflamacao_yes'],\n",
       "       ['queimacao_yes', 'inflamacao_no', 'inflamacao_yes'],\n",
       "       ['queimacao_no', 'inflamacao_no', 'inflamacao_yes']], dtype=object)"
      ]
     },
     "execution_count": 13,
     "metadata": {},
     "output_type": "execute_result"
    }
   ],
   "source": [
    "model.group_features_"
   ]
  },
  {
   "cell_type": "code",
   "execution_count": 14,
   "metadata": {},
   "outputs": [
    {
     "data": {
      "text/plain": [
       "{'nausea': array(['no', 'yes'], dtype=object),\n",
       " 'dorlombar': array(['no', 'yes'], dtype=object),\n",
       " 'urinepushing': array(['no', 'yes'], dtype=object),\n",
       " 'miccao': array(['no', 'yes'], dtype=object),\n",
       " 'queimacao': array(['yes', 'no'], dtype=object),\n",
       " 'inflamacao': array(['no', 'yes'], dtype=object)}"
      ]
     },
     "execution_count": 14,
     "metadata": {},
     "output_type": "execute_result"
    }
   ],
   "source": [
    "model.encoder_feature"
   ]
  },
  {
   "cell_type": "code",
   "execution_count": 16,
   "metadata": {},
   "outputs": [
    {
     "ename": "AttributeError",
     "evalue": "'dict' object has no attribute 'item'",
     "output_type": "error",
     "traceback": [
      "Traceback \u001b[1;36m(most recent call last)\u001b[0m:\n",
      "\u001b[1;36m  File \u001b[1;32m\"<ipython-input-16-c30ef123d6f6>\"\u001b[1;36m, line \u001b[1;32m1\u001b[1;36m, in \u001b[1;35m<module>\u001b[1;36m\u001b[0m\n\u001b[1;33m    for c in model.encoder_feature.item():\u001b[0m\n",
      "\u001b[1;31mAttributeError\u001b[0m\u001b[1;31m:\u001b[0m 'dict' object has no attribute 'item'\n"
     ]
    }
   ],
   "source": [
    "for c in model.encoder_feature.item():\n",
    "    print(c)"
   ]
  },
  {
   "cell_type": "code",
   "execution_count": null,
   "metadata": {},
   "outputs": [],
   "source": []
  }
 ],
 "metadata": {
  "kernelspec": {
   "display_name": "Python 3 (Spyder)",
   "language": "python3",
   "name": "python3"
  },
  "language_info": {
   "codemirror_mode": {
    "name": "ipython",
    "version": 3
   },
   "file_extension": ".py",
   "mimetype": "text/x-python",
   "name": "python",
   "nbconvert_exporter": "python",
   "pygments_lexer": "ipython3",
   "version": "3.7.2"
  }
 },
 "nbformat": 4,
 "nbformat_minor": 2
}
