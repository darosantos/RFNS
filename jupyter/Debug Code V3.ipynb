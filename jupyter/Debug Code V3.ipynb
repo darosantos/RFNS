{
 "cells": [
  {
   "cell_type": "code",
   "execution_count": 1,
   "metadata": {},
   "outputs": [],
   "source": [
    "import sys\n",
    "sys.path.append('C:\\\\Users\\\\Danilo Santos\\\\Desktop\\\\Qualificação PPGCC\\\\abordagem\\\\RFNS')\n",
    "from grimoire.EnginneringForest import EnginneringForest"
   ]
  },
  {
   "cell_type": "code",
   "execution_count": 2,
   "metadata": {},
   "outputs": [],
   "source": [
    "import pandas as pd\n",
    "\n",
    "from sklearn.model_selection import train_test_split"
   ]
  },
  {
   "cell_type": "code",
   "execution_count": 3,
   "metadata": {},
   "outputs": [],
   "source": [
    "df_acute = pd.read_csv('../datasets/acute/diagnosis.csv',\n",
    "                       engine='c', \n",
    "                       memory_map=True, \n",
    "                       low_memory=True)"
   ]
  },
  {
   "cell_type": "code",
   "execution_count": 4,
   "metadata": {},
   "outputs": [
    {
     "data": {
      "text/plain": [
       "(120, 8)"
      ]
     },
     "execution_count": 4,
     "metadata": {},
     "output_type": "execute_result"
    }
   ],
   "source": [
    "df_acute.shape"
   ]
  },
  {
   "cell_type": "code",
   "execution_count": 5,
   "metadata": {},
   "outputs": [],
   "source": [
    "X = df_acute[['temperatura', 'nausea', 'dorlombar', \n",
    "              'urinepushing', 'miccao', 'queimacao', 'inflamacao']]\n",
    "# Labels\n",
    "y = df_acute['target']\n",
    "\n",
    "X_train, X_test, y_train, y_test = train_test_split(X, y, test_size=0.30, \n",
    "                                                    random_state=100, \n",
    "                                                    shuffle=True, \n",
    "                                                    stratify=y)"
   ]
  },
  {
   "cell_type": "code",
   "execution_count": 22,
   "metadata": {},
   "outputs": [
    {
     "data": {
      "text/plain": [
       "(36, 7)"
      ]
     },
     "execution_count": 22,
     "metadata": {},
     "output_type": "execute_result"
    }
   ],
   "source": [
    "X_test.shape"
   ]
  },
  {
   "cell_type": "code",
   "execution_count": 6,
   "metadata": {},
   "outputs": [],
   "source": [
    "model = EnginneringForest(3)"
   ]
  },
  {
   "cell_type": "code",
   "execution_count": 7,
   "metadata": {},
   "outputs": [],
   "source": [
    "model.encoder_enable = True\n",
    "model.encoder_target = True\n",
    "model.encoder_data = True\n",
    "model.normalize_enable = True\n",
    "model.estrategy_trainning = 0 #testar com 1\n",
    "model.is_data_categorical = True\n",
    "\n",
    "model.run_logging()"
   ]
  },
  {
   "cell_type": "code",
   "execution_count": 8,
   "metadata": {},
   "outputs": [],
   "source": [
    "model.fit(X_train, y_train)"
   ]
  },
  {
   "cell_type": "code",
   "execution_count": 9,
   "metadata": {},
   "outputs": [
    {
     "data": {
      "text/plain": [
       "286"
      ]
     },
     "execution_count": 9,
     "metadata": {},
     "output_type": "execute_result"
    }
   ],
   "source": [
    "len(model.estimators_)"
   ]
  },
  {
   "cell_type": "code",
   "execution_count": 10,
   "metadata": {},
   "outputs": [
    {
     "data": {
      "text/plain": [
       "3"
      ]
     },
     "execution_count": 10,
     "metadata": {},
     "output_type": "execute_result"
    }
   ],
   "source": [
    "model.select_features_"
   ]
  },
  {
   "cell_type": "code",
   "execution_count": 11,
   "metadata": {},
   "outputs": [
    {
     "data": {
      "text/plain": [
       "array([['temperatura', 'nausea_no', 'nausea_yes'],\n",
       "       ['temperatura', 'nausea_no', 'dorlombar_no'],\n",
       "       ['temperatura', 'nausea_no', 'dorlombar_yes'],\n",
       "       ['temperatura', 'nausea_no', 'urinepushing_no'],\n",
       "       ['temperatura', 'nausea_no', 'urinepushing_yes'],\n",
       "       ['temperatura', 'nausea_no', 'miccao_no'],\n",
       "       ['temperatura', 'nausea_no', 'miccao_yes'],\n",
       "       ['temperatura', 'nausea_no', 'queimacao_yes'],\n",
       "       ['temperatura', 'nausea_no', 'queimacao_no'],\n",
       "       ['temperatura', 'nausea_no', 'inflamacao_no'],\n",
       "       ['temperatura', 'nausea_no', 'inflamacao_yes'],\n",
       "       ['temperatura', 'nausea_yes', 'dorlombar_no'],\n",
       "       ['temperatura', 'nausea_yes', 'dorlombar_yes'],\n",
       "       ['temperatura', 'nausea_yes', 'urinepushing_no'],\n",
       "       ['temperatura', 'nausea_yes', 'urinepushing_yes'],\n",
       "       ['temperatura', 'nausea_yes', 'miccao_no'],\n",
       "       ['temperatura', 'nausea_yes', 'miccao_yes'],\n",
       "       ['temperatura', 'nausea_yes', 'queimacao_yes'],\n",
       "       ['temperatura', 'nausea_yes', 'queimacao_no'],\n",
       "       ['temperatura', 'nausea_yes', 'inflamacao_no'],\n",
       "       ['temperatura', 'nausea_yes', 'inflamacao_yes'],\n",
       "       ['temperatura', 'dorlombar_no', 'dorlombar_yes'],\n",
       "       ['temperatura', 'dorlombar_no', 'urinepushing_no'],\n",
       "       ['temperatura', 'dorlombar_no', 'urinepushing_yes'],\n",
       "       ['temperatura', 'dorlombar_no', 'miccao_no'],\n",
       "       ['temperatura', 'dorlombar_no', 'miccao_yes'],\n",
       "       ['temperatura', 'dorlombar_no', 'queimacao_yes'],\n",
       "       ['temperatura', 'dorlombar_no', 'queimacao_no'],\n",
       "       ['temperatura', 'dorlombar_no', 'inflamacao_no'],\n",
       "       ['temperatura', 'dorlombar_no', 'inflamacao_yes'],\n",
       "       ['temperatura', 'dorlombar_yes', 'urinepushing_no'],\n",
       "       ['temperatura', 'dorlombar_yes', 'urinepushing_yes'],\n",
       "       ['temperatura', 'dorlombar_yes', 'miccao_no'],\n",
       "       ['temperatura', 'dorlombar_yes', 'miccao_yes'],\n",
       "       ['temperatura', 'dorlombar_yes', 'queimacao_yes'],\n",
       "       ['temperatura', 'dorlombar_yes', 'queimacao_no'],\n",
       "       ['temperatura', 'dorlombar_yes', 'inflamacao_no'],\n",
       "       ['temperatura', 'dorlombar_yes', 'inflamacao_yes'],\n",
       "       ['temperatura', 'urinepushing_no', 'urinepushing_yes'],\n",
       "       ['temperatura', 'urinepushing_no', 'miccao_no'],\n",
       "       ['temperatura', 'urinepushing_no', 'miccao_yes'],\n",
       "       ['temperatura', 'urinepushing_no', 'queimacao_yes'],\n",
       "       ['temperatura', 'urinepushing_no', 'queimacao_no'],\n",
       "       ['temperatura', 'urinepushing_no', 'inflamacao_no'],\n",
       "       ['temperatura', 'urinepushing_no', 'inflamacao_yes'],\n",
       "       ['temperatura', 'urinepushing_yes', 'miccao_no'],\n",
       "       ['temperatura', 'urinepushing_yes', 'miccao_yes'],\n",
       "       ['temperatura', 'urinepushing_yes', 'queimacao_yes'],\n",
       "       ['temperatura', 'urinepushing_yes', 'queimacao_no'],\n",
       "       ['temperatura', 'urinepushing_yes', 'inflamacao_no'],\n",
       "       ['temperatura', 'urinepushing_yes', 'inflamacao_yes'],\n",
       "       ['temperatura', 'miccao_no', 'miccao_yes'],\n",
       "       ['temperatura', 'miccao_no', 'queimacao_yes'],\n",
       "       ['temperatura', 'miccao_no', 'queimacao_no'],\n",
       "       ['temperatura', 'miccao_no', 'inflamacao_no'],\n",
       "       ['temperatura', 'miccao_no', 'inflamacao_yes'],\n",
       "       ['temperatura', 'miccao_yes', 'queimacao_yes'],\n",
       "       ['temperatura', 'miccao_yes', 'queimacao_no'],\n",
       "       ['temperatura', 'miccao_yes', 'inflamacao_no'],\n",
       "       ['temperatura', 'miccao_yes', 'inflamacao_yes'],\n",
       "       ['temperatura', 'queimacao_yes', 'queimacao_no'],\n",
       "       ['temperatura', 'queimacao_yes', 'inflamacao_no'],\n",
       "       ['temperatura', 'queimacao_yes', 'inflamacao_yes'],\n",
       "       ['temperatura', 'queimacao_no', 'inflamacao_no'],\n",
       "       ['temperatura', 'queimacao_no', 'inflamacao_yes'],\n",
       "       ['temperatura', 'inflamacao_no', 'inflamacao_yes'],\n",
       "       ['nausea_no', 'nausea_yes', 'dorlombar_no'],\n",
       "       ['nausea_no', 'nausea_yes', 'dorlombar_yes'],\n",
       "       ['nausea_no', 'nausea_yes', 'urinepushing_no'],\n",
       "       ['nausea_no', 'nausea_yes', 'urinepushing_yes'],\n",
       "       ['nausea_no', 'nausea_yes', 'miccao_no'],\n",
       "       ['nausea_no', 'nausea_yes', 'miccao_yes'],\n",
       "       ['nausea_no', 'nausea_yes', 'queimacao_yes'],\n",
       "       ['nausea_no', 'nausea_yes', 'queimacao_no'],\n",
       "       ['nausea_no', 'nausea_yes', 'inflamacao_no'],\n",
       "       ['nausea_no', 'nausea_yes', 'inflamacao_yes'],\n",
       "       ['nausea_no', 'dorlombar_no', 'dorlombar_yes'],\n",
       "       ['nausea_no', 'dorlombar_no', 'urinepushing_no'],\n",
       "       ['nausea_no', 'dorlombar_no', 'urinepushing_yes'],\n",
       "       ['nausea_no', 'dorlombar_no', 'miccao_no'],\n",
       "       ['nausea_no', 'dorlombar_no', 'miccao_yes'],\n",
       "       ['nausea_no', 'dorlombar_no', 'queimacao_yes'],\n",
       "       ['nausea_no', 'dorlombar_no', 'queimacao_no'],\n",
       "       ['nausea_no', 'dorlombar_no', 'inflamacao_no'],\n",
       "       ['nausea_no', 'dorlombar_no', 'inflamacao_yes'],\n",
       "       ['nausea_no', 'dorlombar_yes', 'urinepushing_no'],\n",
       "       ['nausea_no', 'dorlombar_yes', 'urinepushing_yes'],\n",
       "       ['nausea_no', 'dorlombar_yes', 'miccao_no'],\n",
       "       ['nausea_no', 'dorlombar_yes', 'miccao_yes'],\n",
       "       ['nausea_no', 'dorlombar_yes', 'queimacao_yes'],\n",
       "       ['nausea_no', 'dorlombar_yes', 'queimacao_no'],\n",
       "       ['nausea_no', 'dorlombar_yes', 'inflamacao_no'],\n",
       "       ['nausea_no', 'dorlombar_yes', 'inflamacao_yes'],\n",
       "       ['nausea_no', 'urinepushing_no', 'urinepushing_yes'],\n",
       "       ['nausea_no', 'urinepushing_no', 'miccao_no'],\n",
       "       ['nausea_no', 'urinepushing_no', 'miccao_yes'],\n",
       "       ['nausea_no', 'urinepushing_no', 'queimacao_yes'],\n",
       "       ['nausea_no', 'urinepushing_no', 'queimacao_no'],\n",
       "       ['nausea_no', 'urinepushing_no', 'inflamacao_no'],\n",
       "       ['nausea_no', 'urinepushing_no', 'inflamacao_yes'],\n",
       "       ['nausea_no', 'urinepushing_yes', 'miccao_no'],\n",
       "       ['nausea_no', 'urinepushing_yes', 'miccao_yes'],\n",
       "       ['nausea_no', 'urinepushing_yes', 'queimacao_yes'],\n",
       "       ['nausea_no', 'urinepushing_yes', 'queimacao_no'],\n",
       "       ['nausea_no', 'urinepushing_yes', 'inflamacao_no'],\n",
       "       ['nausea_no', 'urinepushing_yes', 'inflamacao_yes'],\n",
       "       ['nausea_no', 'miccao_no', 'miccao_yes'],\n",
       "       ['nausea_no', 'miccao_no', 'queimacao_yes'],\n",
       "       ['nausea_no', 'miccao_no', 'queimacao_no'],\n",
       "       ['nausea_no', 'miccao_no', 'inflamacao_no'],\n",
       "       ['nausea_no', 'miccao_no', 'inflamacao_yes'],\n",
       "       ['nausea_no', 'miccao_yes', 'queimacao_yes'],\n",
       "       ['nausea_no', 'miccao_yes', 'queimacao_no'],\n",
       "       ['nausea_no', 'miccao_yes', 'inflamacao_no'],\n",
       "       ['nausea_no', 'miccao_yes', 'inflamacao_yes'],\n",
       "       ['nausea_no', 'queimacao_yes', 'queimacao_no'],\n",
       "       ['nausea_no', 'queimacao_yes', 'inflamacao_no'],\n",
       "       ['nausea_no', 'queimacao_yes', 'inflamacao_yes'],\n",
       "       ['nausea_no', 'queimacao_no', 'inflamacao_no'],\n",
       "       ['nausea_no', 'queimacao_no', 'inflamacao_yes'],\n",
       "       ['nausea_no', 'inflamacao_no', 'inflamacao_yes'],\n",
       "       ['nausea_yes', 'dorlombar_no', 'dorlombar_yes'],\n",
       "       ['nausea_yes', 'dorlombar_no', 'urinepushing_no'],\n",
       "       ['nausea_yes', 'dorlombar_no', 'urinepushing_yes'],\n",
       "       ['nausea_yes', 'dorlombar_no', 'miccao_no'],\n",
       "       ['nausea_yes', 'dorlombar_no', 'miccao_yes'],\n",
       "       ['nausea_yes', 'dorlombar_no', 'queimacao_yes'],\n",
       "       ['nausea_yes', 'dorlombar_no', 'queimacao_no'],\n",
       "       ['nausea_yes', 'dorlombar_no', 'inflamacao_no'],\n",
       "       ['nausea_yes', 'dorlombar_no', 'inflamacao_yes'],\n",
       "       ['nausea_yes', 'dorlombar_yes', 'urinepushing_no'],\n",
       "       ['nausea_yes', 'dorlombar_yes', 'urinepushing_yes'],\n",
       "       ['nausea_yes', 'dorlombar_yes', 'miccao_no'],\n",
       "       ['nausea_yes', 'dorlombar_yes', 'miccao_yes'],\n",
       "       ['nausea_yes', 'dorlombar_yes', 'queimacao_yes'],\n",
       "       ['nausea_yes', 'dorlombar_yes', 'queimacao_no'],\n",
       "       ['nausea_yes', 'dorlombar_yes', 'inflamacao_no'],\n",
       "       ['nausea_yes', 'dorlombar_yes', 'inflamacao_yes'],\n",
       "       ['nausea_yes', 'urinepushing_no', 'urinepushing_yes'],\n",
       "       ['nausea_yes', 'urinepushing_no', 'miccao_no'],\n",
       "       ['nausea_yes', 'urinepushing_no', 'miccao_yes'],\n",
       "       ['nausea_yes', 'urinepushing_no', 'queimacao_yes'],\n",
       "       ['nausea_yes', 'urinepushing_no', 'queimacao_no'],\n",
       "       ['nausea_yes', 'urinepushing_no', 'inflamacao_no'],\n",
       "       ['nausea_yes', 'urinepushing_no', 'inflamacao_yes'],\n",
       "       ['nausea_yes', 'urinepushing_yes', 'miccao_no'],\n",
       "       ['nausea_yes', 'urinepushing_yes', 'miccao_yes'],\n",
       "       ['nausea_yes', 'urinepushing_yes', 'queimacao_yes'],\n",
       "       ['nausea_yes', 'urinepushing_yes', 'queimacao_no'],\n",
       "       ['nausea_yes', 'urinepushing_yes', 'inflamacao_no'],\n",
       "       ['nausea_yes', 'urinepushing_yes', 'inflamacao_yes'],\n",
       "       ['nausea_yes', 'miccao_no', 'miccao_yes'],\n",
       "       ['nausea_yes', 'miccao_no', 'queimacao_yes'],\n",
       "       ['nausea_yes', 'miccao_no', 'queimacao_no'],\n",
       "       ['nausea_yes', 'miccao_no', 'inflamacao_no'],\n",
       "       ['nausea_yes', 'miccao_no', 'inflamacao_yes'],\n",
       "       ['nausea_yes', 'miccao_yes', 'queimacao_yes'],\n",
       "       ['nausea_yes', 'miccao_yes', 'queimacao_no'],\n",
       "       ['nausea_yes', 'miccao_yes', 'inflamacao_no'],\n",
       "       ['nausea_yes', 'miccao_yes', 'inflamacao_yes'],\n",
       "       ['nausea_yes', 'queimacao_yes', 'queimacao_no'],\n",
       "       ['nausea_yes', 'queimacao_yes', 'inflamacao_no'],\n",
       "       ['nausea_yes', 'queimacao_yes', 'inflamacao_yes'],\n",
       "       ['nausea_yes', 'queimacao_no', 'inflamacao_no'],\n",
       "       ['nausea_yes', 'queimacao_no', 'inflamacao_yes'],\n",
       "       ['nausea_yes', 'inflamacao_no', 'inflamacao_yes'],\n",
       "       ['dorlombar_no', 'dorlombar_yes', 'urinepushing_no'],\n",
       "       ['dorlombar_no', 'dorlombar_yes', 'urinepushing_yes'],\n",
       "       ['dorlombar_no', 'dorlombar_yes', 'miccao_no'],\n",
       "       ['dorlombar_no', 'dorlombar_yes', 'miccao_yes'],\n",
       "       ['dorlombar_no', 'dorlombar_yes', 'queimacao_yes'],\n",
       "       ['dorlombar_no', 'dorlombar_yes', 'queimacao_no'],\n",
       "       ['dorlombar_no', 'dorlombar_yes', 'inflamacao_no'],\n",
       "       ['dorlombar_no', 'dorlombar_yes', 'inflamacao_yes'],\n",
       "       ['dorlombar_no', 'urinepushing_no', 'urinepushing_yes'],\n",
       "       ['dorlombar_no', 'urinepushing_no', 'miccao_no'],\n",
       "       ['dorlombar_no', 'urinepushing_no', 'miccao_yes'],\n",
       "       ['dorlombar_no', 'urinepushing_no', 'queimacao_yes'],\n",
       "       ['dorlombar_no', 'urinepushing_no', 'queimacao_no'],\n",
       "       ['dorlombar_no', 'urinepushing_no', 'inflamacao_no'],\n",
       "       ['dorlombar_no', 'urinepushing_no', 'inflamacao_yes'],\n",
       "       ['dorlombar_no', 'urinepushing_yes', 'miccao_no'],\n",
       "       ['dorlombar_no', 'urinepushing_yes', 'miccao_yes'],\n",
       "       ['dorlombar_no', 'urinepushing_yes', 'queimacao_yes'],\n",
       "       ['dorlombar_no', 'urinepushing_yes', 'queimacao_no'],\n",
       "       ['dorlombar_no', 'urinepushing_yes', 'inflamacao_no'],\n",
       "       ['dorlombar_no', 'urinepushing_yes', 'inflamacao_yes'],\n",
       "       ['dorlombar_no', 'miccao_no', 'miccao_yes'],\n",
       "       ['dorlombar_no', 'miccao_no', 'queimacao_yes'],\n",
       "       ['dorlombar_no', 'miccao_no', 'queimacao_no'],\n",
       "       ['dorlombar_no', 'miccao_no', 'inflamacao_no'],\n",
       "       ['dorlombar_no', 'miccao_no', 'inflamacao_yes'],\n",
       "       ['dorlombar_no', 'miccao_yes', 'queimacao_yes'],\n",
       "       ['dorlombar_no', 'miccao_yes', 'queimacao_no'],\n",
       "       ['dorlombar_no', 'miccao_yes', 'inflamacao_no'],\n",
       "       ['dorlombar_no', 'miccao_yes', 'inflamacao_yes'],\n",
       "       ['dorlombar_no', 'queimacao_yes', 'queimacao_no'],\n",
       "       ['dorlombar_no', 'queimacao_yes', 'inflamacao_no'],\n",
       "       ['dorlombar_no', 'queimacao_yes', 'inflamacao_yes'],\n",
       "       ['dorlombar_no', 'queimacao_no', 'inflamacao_no'],\n",
       "       ['dorlombar_no', 'queimacao_no', 'inflamacao_yes'],\n",
       "       ['dorlombar_no', 'inflamacao_no', 'inflamacao_yes'],\n",
       "       ['dorlombar_yes', 'urinepushing_no', 'urinepushing_yes'],\n",
       "       ['dorlombar_yes', 'urinepushing_no', 'miccao_no'],\n",
       "       ['dorlombar_yes', 'urinepushing_no', 'miccao_yes'],\n",
       "       ['dorlombar_yes', 'urinepushing_no', 'queimacao_yes'],\n",
       "       ['dorlombar_yes', 'urinepushing_no', 'queimacao_no'],\n",
       "       ['dorlombar_yes', 'urinepushing_no', 'inflamacao_no'],\n",
       "       ['dorlombar_yes', 'urinepushing_no', 'inflamacao_yes'],\n",
       "       ['dorlombar_yes', 'urinepushing_yes', 'miccao_no'],\n",
       "       ['dorlombar_yes', 'urinepushing_yes', 'miccao_yes'],\n",
       "       ['dorlombar_yes', 'urinepushing_yes', 'queimacao_yes'],\n",
       "       ['dorlombar_yes', 'urinepushing_yes', 'queimacao_no'],\n",
       "       ['dorlombar_yes', 'urinepushing_yes', 'inflamacao_no'],\n",
       "       ['dorlombar_yes', 'urinepushing_yes', 'inflamacao_yes'],\n",
       "       ['dorlombar_yes', 'miccao_no', 'miccao_yes'],\n",
       "       ['dorlombar_yes', 'miccao_no', 'queimacao_yes'],\n",
       "       ['dorlombar_yes', 'miccao_no', 'queimacao_no'],\n",
       "       ['dorlombar_yes', 'miccao_no', 'inflamacao_no'],\n",
       "       ['dorlombar_yes', 'miccao_no', 'inflamacao_yes'],\n",
       "       ['dorlombar_yes', 'miccao_yes', 'queimacao_yes'],\n",
       "       ['dorlombar_yes', 'miccao_yes', 'queimacao_no'],\n",
       "       ['dorlombar_yes', 'miccao_yes', 'inflamacao_no'],\n",
       "       ['dorlombar_yes', 'miccao_yes', 'inflamacao_yes'],\n",
       "       ['dorlombar_yes', 'queimacao_yes', 'queimacao_no'],\n",
       "       ['dorlombar_yes', 'queimacao_yes', 'inflamacao_no'],\n",
       "       ['dorlombar_yes', 'queimacao_yes', 'inflamacao_yes'],\n",
       "       ['dorlombar_yes', 'queimacao_no', 'inflamacao_no'],\n",
       "       ['dorlombar_yes', 'queimacao_no', 'inflamacao_yes'],\n",
       "       ['dorlombar_yes', 'inflamacao_no', 'inflamacao_yes'],\n",
       "       ['urinepushing_no', 'urinepushing_yes', 'miccao_no'],\n",
       "       ['urinepushing_no', 'urinepushing_yes', 'miccao_yes'],\n",
       "       ['urinepushing_no', 'urinepushing_yes', 'queimacao_yes'],\n",
       "       ['urinepushing_no', 'urinepushing_yes', 'queimacao_no'],\n",
       "       ['urinepushing_no', 'urinepushing_yes', 'inflamacao_no'],\n",
       "       ['urinepushing_no', 'urinepushing_yes', 'inflamacao_yes'],\n",
       "       ['urinepushing_no', 'miccao_no', 'miccao_yes'],\n",
       "       ['urinepushing_no', 'miccao_no', 'queimacao_yes'],\n",
       "       ['urinepushing_no', 'miccao_no', 'queimacao_no'],\n",
       "       ['urinepushing_no', 'miccao_no', 'inflamacao_no'],\n",
       "       ['urinepushing_no', 'miccao_no', 'inflamacao_yes'],\n",
       "       ['urinepushing_no', 'miccao_yes', 'queimacao_yes'],\n",
       "       ['urinepushing_no', 'miccao_yes', 'queimacao_no'],\n",
       "       ['urinepushing_no', 'miccao_yes', 'inflamacao_no'],\n",
       "       ['urinepushing_no', 'miccao_yes', 'inflamacao_yes'],\n",
       "       ['urinepushing_no', 'queimacao_yes', 'queimacao_no'],\n",
       "       ['urinepushing_no', 'queimacao_yes', 'inflamacao_no'],\n",
       "       ['urinepushing_no', 'queimacao_yes', 'inflamacao_yes'],\n",
       "       ['urinepushing_no', 'queimacao_no', 'inflamacao_no'],\n",
       "       ['urinepushing_no', 'queimacao_no', 'inflamacao_yes'],\n",
       "       ['urinepushing_no', 'inflamacao_no', 'inflamacao_yes'],\n",
       "       ['urinepushing_yes', 'miccao_no', 'miccao_yes'],\n",
       "       ['urinepushing_yes', 'miccao_no', 'queimacao_yes'],\n",
       "       ['urinepushing_yes', 'miccao_no', 'queimacao_no'],\n",
       "       ['urinepushing_yes', 'miccao_no', 'inflamacao_no'],\n",
       "       ['urinepushing_yes', 'miccao_no', 'inflamacao_yes'],\n",
       "       ['urinepushing_yes', 'miccao_yes', 'queimacao_yes'],\n",
       "       ['urinepushing_yes', 'miccao_yes', 'queimacao_no'],\n",
       "       ['urinepushing_yes', 'miccao_yes', 'inflamacao_no'],\n",
       "       ['urinepushing_yes', 'miccao_yes', 'inflamacao_yes'],\n",
       "       ['urinepushing_yes', 'queimacao_yes', 'queimacao_no'],\n",
       "       ['urinepushing_yes', 'queimacao_yes', 'inflamacao_no'],\n",
       "       ['urinepushing_yes', 'queimacao_yes', 'inflamacao_yes'],\n",
       "       ['urinepushing_yes', 'queimacao_no', 'inflamacao_no'],\n",
       "       ['urinepushing_yes', 'queimacao_no', 'inflamacao_yes'],\n",
       "       ['urinepushing_yes', 'inflamacao_no', 'inflamacao_yes'],\n",
       "       ['miccao_no', 'miccao_yes', 'queimacao_yes'],\n",
       "       ['miccao_no', 'miccao_yes', 'queimacao_no'],\n",
       "       ['miccao_no', 'miccao_yes', 'inflamacao_no'],\n",
       "       ['miccao_no', 'miccao_yes', 'inflamacao_yes'],\n",
       "       ['miccao_no', 'queimacao_yes', 'queimacao_no'],\n",
       "       ['miccao_no', 'queimacao_yes', 'inflamacao_no'],\n",
       "       ['miccao_no', 'queimacao_yes', 'inflamacao_yes'],\n",
       "       ['miccao_no', 'queimacao_no', 'inflamacao_no'],\n",
       "       ['miccao_no', 'queimacao_no', 'inflamacao_yes'],\n",
       "       ['miccao_no', 'inflamacao_no', 'inflamacao_yes'],\n",
       "       ['miccao_yes', 'queimacao_yes', 'queimacao_no'],\n",
       "       ['miccao_yes', 'queimacao_yes', 'inflamacao_no'],\n",
       "       ['miccao_yes', 'queimacao_yes', 'inflamacao_yes'],\n",
       "       ['miccao_yes', 'queimacao_no', 'inflamacao_no'],\n",
       "       ['miccao_yes', 'queimacao_no', 'inflamacao_yes'],\n",
       "       ['miccao_yes', 'inflamacao_no', 'inflamacao_yes'],\n",
       "       ['queimacao_yes', 'queimacao_no', 'inflamacao_no'],\n",
       "       ['queimacao_yes', 'queimacao_no', 'inflamacao_yes'],\n",
       "       ['queimacao_yes', 'inflamacao_no', 'inflamacao_yes'],\n",
       "       ['queimacao_no', 'inflamacao_no', 'inflamacao_yes']], dtype=object)"
      ]
     },
     "execution_count": 11,
     "metadata": {},
     "output_type": "execute_result"
    }
   ],
   "source": [
    "model.group_features_"
   ]
  },
  {
   "cell_type": "code",
   "execution_count": 12,
   "metadata": {},
   "outputs": [
    {
     "data": {
      "text/plain": [
       "286"
      ]
     },
     "execution_count": 12,
     "metadata": {},
     "output_type": "execute_result"
    }
   ],
   "source": [
    "len(model.group_features_)"
   ]
  },
  {
   "cell_type": "code",
   "execution_count": 13,
   "metadata": {},
   "outputs": [
    {
     "data": {
      "text/plain": [
       "13"
      ]
     },
     "execution_count": 13,
     "metadata": {},
     "output_type": "execute_result"
    }
   ],
   "source": [
    "model.n_features_"
   ]
  },
  {
   "cell_type": "code",
   "execution_count": 14,
   "metadata": {},
   "outputs": [
    {
     "data": {
      "text/plain": [
       "84"
      ]
     },
     "execution_count": 14,
     "metadata": {},
     "output_type": "execute_result"
    }
   ],
   "source": [
    "model.n_samples_"
   ]
  },
  {
   "cell_type": "code",
   "execution_count": 15,
   "metadata": {},
   "outputs": [
    {
     "data": {
      "text/plain": [
       "0"
      ]
     },
     "execution_count": 15,
     "metadata": {},
     "output_type": "execute_result"
    }
   ],
   "source": [
    "model.estrategy_trainning"
   ]
  },
  {
   "cell_type": "code",
   "execution_count": 16,
   "metadata": {},
   "outputs": [
    {
     "data": {
      "text/plain": [
       "True"
      ]
     },
     "execution_count": 16,
     "metadata": {},
     "output_type": "execute_result"
    }
   ],
   "source": [
    "model.is_data_categorical"
   ]
  },
  {
   "cell_type": "code",
   "execution_count": 17,
   "metadata": {},
   "outputs": [
    {
     "data": {
      "text/plain": [
       "(84, 13)"
      ]
     },
     "execution_count": 17,
     "metadata": {},
     "output_type": "execute_result"
    }
   ],
   "source": [
    "model.train_X.shape"
   ]
  },
  {
   "cell_type": "code",
   "execution_count": 18,
   "metadata": {},
   "outputs": [
    {
     "data": {
      "text/html": [
       "<div>\n",
       "<style scoped>\n",
       "    .dataframe tbody tr th:only-of-type {\n",
       "        vertical-align: middle;\n",
       "    }\n",
       "\n",
       "    .dataframe tbody tr th {\n",
       "        vertical-align: top;\n",
       "    }\n",
       "\n",
       "    .dataframe thead th {\n",
       "        text-align: right;\n",
       "    }\n",
       "</style>\n",
       "<table border=\"1\" class=\"dataframe\">\n",
       "  <thead>\n",
       "    <tr style=\"text-align: right;\">\n",
       "      <th></th>\n",
       "      <th>temperatura</th>\n",
       "      <th>nausea_no</th>\n",
       "      <th>nausea_yes</th>\n",
       "      <th>dorlombar_no</th>\n",
       "      <th>dorlombar_yes</th>\n",
       "      <th>urinepushing_no</th>\n",
       "      <th>urinepushing_yes</th>\n",
       "      <th>miccao_no</th>\n",
       "      <th>miccao_yes</th>\n",
       "      <th>queimacao_yes</th>\n",
       "      <th>queimacao_no</th>\n",
       "      <th>inflamacao_no</th>\n",
       "      <th>inflamacao_yes</th>\n",
       "    </tr>\n",
       "  </thead>\n",
       "  <tbody>\n",
       "    <tr>\n",
       "      <th>106</th>\n",
       "      <td>1.311578</td>\n",
       "      <td>0.0</td>\n",
       "      <td>1.0</td>\n",
       "      <td>0.0</td>\n",
       "      <td>1.0</td>\n",
       "      <td>0.0</td>\n",
       "      <td>1.0</td>\n",
       "      <td>0.0</td>\n",
       "      <td>1.0</td>\n",
       "      <td>1.0</td>\n",
       "      <td>0.0</td>\n",
       "      <td>0.0</td>\n",
       "      <td>1.0</td>\n",
       "    </tr>\n",
       "    <tr>\n",
       "      <th>91</th>\n",
       "      <td>1.039547</td>\n",
       "      <td>0.0</td>\n",
       "      <td>1.0</td>\n",
       "      <td>0.0</td>\n",
       "      <td>1.0</td>\n",
       "      <td>1.0</td>\n",
       "      <td>0.0</td>\n",
       "      <td>0.0</td>\n",
       "      <td>1.0</td>\n",
       "      <td>1.0</td>\n",
       "      <td>0.0</td>\n",
       "      <td>1.0</td>\n",
       "      <td>0.0</td>\n",
       "    </tr>\n",
       "    <tr>\n",
       "      <th>32</th>\n",
       "      <td>-0.810264</td>\n",
       "      <td>1.0</td>\n",
       "      <td>0.0</td>\n",
       "      <td>0.0</td>\n",
       "      <td>1.0</td>\n",
       "      <td>1.0</td>\n",
       "      <td>0.0</td>\n",
       "      <td>1.0</td>\n",
       "      <td>0.0</td>\n",
       "      <td>1.0</td>\n",
       "      <td>0.0</td>\n",
       "      <td>1.0</td>\n",
       "      <td>0.0</td>\n",
       "    </tr>\n",
       "    <tr>\n",
       "      <th>95</th>\n",
       "      <td>1.093953</td>\n",
       "      <td>0.0</td>\n",
       "      <td>1.0</td>\n",
       "      <td>0.0</td>\n",
       "      <td>1.0</td>\n",
       "      <td>1.0</td>\n",
       "      <td>0.0</td>\n",
       "      <td>0.0</td>\n",
       "      <td>1.0</td>\n",
       "      <td>1.0</td>\n",
       "      <td>0.0</td>\n",
       "      <td>1.0</td>\n",
       "      <td>0.0</td>\n",
       "    </tr>\n",
       "    <tr>\n",
       "      <th>31</th>\n",
       "      <td>-0.810264</td>\n",
       "      <td>1.0</td>\n",
       "      <td>0.0</td>\n",
       "      <td>1.0</td>\n",
       "      <td>0.0</td>\n",
       "      <td>0.0</td>\n",
       "      <td>1.0</td>\n",
       "      <td>0.0</td>\n",
       "      <td>1.0</td>\n",
       "      <td>1.0</td>\n",
       "      <td>0.0</td>\n",
       "      <td>0.0</td>\n",
       "      <td>1.0</td>\n",
       "    </tr>\n",
       "  </tbody>\n",
       "</table>\n",
       "</div>"
      ],
      "text/plain": [
       "     temperatura  nausea_no  nausea_yes  dorlombar_no  dorlombar_yes  \\\n",
       "106     1.311578        0.0         1.0           0.0            1.0   \n",
       "91      1.039547        0.0         1.0           0.0            1.0   \n",
       "32     -0.810264        1.0         0.0           0.0            1.0   \n",
       "95      1.093953        0.0         1.0           0.0            1.0   \n",
       "31     -0.810264        1.0         0.0           1.0            0.0   \n",
       "\n",
       "     urinepushing_no  urinepushing_yes  miccao_no  miccao_yes  queimacao_yes  \\\n",
       "106              0.0               1.0        0.0         1.0            1.0   \n",
       "91               1.0               0.0        0.0         1.0            1.0   \n",
       "32               1.0               0.0        1.0         0.0            1.0   \n",
       "95               1.0               0.0        0.0         1.0            1.0   \n",
       "31               0.0               1.0        0.0         1.0            1.0   \n",
       "\n",
       "     queimacao_no  inflamacao_no  inflamacao_yes  \n",
       "106           0.0            0.0             1.0  \n",
       "91            0.0            1.0             0.0  \n",
       "32            0.0            1.0             0.0  \n",
       "95            0.0            1.0             0.0  \n",
       "31            0.0            0.0             1.0  "
      ]
     },
     "execution_count": 18,
     "metadata": {},
     "output_type": "execute_result"
    }
   ],
   "source": [
    "model.train_X.head()"
   ]
  },
  {
   "cell_type": "code",
   "execution_count": 19,
   "metadata": {},
   "outputs": [
    {
     "data": {
      "text/plain": [
       "{0: 'no', 1: 'yes'}"
      ]
     },
     "execution_count": 19,
     "metadata": {},
     "output_type": "execute_result"
    }
   ],
   "source": [
    "model.classes_"
   ]
  },
  {
   "cell_type": "code",
   "execution_count": 20,
   "metadata": {},
   "outputs": [
    {
     "data": {
      "text/plain": [
       "[1,\n",
       " 1,\n",
       " 0,\n",
       " 1,\n",
       " 1,\n",
       " 1,\n",
       " 1,\n",
       " 0,\n",
       " 0,\n",
       " 0,\n",
       " 0,\n",
       " 0,\n",
       " 0,\n",
       " 1,\n",
       " 1,\n",
       " 0,\n",
       " 1,\n",
       " 1,\n",
       " 1,\n",
       " 0,\n",
       " 0,\n",
       " 0,\n",
       " 0,\n",
       " 0,\n",
       " 0,\n",
       " 0,\n",
       " 1,\n",
       " 0,\n",
       " 0,\n",
       " 0,\n",
       " 0,\n",
       " 1,\n",
       " 1,\n",
       " 0,\n",
       " 1,\n",
       " 1]"
      ]
     },
     "execution_count": 20,
     "metadata": {},
     "output_type": "execute_result"
    }
   ],
   "source": [
    "model.predict(X_test)"
   ]
  },
  {
   "cell_type": "code",
   "execution_count": 21,
   "metadata": {},
   "outputs": [
    {
     "data": {
      "text/plain": [
       "[1,\n",
       " 1,\n",
       " 0,\n",
       " 1,\n",
       " 1,\n",
       " 1,\n",
       " 1,\n",
       " 0,\n",
       " 0,\n",
       " 0,\n",
       " 0,\n",
       " 0,\n",
       " 0,\n",
       " 1,\n",
       " 1,\n",
       " 0,\n",
       " 1,\n",
       " 1,\n",
       " 1,\n",
       " 0,\n",
       " 0,\n",
       " 0,\n",
       " 0,\n",
       " 0,\n",
       " 0,\n",
       " 0,\n",
       " 1,\n",
       " 0,\n",
       " 0,\n",
       " 0,\n",
       " 0,\n",
       " 1,\n",
       " 1,\n",
       " 0,\n",
       " 1,\n",
       " 1]"
      ]
     },
     "execution_count": 21,
     "metadata": {},
     "output_type": "execute_result"
    }
   ],
   "source": [
    "model.vector_predict_"
   ]
  },
  {
   "cell_type": "code",
   "execution_count": 23,
   "metadata": {},
   "outputs": [],
   "source": [
    "from sklearn.metrics import accuracy_score"
   ]
  },
  {
   "cell_type": "code",
   "execution_count": 24,
   "metadata": {},
   "outputs": [],
   "source": [
    "y_pred = model.vector_predict_"
   ]
  },
  {
   "cell_type": "code",
   "execution_count": 25,
   "metadata": {},
   "outputs": [
    {
     "ename": "TypeError",
     "evalue": "'<' not supported between instances of 'int' and 'str'",
     "output_type": "error",
     "traceback": [
      "\u001b[1;31m---------------------------------------------------------------------------\u001b[0m",
      "\u001b[1;31mTypeError\u001b[0m                                 Traceback (most recent call last)",
      "\u001b[1;32m<ipython-input-25-b123e04c5193>\u001b[0m in \u001b[0;36m<module>\u001b[1;34m\u001b[0m\n\u001b[1;32m----> 1\u001b[1;33m \u001b[0maccuracy_score\u001b[0m\u001b[1;33m(\u001b[0m\u001b[0my_test\u001b[0m\u001b[1;33m,\u001b[0m \u001b[0my_pred\u001b[0m\u001b[1;33m)\u001b[0m\u001b[1;33m\u001b[0m\u001b[1;33m\u001b[0m\u001b[0m\n\u001b[0m",
      "\u001b[1;32mc:\\users\\danilo santos\\appdata\\local\\programs\\python\\python37\\lib\\site-packages\\sklearn\\metrics\\classification.py\u001b[0m in \u001b[0;36maccuracy_score\u001b[1;34m(y_true, y_pred, normalize, sample_weight)\u001b[0m\n\u001b[0;32m    174\u001b[0m \u001b[1;33m\u001b[0m\u001b[0m\n\u001b[0;32m    175\u001b[0m     \u001b[1;31m# Compute accuracy for each possible representation\u001b[0m\u001b[1;33m\u001b[0m\u001b[1;33m\u001b[0m\u001b[1;33m\u001b[0m\u001b[0m\n\u001b[1;32m--> 176\u001b[1;33m     \u001b[0my_type\u001b[0m\u001b[1;33m,\u001b[0m \u001b[0my_true\u001b[0m\u001b[1;33m,\u001b[0m \u001b[0my_pred\u001b[0m \u001b[1;33m=\u001b[0m \u001b[0m_check_targets\u001b[0m\u001b[1;33m(\u001b[0m\u001b[0my_true\u001b[0m\u001b[1;33m,\u001b[0m \u001b[0my_pred\u001b[0m\u001b[1;33m)\u001b[0m\u001b[1;33m\u001b[0m\u001b[1;33m\u001b[0m\u001b[0m\n\u001b[0m\u001b[0;32m    177\u001b[0m     \u001b[0mcheck_consistent_length\u001b[0m\u001b[1;33m(\u001b[0m\u001b[0my_true\u001b[0m\u001b[1;33m,\u001b[0m \u001b[0my_pred\u001b[0m\u001b[1;33m,\u001b[0m \u001b[0msample_weight\u001b[0m\u001b[1;33m)\u001b[0m\u001b[1;33m\u001b[0m\u001b[1;33m\u001b[0m\u001b[0m\n\u001b[0;32m    178\u001b[0m     \u001b[1;32mif\u001b[0m \u001b[0my_type\u001b[0m\u001b[1;33m.\u001b[0m\u001b[0mstartswith\u001b[0m\u001b[1;33m(\u001b[0m\u001b[1;34m'multilabel'\u001b[0m\u001b[1;33m)\u001b[0m\u001b[1;33m:\u001b[0m\u001b[1;33m\u001b[0m\u001b[1;33m\u001b[0m\u001b[0m\n",
      "\u001b[1;32mc:\\users\\danilo santos\\appdata\\local\\programs\\python\\python37\\lib\\site-packages\\sklearn\\metrics\\classification.py\u001b[0m in \u001b[0;36m_check_targets\u001b[1;34m(y_true, y_pred)\u001b[0m\n\u001b[0;32m     92\u001b[0m         \u001b[0my_pred\u001b[0m \u001b[1;33m=\u001b[0m \u001b[0mcolumn_or_1d\u001b[0m\u001b[1;33m(\u001b[0m\u001b[0my_pred\u001b[0m\u001b[1;33m)\u001b[0m\u001b[1;33m\u001b[0m\u001b[1;33m\u001b[0m\u001b[0m\n\u001b[0;32m     93\u001b[0m         \u001b[1;32mif\u001b[0m \u001b[0my_type\u001b[0m \u001b[1;33m==\u001b[0m \u001b[1;34m\"binary\"\u001b[0m\u001b[1;33m:\u001b[0m\u001b[1;33m\u001b[0m\u001b[1;33m\u001b[0m\u001b[0m\n\u001b[1;32m---> 94\u001b[1;33m             \u001b[0munique_values\u001b[0m \u001b[1;33m=\u001b[0m \u001b[0mnp\u001b[0m\u001b[1;33m.\u001b[0m\u001b[0munion1d\u001b[0m\u001b[1;33m(\u001b[0m\u001b[0my_true\u001b[0m\u001b[1;33m,\u001b[0m \u001b[0my_pred\u001b[0m\u001b[1;33m)\u001b[0m\u001b[1;33m\u001b[0m\u001b[1;33m\u001b[0m\u001b[0m\n\u001b[0m\u001b[0;32m     95\u001b[0m             \u001b[1;32mif\u001b[0m \u001b[0mlen\u001b[0m\u001b[1;33m(\u001b[0m\u001b[0munique_values\u001b[0m\u001b[1;33m)\u001b[0m \u001b[1;33m>\u001b[0m \u001b[1;36m2\u001b[0m\u001b[1;33m:\u001b[0m\u001b[1;33m\u001b[0m\u001b[1;33m\u001b[0m\u001b[0m\n\u001b[0;32m     96\u001b[0m                 \u001b[0my_type\u001b[0m \u001b[1;33m=\u001b[0m \u001b[1;34m\"multiclass\"\u001b[0m\u001b[1;33m\u001b[0m\u001b[1;33m\u001b[0m\u001b[0m\n",
      "\u001b[1;32mc:\\users\\danilo santos\\appdata\\local\\programs\\python\\python37\\lib\\site-packages\\numpy\\lib\\arraysetops.py\u001b[0m in \u001b[0;36munion1d\u001b[1;34m(ar1, ar2)\u001b[0m\n\u001b[0;32m    736\u001b[0m     \u001b[0marray\u001b[0m\u001b[1;33m(\u001b[0m\u001b[1;33m[\u001b[0m\u001b[1;36m1\u001b[0m\u001b[1;33m,\u001b[0m \u001b[1;36m2\u001b[0m\u001b[1;33m,\u001b[0m \u001b[1;36m3\u001b[0m\u001b[1;33m,\u001b[0m \u001b[1;36m4\u001b[0m\u001b[1;33m,\u001b[0m \u001b[1;36m6\u001b[0m\u001b[1;33m]\u001b[0m\u001b[1;33m)\u001b[0m\u001b[1;33m\u001b[0m\u001b[1;33m\u001b[0m\u001b[0m\n\u001b[0;32m    737\u001b[0m     \"\"\"\n\u001b[1;32m--> 738\u001b[1;33m     \u001b[1;32mreturn\u001b[0m \u001b[0munique\u001b[0m\u001b[1;33m(\u001b[0m\u001b[0mnp\u001b[0m\u001b[1;33m.\u001b[0m\u001b[0mconcatenate\u001b[0m\u001b[1;33m(\u001b[0m\u001b[1;33m(\u001b[0m\u001b[0mar1\u001b[0m\u001b[1;33m,\u001b[0m \u001b[0mar2\u001b[0m\u001b[1;33m)\u001b[0m\u001b[1;33m,\u001b[0m \u001b[0maxis\u001b[0m\u001b[1;33m=\u001b[0m\u001b[1;32mNone\u001b[0m\u001b[1;33m)\u001b[0m\u001b[1;33m)\u001b[0m\u001b[1;33m\u001b[0m\u001b[1;33m\u001b[0m\u001b[0m\n\u001b[0m\u001b[0;32m    739\u001b[0m \u001b[1;33m\u001b[0m\u001b[0m\n\u001b[0;32m    740\u001b[0m \u001b[1;33m\u001b[0m\u001b[0m\n",
      "\u001b[1;32mc:\\users\\danilo santos\\appdata\\local\\programs\\python\\python37\\lib\\site-packages\\numpy\\lib\\arraysetops.py\u001b[0m in \u001b[0;36munique\u001b[1;34m(ar, return_index, return_inverse, return_counts, axis)\u001b[0m\n\u001b[0;32m    262\u001b[0m     \u001b[0mar\u001b[0m \u001b[1;33m=\u001b[0m \u001b[0mnp\u001b[0m\u001b[1;33m.\u001b[0m\u001b[0masanyarray\u001b[0m\u001b[1;33m(\u001b[0m\u001b[0mar\u001b[0m\u001b[1;33m)\u001b[0m\u001b[1;33m\u001b[0m\u001b[1;33m\u001b[0m\u001b[0m\n\u001b[0;32m    263\u001b[0m     \u001b[1;32mif\u001b[0m \u001b[0maxis\u001b[0m \u001b[1;32mis\u001b[0m \u001b[1;32mNone\u001b[0m\u001b[1;33m:\u001b[0m\u001b[1;33m\u001b[0m\u001b[1;33m\u001b[0m\u001b[0m\n\u001b[1;32m--> 264\u001b[1;33m         \u001b[0mret\u001b[0m \u001b[1;33m=\u001b[0m \u001b[0m_unique1d\u001b[0m\u001b[1;33m(\u001b[0m\u001b[0mar\u001b[0m\u001b[1;33m,\u001b[0m \u001b[0mreturn_index\u001b[0m\u001b[1;33m,\u001b[0m \u001b[0mreturn_inverse\u001b[0m\u001b[1;33m,\u001b[0m \u001b[0mreturn_counts\u001b[0m\u001b[1;33m)\u001b[0m\u001b[1;33m\u001b[0m\u001b[1;33m\u001b[0m\u001b[0m\n\u001b[0m\u001b[0;32m    265\u001b[0m         \u001b[1;32mreturn\u001b[0m \u001b[0m_unpack_tuple\u001b[0m\u001b[1;33m(\u001b[0m\u001b[0mret\u001b[0m\u001b[1;33m)\u001b[0m\u001b[1;33m\u001b[0m\u001b[1;33m\u001b[0m\u001b[0m\n\u001b[0;32m    266\u001b[0m \u001b[1;33m\u001b[0m\u001b[0m\n",
      "\u001b[1;32mc:\\users\\danilo santos\\appdata\\local\\programs\\python\\python37\\lib\\site-packages\\numpy\\lib\\arraysetops.py\u001b[0m in \u001b[0;36m_unique1d\u001b[1;34m(ar, return_index, return_inverse, return_counts)\u001b[0m\n\u001b[0;32m    310\u001b[0m         \u001b[0maux\u001b[0m \u001b[1;33m=\u001b[0m \u001b[0mar\u001b[0m\u001b[1;33m[\u001b[0m\u001b[0mperm\u001b[0m\u001b[1;33m]\u001b[0m\u001b[1;33m\u001b[0m\u001b[1;33m\u001b[0m\u001b[0m\n\u001b[0;32m    311\u001b[0m     \u001b[1;32melse\u001b[0m\u001b[1;33m:\u001b[0m\u001b[1;33m\u001b[0m\u001b[1;33m\u001b[0m\u001b[0m\n\u001b[1;32m--> 312\u001b[1;33m         \u001b[0mar\u001b[0m\u001b[1;33m.\u001b[0m\u001b[0msort\u001b[0m\u001b[1;33m(\u001b[0m\u001b[1;33m)\u001b[0m\u001b[1;33m\u001b[0m\u001b[1;33m\u001b[0m\u001b[0m\n\u001b[0m\u001b[0;32m    313\u001b[0m         \u001b[0maux\u001b[0m \u001b[1;33m=\u001b[0m \u001b[0mar\u001b[0m\u001b[1;33m\u001b[0m\u001b[1;33m\u001b[0m\u001b[0m\n\u001b[0;32m    314\u001b[0m     \u001b[0mmask\u001b[0m \u001b[1;33m=\u001b[0m \u001b[0mnp\u001b[0m\u001b[1;33m.\u001b[0m\u001b[0mempty\u001b[0m\u001b[1;33m(\u001b[0m\u001b[0maux\u001b[0m\u001b[1;33m.\u001b[0m\u001b[0mshape\u001b[0m\u001b[1;33m,\u001b[0m \u001b[0mdtype\u001b[0m\u001b[1;33m=\u001b[0m\u001b[0mnp\u001b[0m\u001b[1;33m.\u001b[0m\u001b[0mbool_\u001b[0m\u001b[1;33m)\u001b[0m\u001b[1;33m\u001b[0m\u001b[1;33m\u001b[0m\u001b[0m\n",
      "\u001b[1;31mTypeError\u001b[0m: '<' not supported between instances of 'int' and 'str'"
     ]
    }
   ],
   "source": [
    "accuracy_score(y_test, y_pred)"
   ]
  },
  {
   "cell_type": "code",
   "execution_count": 26,
   "metadata": {},
   "outputs": [
    {
     "data": {
      "text/plain": [
       "53      no\n",
       "73      no\n",
       "112    yes\n",
       "49      no\n",
       "102     no\n",
       "8       no\n",
       "86      no\n",
       "2       no\n",
       "52      no\n",
       "83     yes\n",
       "34      no\n",
       "63     yes\n",
       "76     yes\n",
       "111     no\n",
       "29      no\n",
       "82     yes\n",
       "107     no\n",
       "16      no\n",
       "43      no\n",
       "92     yes\n",
       "108    yes\n",
       "60     yes\n",
       "15      no\n",
       "66     yes\n",
       "77     yes\n",
       "14      no\n",
       "36      no\n",
       "72     yes\n",
       "75     yes\n",
       "70     yes\n",
       "87     yes\n",
       "24      no\n",
       "10      no\n",
       "110    yes\n",
       "9       no\n",
       "48      no\n",
       "Name: target, dtype: object"
      ]
     },
     "execution_count": 26,
     "metadata": {},
     "output_type": "execute_result"
    }
   ],
   "source": [
    "y_test"
   ]
  },
  {
   "cell_type": "code",
   "execution_count": null,
   "metadata": {},
   "outputs": [],
   "source": []
  }
 ],
 "metadata": {
  "kernelspec": {
   "display_name": "Python 3",
   "language": "python",
   "name": "python3"
  },
  "language_info": {
   "codemirror_mode": {
    "name": "ipython",
    "version": 3
   },
   "file_extension": ".py",
   "mimetype": "text/x-python",
   "name": "python",
   "nbconvert_exporter": "python",
   "pygments_lexer": "ipython3",
   "version": "3.7.2"
  }
 },
 "nbformat": 4,
 "nbformat_minor": 2
}
