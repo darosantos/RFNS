{
 "cells": [
  {
   "cell_type": "markdown",
   "metadata": {},
   "source": [
    "<h1>Arquivo de testes para o novo código</h1>"
   ]
  },
  {
   "cell_type": "code",
   "execution_count": 1,
   "metadata": {},
   "outputs": [],
   "source": [
    "import pandas as pd\n",
    "\n",
    "import numpy as np\n",
    "\n",
    "from sklearn.model_selection import train_test_split\n",
    "from sklearn.metrics import confusion_matrix, accuracy_score\n",
    "from sklearn.ensemble import RandomForestClassifier\n",
    "\n",
    "import matplotlib.pyplot as plt\n",
    "from matplotlib.colors import ListedColormap\n",
    "\n",
    "import seaborn as sns\n",
    "\n",
    "from EnginneringForest import EnginneringForest"
   ]
  },
  {
   "cell_type": "markdown",
   "metadata": {},
   "source": [
    "<h2>1. Teste com o dataset heart.csv</h2>"
   ]
  },
  {
   "cell_type": "code",
   "execution_count": 2,
   "metadata": {},
   "outputs": [],
   "source": [
    "df_heart = pd.read_csv('heart.csv', engine='c', memory_map=True, low_memory=True)\n",
    "\n",
    "X=df_heart[['age', 'sex', 'cp', 'trestbps',  'chol', 'fbs', 'restecg', 'thalach', 'exang', \n",
    "            'oldpeak', 'slope', 'ca', 'thal']]\n",
    "# Labels\n",
    "y=df_heart['target']\n",
    "\n",
    "# Split dataset into training set and test set\n",
    "# 70% training and 30% test\n",
    "X_train, X_test, y_train, y_test = train_test_split(X, y, test_size=0.3, random_state=30, shuffle=True, stratify=y)"
   ]
  },
  {
   "cell_type": "code",
   "execution_count": 3,
   "metadata": {},
   "outputs": [
    {
     "name": "stdout",
     "output_type": "stream",
     "text": [
      "Acuracia = 0.7912087912087912\n",
      "Matriz de confusao \n",
      "[[28 13]\n",
      " [ 6 44]]\n",
      "N arvores = [13]\n",
      "Acuracia = 0.8241758241758241\n",
      "Matriz de confusao \n",
      "[[33  8]\n",
      " [ 8 42]]\n",
      "N arvores = [13, 78]\n",
      "Acuracia = 0.8351648351648352\n",
      "Matriz de confusao \n",
      "[[33  8]\n",
      " [ 7 43]]\n",
      "N arvores = [13, 78, 286]\n",
      "Acuracia = 0.8241758241758241\n",
      "Matriz de confusao \n",
      "[[32  9]\n",
      " [ 7 43]]\n",
      "N arvores = [13, 78, 286, 715]\n",
      "Acuracia = 0.8131868131868132\n",
      "Matriz de confusao \n",
      "[[31 10]\n",
      " [ 7 43]]\n",
      "N arvores = [13, 78, 286, 715, 1287]\n",
      "Acuracia = 0.8131868131868132\n",
      "Matriz de confusao \n",
      "[[30 11]\n",
      " [ 6 44]]\n",
      "N arvores = [13, 78, 286, 715, 1287, 1716]\n",
      "Acuracia = 0.7912087912087912\n",
      "Matriz de confusao \n",
      "[[29 12]\n",
      " [ 7 43]]\n",
      "N arvores = [13, 78, 286, 715, 1287, 1716, 1716]\n"
     ]
    }
   ],
   "source": [
    "heart_accuracy_eg = []\n",
    "heart_matrix_confusion_eg = []\n",
    "n_estimators_eg = []\n",
    "limit = int((X.shape[1] / 2) + 1)\n",
    "\n",
    "for n_tree in range(limit):\n",
    "    model_eg = EnginneringForest(select_features=n_tree+1, name_log='test_eg_{0}'.format(n_tree+1))\n",
    "    model_eg.fit(X_train, y_train)\n",
    "    y_pred = model_eg.predict(X_test)\n",
    "\n",
    "    mac = accuracy_score(y_test, y_pred)\n",
    "    mcm = confusion_matrix(y_test,y_pred)\n",
    "    \n",
    "    heart_accuracy_eg.append(mac)\n",
    "    heart_matrix_confusion_eg.append(mcm)\n",
    "    n_estimators_eg.append(len(model_eg.estimators_))\n",
    "    \n",
    "    print('Acuracia = {0}'.format(mac))\n",
    "    print(\"Matriz de confusao \\n{0}\".format(str(mcm)))\n",
    "    print(\"N arvores = {0}\".format(n_estimators_eg))\n",
    "\n",
    "    del model_eg"
   ]
  },
  {
   "cell_type": "code",
   "execution_count": 4,
   "metadata": {},
   "outputs": [
    {
     "name": "stdout",
     "output_type": "stream",
     "text": [
      "Acuracia = 0.8021978021978022\n",
      "Matriz de confusao \n",
      "[[29 12]\n",
      " [ 6 44]]\n",
      "N arvores = 13\n",
      "Acuracia = 0.8021978021978022\n",
      "Matriz de confusao \n",
      "[[29 12]\n",
      " [ 6 44]]\n",
      "N arvores = 78\n",
      "Acuracia = 0.7912087912087912\n",
      "Matriz de confusao \n",
      "[[29 12]\n",
      " [ 7 43]]\n",
      "N arvores = 100\n",
      "Acuracia = 0.8021978021978022\n",
      "Matriz de confusao \n",
      "[[29 12]\n",
      " [ 6 44]]\n",
      "N arvores = 286\n",
      "Acuracia = 0.8131868131868132\n",
      "Matriz de confusao \n",
      "[[30 11]\n",
      " [ 6 44]]\n",
      "N arvores = 715\n",
      "Acuracia = 0.8021978021978022\n",
      "Matriz de confusao \n",
      "[[29 12]\n",
      " [ 6 44]]\n",
      "N arvores = 1287\n",
      "Acuracia = 0.8021978021978022\n",
      "Matriz de confusao \n",
      "[[29 12]\n",
      " [ 6 44]]\n",
      "N arvores = 1716\n",
      "Acuracia = 0.8021978021978022\n",
      "Matriz de confusao \n",
      "[[29 12]\n",
      " [ 6 44]]\n",
      "N arvores = 1716\n"
     ]
    }
   ],
   "source": [
    "# rodar o random forest\n",
    "heart_accuracy_rf = []\n",
    "heart_matrix_confusion_rf = []\n",
    "n_estimators_rf = n_estimators_eg.copy()\n",
    "n_estimators_rf.insert(2, 100)\n",
    "for n_tree in n_estimators_rf:\n",
    "    model_rf = RandomForestClassifier(n_estimators=n_tree, criterion='entropy')\n",
    "    mrf_fit = model_rf.fit(X_train, y_train)\n",
    "    y_pred = model_rf.predict(X_test)\n",
    "    \n",
    "    mac = accuracy_score(y_test, y_pred)\n",
    "    mcm = confusion_matrix(y_test,y_pred)\n",
    "    \n",
    "    heart_accuracy_rf.append(mac)\n",
    "    heart_matrix_confusion_rf.append(mcm)\n",
    "    \n",
    "    print('Acuracia = {0}'.format(mac))\n",
    "    print(\"Matriz de confusao \\n{0}\".format(str(mcm)))\n",
    "    print(\"N arvores = {0}\".format(n_tree))"
   ]
  },
  {
   "cell_type": "code",
   "execution_count": 5,
   "metadata": {},
   "outputs": [
    {
     "name": "stdout",
     "output_type": "stream",
     "text": [
      "EG  = 13, 0.7912087912087912 \t RF = 13, 0.8021978021978022\n",
      "EG  = 78, 0.8241758241758241 \t RF = 78, 0.8021978021978022\n",
      "EG  = 286, 0.8351648351648352 \t RF = 100, 0.7912087912087912\n",
      "EG  = 715, 0.8241758241758241 \t RF = 286, 0.8021978021978022\n",
      "EG  = 1287, 0.8131868131868132 \t RF = 715, 0.8131868131868132\n",
      "EG  = 1716, 0.8131868131868132 \t RF = 1287, 0.8021978021978022\n",
      "EG  = 1716, 0.7912087912087912 \t RF = 1716, 0.8021978021978022\n"
     ]
    }
   ],
   "source": [
    "for ax, ay in zip(zip(n_estimators_eg, heart_accuracy_eg), zip(n_estimators_rf, heart_accuracy_rf)):\n",
    "    print(\"EG  = {0}, {1} \\t RF = {2}, {3}\".format(ax[0], ax[1], ay[0], ay[1]))"
   ]
  },
  {
   "cell_type": "code",
   "execution_count": 6,
   "metadata": {},
   "outputs": [
    {
     "data": {
      "image/png": "[encoded data removed]",
      "text/plain": [
       "<Figure size 864x576 with 1 Axes>"
      ]
     },
     "metadata": {
      "needs_background": "light"
     },
     "output_type": "display_data"
    }
   ],
   "source": [
    "# compara os dois algoritmos para o dataset\n",
    "eixo_x1 = n_estimators_eg\n",
    "eixo_y1 = heart_accuracy_eg\n",
    "\n",
    "eixo_x2 = n_estimators_rf\n",
    "eixo_y2 = heart_accuracy_rf\n",
    "\n",
    "\n",
    "plt.figure(figsize=(12,8))\n",
    "\n",
    "plt.plot(eixo_x1, eixo_y1, color='green', linewidth=3.0, label='Acurácia EF')\n",
    "plt.scatter(eixo_x1, eixo_y1, color='green', linewidth=2.0)\n",
    "for i, txt in enumerate(eixo_x1):\n",
    "    plt.annotate('t=' + str(txt), (eixo_x1[i]+35, eixo_y1[i]+0.001))\n",
    "    #plt.text(x+.03, y+.03, word, fontsize=9)\n",
    "\n",
    "plt.plot(eixo_x2, eixo_y2, color='blue', linewidth=3.0, label='Acurácia RF')\n",
    "plt.scatter(eixo_x2, eixo_y2, color='blue', linewidth=2.0)\n",
    "for i, txt in enumerate(eixo_x2):\n",
    "    plt.annotate(str(txt) + ' - a=' + str(i+1), (eixo_x2[i]+35, eixo_y2[i]+0.0003))\n",
    "    \n",
    "plt.title('Acurácia obtida por número de árvores nos pontos-chave')\n",
    "plt.xlabel('Número de árvores')\n",
    "plt.ylabel('Acurácia')\n",
    "plt.grid(True)\n",
    "plt.legend();"
   ]
  },
  {
   "cell_type": "markdown",
   "metadata": {},
   "source": [
    "<h2>2. Teste com o dataset biodeg.csv</h2>"
   ]
  },
  {
   "cell_type": "code",
   "execution_count": 26,
   "metadata": {},
   "outputs": [],
   "source": [
    "columns = ['SpMax_L', 'J_Dz_e', 'nHM', 'F01_n_n', 'F04_c_n', 'NssssC', 'nCb', 'C', 'nCp', 'nO', 'F03_c_n', \n",
    "           'SdssC', 'HyWi_B_m', 'LOC', 'SM6_L', 'F03_c_o', 'Me', 'Mi', 'nN_N', 'nArNO2', 'nCRX3', 'SpPosA_B_p', \n",
    "           'nCIR', 'B01_c_br', 'B03c_cl', 'N_073', 'SpMax_A', 'Psi_i_1d', 'B04c_br', 'SdO', 'TI2_L', 'nCrt', \n",
    "           'C_026', 'F02_c_n', 'nHDon', 'SpMax_B_m', 'Psi_i_A', 'nN, SM6_B_m', 'nArCOOR', 'nX', 'class_experimental']\n",
    "df_biodeg = pd.read_csv('biodeg.csv', \n",
    "                        sep=';', \n",
    "                        names=[name.lower() for name in columns],\n",
    "                        engine='c', \n",
    "                        memory_map=True, \n",
    "                        low_memory=True)\n",
    "columns_name = columns.copy()\n",
    "del columns_name[-1]\n",
    "X=df_biodeg[[name.lower() for name in columns_name]]\n",
    "y=df_biodeg['class_experimental']\n",
    "X_train, X_test, y_train, y_test = train_test_split(X, y, test_size=0.3, random_state=30, shuffle=True, stratify=y)"
   ]
  },
  {
   "cell_type": "code",
   "execution_count": 29,
   "metadata": {},
   "outputs": [
    {
     "data": {
      "text/plain": [
       "{'NRB', 'RB'}"
      ]
     },
     "execution_count": 29,
     "metadata": {},
     "output_type": "execute_result"
    }
   ],
   "source": [
    "set(y_train)"
   ]
  },
  {
   "cell_type": "code",
   "execution_count": 28,
   "metadata": {},
   "outputs": [
    {
     "name": "stdout",
     "output_type": "stream",
     "text": [
      "21\n"
     ]
    },
    {
     "ename": "ValueError",
     "evalue": "Number of labels=3740 does not match number of samples=738",
     "output_type": "error",
     "traceback": [
      "\u001b[0;31m---------------------------------------------------------------------------\u001b[0m",
      "\u001b[0;31mValueError\u001b[0m                                Traceback (most recent call last)",
      "\u001b[0;32m<ipython-input-28-5db2d80013c5>\u001b[0m in \u001b[0;36m<module>\u001b[0;34m\u001b[0m\n\u001b[1;32m      8\u001b[0m \u001b[0;32mfor\u001b[0m \u001b[0mn_tree\u001b[0m \u001b[0;32min\u001b[0m \u001b[0mrange\u001b[0m\u001b[0;34m(\u001b[0m\u001b[0mlimit\u001b[0m\u001b[0;34m)\u001b[0m\u001b[0;34m:\u001b[0m\u001b[0;34m\u001b[0m\u001b[0;34m\u001b[0m\u001b[0m\n\u001b[1;32m      9\u001b[0m     \u001b[0mmodel_eg\u001b[0m \u001b[0;34m=\u001b[0m \u001b[0mEnginneringForest\u001b[0m\u001b[0;34m(\u001b[0m\u001b[0mselect_features\u001b[0m\u001b[0;34m=\u001b[0m\u001b[0mn_tree\u001b[0m\u001b[0;34m+\u001b[0m\u001b[0;36m1\u001b[0m\u001b[0;34m,\u001b[0m \u001b[0mname_log\u001b[0m\u001b[0;34m=\u001b[0m\u001b[0;34m'test_biodeg_{0}'\u001b[0m\u001b[0;34m.\u001b[0m\u001b[0mformat\u001b[0m\u001b[0;34m(\u001b[0m\u001b[0mn_tree\u001b[0m\u001b[0;34m+\u001b[0m\u001b[0;36m1\u001b[0m\u001b[0;34m)\u001b[0m\u001b[0;34m)\u001b[0m\u001b[0;34m\u001b[0m\u001b[0;34m\u001b[0m\u001b[0m\n\u001b[0;32m---> 10\u001b[0;31m     \u001b[0mmodel_eg\u001b[0m\u001b[0;34m.\u001b[0m\u001b[0mfit\u001b[0m\u001b[0;34m(\u001b[0m\u001b[0mX_train\u001b[0m\u001b[0;34m,\u001b[0m \u001b[0my_train\u001b[0m\u001b[0;34m)\u001b[0m\u001b[0;34m\u001b[0m\u001b[0;34m\u001b[0m\u001b[0m\n\u001b[0m\u001b[1;32m     11\u001b[0m     \u001b[0my_pred\u001b[0m \u001b[0;34m=\u001b[0m \u001b[0mmodel_eg\u001b[0m\u001b[0;34m.\u001b[0m\u001b[0mpredict\u001b[0m\u001b[0;34m(\u001b[0m\u001b[0mX_test\u001b[0m\u001b[0;34m)\u001b[0m\u001b[0;34m\u001b[0m\u001b[0;34m\u001b[0m\u001b[0m\n\u001b[1;32m     12\u001b[0m \u001b[0;34m\u001b[0m\u001b[0m\n",
      "\u001b[0;32m~/Área de Trabalho/RFNS/EnginneringForest.py\u001b[0m in \u001b[0;36mfit\u001b[0;34m(self, X, y)\u001b[0m\n\u001b[1;32m     83\u001b[0m                             \u001b[0;32mfor\u001b[0m \u001b[0msubset_feature\u001b[0m\u001b[0;34m,\u001b[0m\u001b[0;34m\u001b[0m\u001b[0;34m\u001b[0m\u001b[0m\n\u001b[1;32m     84\u001b[0m                                 estimator in zip(self.group_features_, \n\u001b[0;32m---> 85\u001b[0;31m                                                  self.estimators_)]\n\u001b[0m\u001b[1;32m     86\u001b[0m         \u001b[0mself\u001b[0m\u001b[0;34m.\u001b[0m\u001b[0mestimators_\u001b[0m \u001b[0;34m=\u001b[0m \u001b[0mself\u001b[0m\u001b[0;34m.\u001b[0m\u001b[0mget_pack_nparray\u001b[0m\u001b[0;34m(\u001b[0m\u001b[0mself\u001b[0m\u001b[0;34m.\u001b[0m\u001b[0mestimators_\u001b[0m\u001b[0;34m)\u001b[0m\u001b[0;34m\u001b[0m\u001b[0;34m\u001b[0m\u001b[0m\n\u001b[1;32m     87\u001b[0m \u001b[0;34m\u001b[0m\u001b[0m\n",
      "\u001b[0;32m~/Área de Trabalho/RFNS/EnginneringForest.py\u001b[0m in \u001b[0;36m<listcomp>\u001b[0;34m(.0)\u001b[0m\n\u001b[1;32m     82\u001b[0m         self.estimators_ = [self.train(subset_feature, estimator) \n\u001b[1;32m     83\u001b[0m                             \u001b[0;32mfor\u001b[0m \u001b[0msubset_feature\u001b[0m\u001b[0;34m,\u001b[0m\u001b[0;34m\u001b[0m\u001b[0;34m\u001b[0m\u001b[0m\n\u001b[0;32m---> 84\u001b[0;31m                                 estimator in zip(self.group_features_, \n\u001b[0m\u001b[1;32m     85\u001b[0m                                                  self.estimators_)]\n\u001b[1;32m     86\u001b[0m         \u001b[0mself\u001b[0m\u001b[0;34m.\u001b[0m\u001b[0mestimators_\u001b[0m \u001b[0;34m=\u001b[0m \u001b[0mself\u001b[0m\u001b[0;34m.\u001b[0m\u001b[0mget_pack_nparray\u001b[0m\u001b[0;34m(\u001b[0m\u001b[0mself\u001b[0m\u001b[0;34m.\u001b[0m\u001b[0mestimators_\u001b[0m\u001b[0;34m)\u001b[0m\u001b[0;34m\u001b[0m\u001b[0;34m\u001b[0m\u001b[0m\n",
      "\u001b[0;32m~/Área de Trabalho/RFNS/EnginneringForest.py\u001b[0m in \u001b[0;36mtrain\u001b[0;34m(self, group_feature, estimator)\u001b[0m\n\u001b[1;32m     55\u001b[0m \u001b[0;34m\u001b[0m\u001b[0m\n\u001b[1;32m     56\u001b[0m         \u001b[0msubset_xdata\u001b[0m\u001b[0;34m,\u001b[0m \u001b[0msubset_ydata\u001b[0m \u001b[0;34m=\u001b[0m \u001b[0mself\u001b[0m\u001b[0;34m.\u001b[0m\u001b[0mget_subset\u001b[0m\u001b[0;34m(\u001b[0m\u001b[0mgroup_feature\u001b[0m\u001b[0;34m)\u001b[0m\u001b[0;34m\u001b[0m\u001b[0;34m\u001b[0m\u001b[0m\n\u001b[0;32m---> 57\u001b[0;31m         \u001b[0mfit_\u001b[0m \u001b[0;34m=\u001b[0m \u001b[0mestimator\u001b[0m\u001b[0;34m.\u001b[0m\u001b[0mfit\u001b[0m\u001b[0;34m(\u001b[0m\u001b[0msubset_xdata\u001b[0m\u001b[0;34m,\u001b[0m \u001b[0msubset_ydata\u001b[0m\u001b[0;34m)\u001b[0m\u001b[0;34m\u001b[0m\u001b[0;34m\u001b[0m\u001b[0m\n\u001b[0m\u001b[1;32m     58\u001b[0m         \u001b[0;32mdel\u001b[0m \u001b[0msubset_xdata\u001b[0m\u001b[0;34m\u001b[0m\u001b[0;34m\u001b[0m\u001b[0m\n\u001b[1;32m     59\u001b[0m         \u001b[0;32mdel\u001b[0m \u001b[0msubset_ydata\u001b[0m\u001b[0;34m\u001b[0m\u001b[0;34m\u001b[0m\u001b[0m\n",
      "\u001b[0;32m~/anaconda3/lib/python3.7/site-packages/sklearn/tree/tree.py\u001b[0m in \u001b[0;36mfit\u001b[0;34m(self, X, y, sample_weight, check_input, X_idx_sorted)\u001b[0m\n\u001b[1;32m    814\u001b[0m             \u001b[0msample_weight\u001b[0m\u001b[0;34m=\u001b[0m\u001b[0msample_weight\u001b[0m\u001b[0;34m,\u001b[0m\u001b[0;34m\u001b[0m\u001b[0;34m\u001b[0m\u001b[0m\n\u001b[1;32m    815\u001b[0m             \u001b[0mcheck_input\u001b[0m\u001b[0;34m=\u001b[0m\u001b[0mcheck_input\u001b[0m\u001b[0;34m,\u001b[0m\u001b[0;34m\u001b[0m\u001b[0;34m\u001b[0m\u001b[0m\n\u001b[0;32m--> 816\u001b[0;31m             X_idx_sorted=X_idx_sorted)\n\u001b[0m\u001b[1;32m    817\u001b[0m         \u001b[0;32mreturn\u001b[0m \u001b[0mself\u001b[0m\u001b[0;34m\u001b[0m\u001b[0;34m\u001b[0m\u001b[0m\n\u001b[1;32m    818\u001b[0m \u001b[0;34m\u001b[0m\u001b[0m\n",
      "\u001b[0;32m~/anaconda3/lib/python3.7/site-packages/sklearn/tree/tree.py\u001b[0m in \u001b[0;36mfit\u001b[0;34m(self, X, y, sample_weight, check_input, X_idx_sorted)\u001b[0m\n\u001b[1;32m    248\u001b[0m         \u001b[0;32mif\u001b[0m \u001b[0mlen\u001b[0m\u001b[0;34m(\u001b[0m\u001b[0my\u001b[0m\u001b[0;34m)\u001b[0m \u001b[0;34m!=\u001b[0m \u001b[0mn_samples\u001b[0m\u001b[0;34m:\u001b[0m\u001b[0;34m\u001b[0m\u001b[0;34m\u001b[0m\u001b[0m\n\u001b[1;32m    249\u001b[0m             raise ValueError(\"Number of labels=%d does not match \"\n\u001b[0;32m--> 250\u001b[0;31m                              \"number of samples=%d\" % (len(y), n_samples))\n\u001b[0m\u001b[1;32m    251\u001b[0m         \u001b[0;32mif\u001b[0m \u001b[0;32mnot\u001b[0m \u001b[0;36m0\u001b[0m \u001b[0;34m<=\u001b[0m \u001b[0mself\u001b[0m\u001b[0;34m.\u001b[0m\u001b[0mmin_weight_fraction_leaf\u001b[0m \u001b[0;34m<=\u001b[0m \u001b[0;36m0.5\u001b[0m\u001b[0;34m:\u001b[0m\u001b[0;34m\u001b[0m\u001b[0;34m\u001b[0m\u001b[0m\n\u001b[1;32m    252\u001b[0m             \u001b[0;32mraise\u001b[0m \u001b[0mValueError\u001b[0m\u001b[0;34m(\u001b[0m\u001b[0;34m\"min_weight_fraction_leaf must in [0, 0.5]\"\u001b[0m\u001b[0;34m)\u001b[0m\u001b[0;34m\u001b[0m\u001b[0;34m\u001b[0m\u001b[0m\n",
      "\u001b[0;31mValueError\u001b[0m: Number of labels=3740 does not match number of samples=738"
     ]
    }
   ],
   "source": [
    "biodeg_accuracy_eg = []\n",
    "biodeg_matrix_confusion_eg = []\n",
    "biodeg_n_estimators_eg = []\n",
    "limit = int((X.shape[1] / 2) + 1)\n",
    "\n",
    "print(limit)\n",
    "\n",
    "for n_tree in range(limit):\n",
    "    model_eg = EnginneringForest(select_features=n_tree+1, name_log='test_biodeg_{0}'.format(n_tree+1))\n",
    "    model_eg.fit(X_train, y_train)\n",
    "    y_pred = model_eg.predict(X_test)\n",
    "\n",
    "    mac = accuracy_score(y_test, y_pred)\n",
    "    mcm = confusion_matrix(y_test,y_pred)\n",
    "    \n",
    "    biodeg_accuracy_eg.append(mac)\n",
    "    biodeg_matrix_confusion_eg.append(mcm)\n",
    "    biodeg_n_estimators_eg.append(len(model_eg.estimators_))\n",
    "    \n",
    "    print('Passo = {0}'.format(n_tree+1))\n",
    "    print('Acuracia = {0}'.format(mac))\n",
    "    print(\"Matriz de confusao \\n{0}\".format(str(mcm)))\n",
    "    print(\"N arvores = {0}\".format(biodeg_n_estimators_eg))\n",
    "\n",
    "    del model_eg"
   ]
  },
  {
   "cell_type": "code",
   "execution_count": null,
   "metadata": {},
   "outputs": [],
   "source": []
  }
 ],
 "metadata": {
  "kernelspec": {
   "display_name": "Python 3",
   "language": "python",
   "name": "python3"
  },
  "language_info": {
   "codemirror_mode": {
    "name": "ipython",
    "version": 3
   },
   "file_extension": ".py",
   "mimetype": "text/x-python",
   "name": "python",
   "nbconvert_exporter": "python",
   "pygments_lexer": "ipython3",
   "version": "3.7.3"
  }
 },
 "nbformat": 4,
 "nbformat_minor": 2
}
