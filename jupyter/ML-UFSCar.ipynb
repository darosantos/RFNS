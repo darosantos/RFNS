{
 "cells": [
  {
   "cell_type": "markdown",
   "metadata": {},
   "source": [
    "<h1>Heart Disease: Machine Learning from Data of Health</h1>\n",
    "<p style=\"text-align: right\"><q><strong>Author:</strong> Danilo R. Santos <strong>E-mail: </strong><a href=\"\">danilo_santosrs@hotmail.com</a></q></p>\n",
    "<p>Para este projeto foi utilizado o arquivo \"heart.csv\" que representa o conjunto de dados de treinamento</p>\n",
    "\n",
    "<p><strong>Características do <i>dataset</i>:</strong></p>\n",
    "<blockquote>\n",
    "    <p>Este banco de dados contém 76 atributos, mas todos os experimentos publicados referem-se ao uso de um subconjunto de 14 deles. Em particular, o banco de dados de Cleveland é o único que tem sido usado por pesquisadores do ML até esta data. O campo \"meta\" refere-se à presença de doença cardíaca no paciente. É inteiro valorizado de 0 (sem presença) a 4. As experiências com o banco de dados de Cleveland concentraram-se em simplesmente tentar distinguir a presença (valores 1,2,3,4) da ausência (valor 0).</p>\n",
    "    <p>Fonte dos dados: <a href=\"https://archive.ics.uci.edu/ml/datasets/Heart+Disease\" target=\"_blank\">https://archive.ics.uci.edu/ml/datasets/Heart+Disease</a></p>\n",
    "    <p>Creators: \n",
    "        <ul>\n",
    "            <li>1. Hungarian Institute of Cardiology. Budapest: Andras Janosi, M.D.</li> \n",
    "            <li>2. University Hospital, Zurich, Switzerland: William Steinbrunn, M.D.</li>\n",
    "            <li>3. University Hospital, Basel, Switzerland: Matthias Pfisterer, M.D.</li> \n",
    "            <li>4. V.A. Medical Center, Long Beach and Cleveland Clinic Foundation: Robert Detrano, M.D., Ph.D.</li>\n",
    "        </ul>\n",
    "    </p>\n",
    "</blockquote>\n",
    "\n",
    "<p><strong>Informações sobre Atributos:</strong></p>\n",
    "<blockquote>\n",
    "<p>Apenas 14 atributos usados: 1. # 3 (idade) 2. # 4 (sexo) 3. # 9 (cp) 4. # 10 (trestbps) 5. # 12 (chol) 6. # 16 (fbs) 7. # 19 (restecg) 8. # 32 (thalach) 9. # 38 (exang) 10. # 40 (oldpeak) 11. # 41 (declive) 12. # 44 (ca) 13. # 51 (thal) 14. # 58 (num) (o atributo previsto)</p>\n",
    "</blockquote>\n",
    "\n",
    "<p><strong>Documentação completa do atributo:</strong></p>\n",
    "<blockquote>\n",
    "    <ul>\n",
    "        <li>1 id: número de identificação do paciente </li>\n",
    "        <li>2 ccf: número do seguro social (substitui este por um valor fictício de 0)</li>\n",
    "        <li>3 idade: idade em anos</li>\n",
    "        <li>4 sexo: sexo (1 = masculino; 0 = feminino)</li>\n",
    "        <li>5 painloc: tórax localização da dor (1 = subesternal; 0 = caso contrário)</li>\n",
    "        <li>6 dor de cabeça (1 = provocado pelo esforço; 0 = caso contrário)</li>\n",
    "        <li>7 alívio (1 = aliviado após o repouso; 0 = caso contrário)</li>\n",
    "        <li>8 pncaden (soma de 5, 6 e 7)</li>\n",
    "        <li>9 cp: tipo de dor no peito - Valor 1: angina típica - Valor 2: angina atípica - Valor 3: dor não anginosa - Valor 4: assintomática</li>\n",
    "        <li>10 trestbps: pressão arterial em repouso (em mmHg na admissão ao hospital)</li>\n",
    "        <li>11 htn 12 chol: soro colestoral em mg / dl</li>\n",
    "        <li>13 fumaça: Eu acredito que isso é 1 = sim; 0 = não (é ou não é fumante)</li>\n",
    "        <li>14 cigs (cigarros por dia)</li>\n",
    "        <li>15 anos (número de anos como fumante)</li>\n",
    "        <li>16 fbs: (açúcar no sangue em jejum> 120 mg / dl) (1 = verdadeiro; 1 = sim; 0 = não)</li>\n",
    "        <li>28 proto: protocolo de exercício 1 = Bruce 2 = Kottus 3 = McHenry 4 = rápido Balke 5 = Balke 6 = Noughton 7 = bicicleta 150 kpa min / min (Não tenho certeza se \"kpa min / min\" é o que foi escrito !) 8 = bicicleta 125 kpa min / min 9 = bicicleta 100 kpa min / min 10 = bicicleta 75 kpa min / min 11 = bicicleta 50 kpa min / min 12 = braço ergômetro</li>\n",
    "        <li>29 thaldur: duração do teste de exercício em minutos</li>\n",
    "        <li>30 thaltime: momento em que foi observada depressão da medida de ST</li>\n",
    "        <li>31 atingido: mets atingido</li>\n",
    "        <li>32 thalach: frequência cardíaca máxima alcançada</li>\n",
    "        <li>33 thalrest: frequência cardíaca de repouso</li>\n",
    "        <li>34 tpeakbps: pico de pressão arterial de exercício (primeira de 2 partes)</li>\n",
    "        <li>35 tpeakbpd: pico de pressão arterial de exercício )</li>\n",
    "        <li>36 dummy 37 trestbpd: pressão arterial em repouso</li>\n",
    "        <li>38 exang: angina induzida por exercício (1 = sim; 0 = não)</li>\n",
    "        <li>39 xhypo: (1 = sim; 0 = não)</li>\n",
    "        <li>40 pico antigo = depressão do segmento ST induzida pelo exercício em relação ao repouso</li>\n",
    "        <li>41 inclinação: a inclinação do pico do exercício segmento ST - Valor 1: elevação - Valor 2: plano - Valor 3: descendente</li>\n",
    "        <li>42 rldv5: altura em repouso</li>\n",
    "        <li>43 rldv5e: altura no pico do exercício</li>\n",
    "        <li>44 ca: número de grandes vasos (0-3) corados por farinha de trigo</li>\n",
    "        <li>45 restckm: irrelevante</li>\n",
    "        <li>46 exerckm: irrelevante</li>\n",
    "        <li>47 restef: repouso raidonuclídeo (sp?) Fração de ejeção</li>\n",
    "        <li>48 restwm: parede do repouso (sp?) anormalidade de movimento 0 = nenhum 1 = leve ou moderado 2 = moderado ou grave 3 = acinesia ou diskmem (sp?)</li>\n",
    "        <li>49 exeref: exercício fração de ejeção radinalid (sp?)</li>\n",
    "        <li>50 exerwm: movimento da parede do exercício (sp?)</li>\n",
    "        <li>51 thal: 3 = normal; 6 = defeito fixo; 7 = defeito reversível</li>\n",
    "        <li>52 thalsev: não usado</li>\n",
    "        <li>53 thalpul: não usado</li>\n",
    "        <li>54 lóbulo da orelha: não usado</li>\n",
    "        <li>55 cmo: mês do cateter cardíaco (sp?) (Talvez \"chamar\")</li>\n",
    "        <li>56 cday:</li>\n",
    "    </ul>\n",
    "</blockquote>\n",
    "                                   \n",
    "<p>Para navegar pelas diversas partes que compõe este projeto use os links a seguir</p>\n",
    "<ol>\n",
    "    <li><a href=\"#topico1\">Iniciando o projeto</a></li>\n",
    "    <li><a href=\"#topico2\">Avaliando intituitivamente os dados</a></li>\n",
    "    <li><a href=\"#topico3\">Analise estatistica descritiva e gráfica do <i>dataset</i></a></li>\n",
    "    <li><a href=\"#topico4\">Pré-processa os dados</a></li>\n",
    "    <li><a href=\"#topico5\">Aplicação do algoritmo de ML</a></li>\n",
    "</ol>"
   ]
  },
  {
   "cell_type": "markdown",
   "metadata": {},
   "source": [
    "<h2><a name=\"topico1\">1. Iniciando o projeto</a></h2>\n",
    "<p>Na células a seguir são importadas as bibliotecas a serem utilizadas em seguida uma breve visualização destes dados é realizada.</p>\n",
    "<p>A visualização dos dados é tabular e limitada aos cinco primeiros registros, porém antes de o fazê-lo, é criado o Data Frame para os dados que serão analisados.</p>"
   ]
  },
  {
   "cell_type": "code",
   "execution_count": 1,
   "metadata": {},
   "outputs": [],
   "source": [
    "import pandas as pd\n",
    "\n",
    "import numpy as np\n",
    "\n",
    "from sklearn.model_selection import train_test_split\n",
    "from sklearn.ensemble import RandomForestClassifier\n",
    "from sklearn import metrics\n",
    "from sklearn.metrics import classification_report, confusion_matrix, accuracy_score\n",
    "from sklearn.preprocessing import StandardScaler\n",
    "from sklearn.preprocessing import RobustScaler\n",
    "\n",
    "import matplotlib.pyplot as plt\n",
    "from matplotlib.colors import ListedColormap\n",
    "\n",
    "import seaborn as sns\n",
    "\n",
    "%matplotlib inline"
   ]
  },
  {
   "cell_type": "code",
   "execution_count": 2,
   "metadata": {},
   "outputs": [
    {
     "data": {
      "text/html": [
       "<div>\n",
       "<style scoped>\n",
       "    .dataframe tbody tr th:only-of-type {\n",
       "        vertical-align: middle;\n",
       "    }\n",
       "\n",
       "    .dataframe tbody tr th {\n",
       "        vertical-align: top;\n",
       "    }\n",
       "\n",
       "    .dataframe thead th {\n",
       "        text-align: right;\n",
       "    }\n",
       "</style>\n",
       "<table border=\"1\" class=\"dataframe\">\n",
       "  <thead>\n",
       "    <tr style=\"text-align: right;\">\n",
       "      <th></th>\n",
       "      <th>age</th>\n",
       "      <th>sex</th>\n",
       "      <th>cp</th>\n",
       "      <th>trestbps</th>\n",
       "      <th>chol</th>\n",
       "      <th>fbs</th>\n",
       "      <th>restecg</th>\n",
       "      <th>thalach</th>\n",
       "      <th>exang</th>\n",
       "      <th>oldpeak</th>\n",
       "      <th>slope</th>\n",
       "      <th>ca</th>\n",
       "      <th>thal</th>\n",
       "      <th>target</th>\n",
       "    </tr>\n",
       "  </thead>\n",
       "  <tbody>\n",
       "    <tr>\n",
       "      <th>0</th>\n",
       "      <td>63</td>\n",
       "      <td>1</td>\n",
       "      <td>3</td>\n",
       "      <td>145</td>\n",
       "      <td>233</td>\n",
       "      <td>1</td>\n",
       "      <td>0</td>\n",
       "      <td>150</td>\n",
       "      <td>0</td>\n",
       "      <td>2.3</td>\n",
       "      <td>0</td>\n",
       "      <td>0</td>\n",
       "      <td>1</td>\n",
       "      <td>1</td>\n",
       "    </tr>\n",
       "    <tr>\n",
       "      <th>1</th>\n",
       "      <td>37</td>\n",
       "      <td>1</td>\n",
       "      <td>2</td>\n",
       "      <td>130</td>\n",
       "      <td>250</td>\n",
       "      <td>0</td>\n",
       "      <td>1</td>\n",
       "      <td>187</td>\n",
       "      <td>0</td>\n",
       "      <td>3.5</td>\n",
       "      <td>0</td>\n",
       "      <td>0</td>\n",
       "      <td>2</td>\n",
       "      <td>1</td>\n",
       "    </tr>\n",
       "    <tr>\n",
       "      <th>2</th>\n",
       "      <td>41</td>\n",
       "      <td>0</td>\n",
       "      <td>1</td>\n",
       "      <td>130</td>\n",
       "      <td>204</td>\n",
       "      <td>0</td>\n",
       "      <td>0</td>\n",
       "      <td>172</td>\n",
       "      <td>0</td>\n",
       "      <td>1.4</td>\n",
       "      <td>2</td>\n",
       "      <td>0</td>\n",
       "      <td>2</td>\n",
       "      <td>1</td>\n",
       "    </tr>\n",
       "    <tr>\n",
       "      <th>3</th>\n",
       "      <td>56</td>\n",
       "      <td>1</td>\n",
       "      <td>1</td>\n",
       "      <td>120</td>\n",
       "      <td>236</td>\n",
       "      <td>0</td>\n",
       "      <td>1</td>\n",
       "      <td>178</td>\n",
       "      <td>0</td>\n",
       "      <td>0.8</td>\n",
       "      <td>2</td>\n",
       "      <td>0</td>\n",
       "      <td>2</td>\n",
       "      <td>1</td>\n",
       "    </tr>\n",
       "    <tr>\n",
       "      <th>4</th>\n",
       "      <td>57</td>\n",
       "      <td>0</td>\n",
       "      <td>0</td>\n",
       "      <td>120</td>\n",
       "      <td>354</td>\n",
       "      <td>0</td>\n",
       "      <td>1</td>\n",
       "      <td>163</td>\n",
       "      <td>1</td>\n",
       "      <td>0.6</td>\n",
       "      <td>2</td>\n",
       "      <td>0</td>\n",
       "      <td>2</td>\n",
       "      <td>1</td>\n",
       "    </tr>\n",
       "  </tbody>\n",
       "</table>\n",
       "</div>"
      ],
      "text/plain": [
       "   age  sex  cp  trestbps  chol  fbs  restecg  thalach  exang  oldpeak  slope  \\\n",
       "0   63    1   3       145   233    1        0      150      0      2.3      0   \n",
       "1   37    1   2       130   250    0        1      187      0      3.5      0   \n",
       "2   41    0   1       130   204    0        0      172      0      1.4      2   \n",
       "3   56    1   1       120   236    0        1      178      0      0.8      2   \n",
       "4   57    0   0       120   354    0        1      163      1      0.6      2   \n",
       "\n",
       "   ca  thal  target  \n",
       "0   0     1       1  \n",
       "1   0     2       1  \n",
       "2   0     2       1  \n",
       "3   0     2       1  \n",
       "4   0     2       1  "
      ]
     },
     "execution_count": 2,
     "metadata": {},
     "output_type": "execute_result"
    }
   ],
   "source": [
    "df_heart = pd.read_csv('heart.csv')\n",
    "df_heart.head()"
   ]
  },
  {
   "cell_type": "markdown",
   "metadata": {},
   "source": [
    "<p>Abaixo é construido uma visualização de quais as colunas que compõe o conjunto de dados</p>"
   ]
  },
  {
   "cell_type": "code",
   "execution_count": 3,
   "metadata": {},
   "outputs": [
    {
     "name": "stdout",
     "output_type": "stream",
     "text": [
      "0 - age\n",
      "1 - sex\n",
      "2 - cp\n",
      "3 - trestbps\n",
      "4 - chol\n",
      "5 - fbs\n",
      "6 - restecg\n",
      "7 - thalach\n",
      "8 - exang\n",
      "9 - oldpeak\n",
      "10 - slope\n",
      "11 - ca\n",
      "12 - thal\n",
      "13 - target\n"
     ]
    }
   ],
   "source": [
    "for index, column in enumerate(df_heart.columns):\n",
    "    print(str(index) + ' - ' + str(column))"
   ]
  },
  {
   "cell_type": "markdown",
   "metadata": {},
   "source": [
    "<h2><a name=\"topico2\">2. Avaliando intituitivamente os dados</a></h2>\n",
    "<p>A partir deste ponto a biblioteca <a href=\"https://pandas.pydata.org/\" target=\"_blank\">Pandas</a> será utilizada para explorar os dados.</p>\n",
    "<p>Obtém uma tupla com as dimensões do Data Frame explorado no formato (número de linhas, número de colunas)</p>"
   ]
  },
  {
   "cell_type": "code",
   "execution_count": 4,
   "metadata": {},
   "outputs": [
    {
     "data": {
      "text/plain": [
       "(303, 14)"
      ]
     },
     "execution_count": 4,
     "metadata": {},
     "output_type": "execute_result"
    }
   ],
   "source": [
    "df_heart.shape"
   ]
  },
  {
   "cell_type": "markdown",
   "metadata": {},
   "source": [
    "<p>Obtém o tipo de dados de cada coluna do <i>Data Frame</i></p>\n",
    "\n",
    "<p>A principio os tipos de dados e a amostra observada abaixo demonstra que não há uma necessidade de converção entre tipos de dados</p>"
   ]
  },
  {
   "cell_type": "code",
   "execution_count": 5,
   "metadata": {},
   "outputs": [
    {
     "data": {
      "text/plain": [
       "age           int64\n",
       "sex           int64\n",
       "cp            int64\n",
       "trestbps      int64\n",
       "chol          int64\n",
       "fbs           int64\n",
       "restecg       int64\n",
       "thalach       int64\n",
       "exang         int64\n",
       "oldpeak     float64\n",
       "slope         int64\n",
       "ca            int64\n",
       "thal          int64\n",
       "target        int64\n",
       "dtype: object"
      ]
     },
     "execution_count": 5,
     "metadata": {},
     "output_type": "execute_result"
    }
   ],
   "source": [
    "df_heart.dtypes"
   ]
  },
  {
   "cell_type": "markdown",
   "metadata": {},
   "source": [
    "<p>Obtém um resumo do <i>Data Frame</i>, sendo possível observar a distriuição de registros nulos e não-nulos</p>"
   ]
  },
  {
   "cell_type": "code",
   "execution_count": 6,
   "metadata": {},
   "outputs": [
    {
     "name": "stdout",
     "output_type": "stream",
     "text": [
      "<class 'pandas.core.frame.DataFrame'>\n",
      "RangeIndex: 303 entries, 0 to 302\n",
      "Data columns (total 14 columns):\n",
      "age         303 non-null int64\n",
      "sex         303 non-null int64\n",
      "cp          303 non-null int64\n",
      "trestbps    303 non-null int64\n",
      "chol        303 non-null int64\n",
      "fbs         303 non-null int64\n",
      "restecg     303 non-null int64\n",
      "thalach     303 non-null int64\n",
      "exang       303 non-null int64\n",
      "oldpeak     303 non-null float64\n",
      "slope       303 non-null int64\n",
      "ca          303 non-null int64\n",
      "thal        303 non-null int64\n",
      "target      303 non-null int64\n",
      "dtypes: float64(1), int64(13)\n",
      "memory usage: 33.2 KB\n"
     ]
    }
   ],
   "source": [
    "df_heart.info()"
   ]
  },
  {
   "cell_type": "markdown",
   "metadata": {},
   "source": [
    "<p>Obtém o número de valores unicos por coluna no <i>Data Frame</i></p>"
   ]
  },
  {
   "cell_type": "code",
   "execution_count": 4,
   "metadata": {},
   "outputs": [
    {
     "data": {
      "text/plain": [
       "age          41\n",
       "sex           2\n",
       "cp            4\n",
       "trestbps     49\n",
       "chol        152\n",
       "fbs           2\n",
       "restecg       3\n",
       "thalach      91\n",
       "exang         2\n",
       "oldpeak      40\n",
       "slope         3\n",
       "ca            5\n",
       "thal          4\n",
       "target        2\n",
       "dtype: int64"
      ]
     },
     "execution_count": 4,
     "metadata": {},
     "output_type": "execute_result"
    }
   ],
   "source": [
    "df_heart.nunique()"
   ]
  },
  {
   "cell_type": "code",
   "execution_count": 17,
   "metadata": {},
   "outputs": [
    {
     "data": {
      "text/plain": [
       "array([0, 1], dtype=int64)"
      ]
     },
     "execution_count": 17,
     "metadata": {},
     "output_type": "execute_result"
    }
   ],
   "source": [
    "df_heart['exang'].unique()"
   ]
  },
  {
   "cell_type": "markdown",
   "metadata": {},
   "source": [
    "<h2><a name=\"topico3\">3. Analise estatistica descritiva e gráfica do <i>dataset</i></a></h2>"
   ]
  },
  {
   "cell_type": "markdown",
   "metadata": {},
   "source": [
    "<p>Obtém estatísticas descritivas do conjunto de dados</p>"
   ]
  },
  {
   "cell_type": "code",
   "execution_count": 5,
   "metadata": {},
   "outputs": [
    {
     "data": {
      "text/html": [
       "<div>\n",
       "<style scoped>\n",
       "    .dataframe tbody tr th:only-of-type {\n",
       "        vertical-align: middle;\n",
       "    }\n",
       "\n",
       "    .dataframe tbody tr th {\n",
       "        vertical-align: top;\n",
       "    }\n",
       "\n",
       "    .dataframe thead th {\n",
       "        text-align: right;\n",
       "    }\n",
       "</style>\n",
       "<table border=\"1\" class=\"dataframe\">\n",
       "  <thead>\n",
       "    <tr style=\"text-align: right;\">\n",
       "      <th></th>\n",
       "      <th>age</th>\n",
       "      <th>sex</th>\n",
       "      <th>cp</th>\n",
       "      <th>trestbps</th>\n",
       "      <th>chol</th>\n",
       "      <th>fbs</th>\n",
       "      <th>restecg</th>\n",
       "      <th>thalach</th>\n",
       "      <th>exang</th>\n",
       "      <th>oldpeak</th>\n",
       "      <th>slope</th>\n",
       "      <th>ca</th>\n",
       "      <th>thal</th>\n",
       "      <th>target</th>\n",
       "    </tr>\n",
       "  </thead>\n",
       "  <tbody>\n",
       "    <tr>\n",
       "      <th>count</th>\n",
       "      <td>303.000000</td>\n",
       "      <td>303.000000</td>\n",
       "      <td>303.000000</td>\n",
       "      <td>303.000000</td>\n",
       "      <td>303.000000</td>\n",
       "      <td>303.000000</td>\n",
       "      <td>303.000000</td>\n",
       "      <td>303.000000</td>\n",
       "      <td>303.000000</td>\n",
       "      <td>303.000000</td>\n",
       "      <td>303.000000</td>\n",
       "      <td>303.000000</td>\n",
       "      <td>303.000000</td>\n",
       "      <td>303.000000</td>\n",
       "    </tr>\n",
       "    <tr>\n",
       "      <th>mean</th>\n",
       "      <td>54.366337</td>\n",
       "      <td>0.683168</td>\n",
       "      <td>0.966997</td>\n",
       "      <td>131.623762</td>\n",
       "      <td>246.264026</td>\n",
       "      <td>0.148515</td>\n",
       "      <td>0.528053</td>\n",
       "      <td>149.646865</td>\n",
       "      <td>0.326733</td>\n",
       "      <td>1.039604</td>\n",
       "      <td>1.399340</td>\n",
       "      <td>0.729373</td>\n",
       "      <td>2.313531</td>\n",
       "      <td>0.544554</td>\n",
       "    </tr>\n",
       "    <tr>\n",
       "      <th>std</th>\n",
       "      <td>9.082101</td>\n",
       "      <td>0.466011</td>\n",
       "      <td>1.032052</td>\n",
       "      <td>17.538143</td>\n",
       "      <td>51.830751</td>\n",
       "      <td>0.356198</td>\n",
       "      <td>0.525860</td>\n",
       "      <td>22.905161</td>\n",
       "      <td>0.469794</td>\n",
       "      <td>1.161075</td>\n",
       "      <td>0.616226</td>\n",
       "      <td>1.022606</td>\n",
       "      <td>0.612277</td>\n",
       "      <td>0.498835</td>\n",
       "    </tr>\n",
       "    <tr>\n",
       "      <th>min</th>\n",
       "      <td>29.000000</td>\n",
       "      <td>0.000000</td>\n",
       "      <td>0.000000</td>\n",
       "      <td>94.000000</td>\n",
       "      <td>126.000000</td>\n",
       "      <td>0.000000</td>\n",
       "      <td>0.000000</td>\n",
       "      <td>71.000000</td>\n",
       "      <td>0.000000</td>\n",
       "      <td>0.000000</td>\n",
       "      <td>0.000000</td>\n",
       "      <td>0.000000</td>\n",
       "      <td>0.000000</td>\n",
       "      <td>0.000000</td>\n",
       "    </tr>\n",
       "    <tr>\n",
       "      <th>25%</th>\n",
       "      <td>47.500000</td>\n",
       "      <td>0.000000</td>\n",
       "      <td>0.000000</td>\n",
       "      <td>120.000000</td>\n",
       "      <td>211.000000</td>\n",
       "      <td>0.000000</td>\n",
       "      <td>0.000000</td>\n",
       "      <td>133.500000</td>\n",
       "      <td>0.000000</td>\n",
       "      <td>0.000000</td>\n",
       "      <td>1.000000</td>\n",
       "      <td>0.000000</td>\n",
       "      <td>2.000000</td>\n",
       "      <td>0.000000</td>\n",
       "    </tr>\n",
       "    <tr>\n",
       "      <th>50%</th>\n",
       "      <td>55.000000</td>\n",
       "      <td>1.000000</td>\n",
       "      <td>1.000000</td>\n",
       "      <td>130.000000</td>\n",
       "      <td>240.000000</td>\n",
       "      <td>0.000000</td>\n",
       "      <td>1.000000</td>\n",
       "      <td>153.000000</td>\n",
       "      <td>0.000000</td>\n",
       "      <td>0.800000</td>\n",
       "      <td>1.000000</td>\n",
       "      <td>0.000000</td>\n",
       "      <td>2.000000</td>\n",
       "      <td>1.000000</td>\n",
       "    </tr>\n",
       "    <tr>\n",
       "      <th>75%</th>\n",
       "      <td>61.000000</td>\n",
       "      <td>1.000000</td>\n",
       "      <td>2.000000</td>\n",
       "      <td>140.000000</td>\n",
       "      <td>274.500000</td>\n",
       "      <td>0.000000</td>\n",
       "      <td>1.000000</td>\n",
       "      <td>166.000000</td>\n",
       "      <td>1.000000</td>\n",
       "      <td>1.600000</td>\n",
       "      <td>2.000000</td>\n",
       "      <td>1.000000</td>\n",
       "      <td>3.000000</td>\n",
       "      <td>1.000000</td>\n",
       "    </tr>\n",
       "    <tr>\n",
       "      <th>max</th>\n",
       "      <td>77.000000</td>\n",
       "      <td>1.000000</td>\n",
       "      <td>3.000000</td>\n",
       "      <td>200.000000</td>\n",
       "      <td>564.000000</td>\n",
       "      <td>1.000000</td>\n",
       "      <td>2.000000</td>\n",
       "      <td>202.000000</td>\n",
       "      <td>1.000000</td>\n",
       "      <td>6.200000</td>\n",
       "      <td>2.000000</td>\n",
       "      <td>4.000000</td>\n",
       "      <td>3.000000</td>\n",
       "      <td>1.000000</td>\n",
       "    </tr>\n",
       "  </tbody>\n",
       "</table>\n",
       "</div>"
      ],
      "text/plain": [
       "              age         sex          cp    trestbps        chol         fbs  \\\n",
       "count  303.000000  303.000000  303.000000  303.000000  303.000000  303.000000   \n",
       "mean    54.366337    0.683168    0.966997  131.623762  246.264026    0.148515   \n",
       "std      9.082101    0.466011    1.032052   17.538143   51.830751    0.356198   \n",
       "min     29.000000    0.000000    0.000000   94.000000  126.000000    0.000000   \n",
       "25%     47.500000    0.000000    0.000000  120.000000  211.000000    0.000000   \n",
       "50%     55.000000    1.000000    1.000000  130.000000  240.000000    0.000000   \n",
       "75%     61.000000    1.000000    2.000000  140.000000  274.500000    0.000000   \n",
       "max     77.000000    1.000000    3.000000  200.000000  564.000000    1.000000   \n",
       "\n",
       "          restecg     thalach       exang     oldpeak       slope          ca  \\\n",
       "count  303.000000  303.000000  303.000000  303.000000  303.000000  303.000000   \n",
       "mean     0.528053  149.646865    0.326733    1.039604    1.399340    0.729373   \n",
       "std      0.525860   22.905161    0.469794    1.161075    0.616226    1.022606   \n",
       "min      0.000000   71.000000    0.000000    0.000000    0.000000    0.000000   \n",
       "25%      0.000000  133.500000    0.000000    0.000000    1.000000    0.000000   \n",
       "50%      1.000000  153.000000    0.000000    0.800000    1.000000    0.000000   \n",
       "75%      1.000000  166.000000    1.000000    1.600000    2.000000    1.000000   \n",
       "max      2.000000  202.000000    1.000000    6.200000    2.000000    4.000000   \n",
       "\n",
       "             thal      target  \n",
       "count  303.000000  303.000000  \n",
       "mean     2.313531    0.544554  \n",
       "std      0.612277    0.498835  \n",
       "min      0.000000    0.000000  \n",
       "25%      2.000000    0.000000  \n",
       "50%      2.000000    1.000000  \n",
       "75%      3.000000    1.000000  \n",
       "max      3.000000    1.000000  "
      ]
     },
     "execution_count": 5,
     "metadata": {},
     "output_type": "execute_result"
    }
   ],
   "source": [
    "df_heart.describe()"
   ]
  },
  {
   "cell_type": "code",
   "execution_count": 8,
   "metadata": {},
   "outputs": [
    {
     "data": {
      "image/png": "[encoded data removed]",
      "text/plain": [
       "<Figure size 576x432 with 1 Axes>"
      ]
     },
     "metadata": {
      "needs_background": "light"
     },
     "output_type": "display_data"
    }
   ],
   "source": [
    "df_a = df_heart[df_heart['target'] == 1]\n",
    "df_b = df_heart[df_heart['target'] == 0]\n",
    "fig, ax = plt.subplots(figsize=(8, 6))\n",
    "ax.hist(df_a['target'], alpha=0.5, label='> 50% de diâmetro estreitamento')\n",
    "ax.hist(df_b['target'], alpha=0.5, label='<50% de diâmetro estreitamento')\n",
    "ax.set_title('Distribuição das classes alvo')\n",
    "ax.set_xlabel('Area')\n",
    "ax.set_ylabel('Count')\n",
    "ax.legend(loc='upper left')\n",
    "plt.show()"
   ]
  },
  {
   "cell_type": "code",
   "execution_count": 11,
   "metadata": {},
   "outputs": [
    {
     "data": {
      "image/png": "[encoded data removed]",
      "text/plain": [
       "<Figure size 1152x1008 with 196 Axes>"
      ]
     },
     "metadata": {
      "needs_background": "light"
     },
     "output_type": "display_data"
    }
   ],
   "source": [
    "pd.plotting.scatter_matrix(df_heart, figsize=(16,14));"
   ]
  },
  {
   "cell_type": "code",
   "execution_count": 13,
   "metadata": {},
   "outputs": [
    {
     "data": {
      "image/png": "[encoded data removed]",
      "text/plain": [
       "<Figure size 432x288 with 1 Axes>"
      ]
     },
     "metadata": {
      "needs_background": "light"
     },
     "output_type": "display_data"
    }
   ],
   "source": [
    "ax = df_heart.groupby(['age', 'target']).size().unstack().plot.bar(title='Gráfico de Barras - Idade / Classe', \n",
    "                                                                       legend=True);\n",
    "ax.set_xlabel(\"Idade / Classe\");\n",
    "ax.set_ylabel(\"Frequência\");"
   ]
  },
  {
   "cell_type": "code",
   "execution_count": 15,
   "metadata": {},
   "outputs": [
    {
     "data": {
      "image/png": "[encoded data removed]",
      "text/plain": [
       "<Figure size 432x288 with 1 Axes>"
      ]
     },
     "metadata": {
      "needs_background": "light"
     },
     "output_type": "display_data"
    }
   ],
   "source": [
    "df_heart['age'].plot(kind='hist');"
   ]
  },
  {
   "cell_type": "markdown",
   "metadata": {},
   "source": [
    "<h2><a name=\"topico4\">4. Pré-processa os dados</a></h2>"
   ]
  },
  {
   "cell_type": "markdown",
   "metadata": {},
   "source": [
    "<p>Neste ponto os dados são observados para verificar se existem ocorrências duplicadas.</p>\n",
    "\n",
    "<p>Observando então que há ocorrências duplicadas então há necessidade de executar procedimento para limpar as duplicatas.</p>"
   ]
  },
  {
   "cell_type": "code",
   "execution_count": 7,
   "metadata": {},
   "outputs": [
    {
     "data": {
      "text/plain": [
       "1"
      ]
     },
     "execution_count": 7,
     "metadata": {},
     "output_type": "execute_result"
    }
   ],
   "source": [
    "sum(df_heart.duplicated())"
   ]
  },
  {
   "cell_type": "code",
   "execution_count": 9,
   "metadata": {},
   "outputs": [],
   "source": [
    "df_heart.drop_duplicates(inplace=True)"
   ]
  },
  {
   "cell_type": "markdown",
   "metadata": {},
   "source": [
    "<p>Verifica se as colunas tem valores nulos</p>"
   ]
  },
  {
   "cell_type": "code",
   "execution_count": 18,
   "metadata": {},
   "outputs": [
    {
     "data": {
      "text/plain": [
       "False"
      ]
     },
     "execution_count": 18,
     "metadata": {},
     "output_type": "execute_result"
    }
   ],
   "source": [
    "df_heart.isnull().sum().any()"
   ]
  },
  {
   "cell_type": "markdown",
   "metadata": {},
   "source": [
    "<h2><a name=\"topico5\">5. Aplicação do algoritmo de ML</a></h2>"
   ]
  },
  {
   "cell_type": "code",
   "execution_count": 3,
   "metadata": {},
   "outputs": [],
   "source": [
    "# Features\n",
    "X=df_heart[['age', 'sex', 'cp', 'trestbps',  'chol', 'fbs', 'restecg', 'thalach', 'exang', 'oldpeak', 'slope', 'ca', 'thal']]\n",
    "\n",
    "# Labels\n",
    "y=df_heart['target']\n",
    "\n",
    "# Split dataset into training set and test set\n",
    "# 70% training and 30% test\n",
    "X_train, X_test, y_train, y_test = train_test_split(X, y, test_size=0.3) "
   ]
  },
  {
   "cell_type": "code",
   "execution_count": 42,
   "metadata": {},
   "outputs": [],
   "source": [
    "model_clf = RandomForestClassifier(n_estimators= 3000,\n",
    "                                criterion='entropy',\n",
    "                                max_features = 'auto',\n",
    "                                max_depth = None,\n",
    "                                min_samples_split = 2,\n",
    "                                min_samples_leaf = 1,\n",
    "                                min_weight_fraction_leaf = 0,\n",
    "                                max_leaf_nodes = None,\n",
    "                                min_impurity_decrease = 0,\n",
    "                                bootstrap = True,\n",
    "                                oob_score = True,\n",
    "                                n_jobs = -1,\n",
    "                                random_state = 1,\n",
    "                                verbose = 1,\n",
    "                                warm_start = False,\n",
    "                                class_weight = None)"
   ]
  },
  {
   "cell_type": "code",
   "execution_count": 43,
   "metadata": {},
   "outputs": [
    {
     "name": "stderr",
     "output_type": "stream",
     "text": [
      "[Parallel(n_jobs=-1)]: Using backend ThreadingBackend with 4 concurrent workers.\n",
      "[Parallel(n_jobs=-1)]: Done  42 tasks      | elapsed:    0.0s\n",
      "[Parallel(n_jobs=-1)]: Done 192 tasks      | elapsed:    0.0s\n",
      "[Parallel(n_jobs=-1)]: Done 442 tasks      | elapsed:    0.4s\n",
      "[Parallel(n_jobs=-1)]: Done 792 tasks      | elapsed:    0.7s\n",
      "[Parallel(n_jobs=-1)]: Done 1242 tasks      | elapsed:    1.0s\n",
      "[Parallel(n_jobs=-1)]: Done 1792 tasks      | elapsed:    1.4s\n",
      "[Parallel(n_jobs=-1)]: Done 2442 tasks      | elapsed:    1.9s\n",
      "[Parallel(n_jobs=-1)]: Done 3000 out of 3000 | elapsed:    2.2s finished\n"
     ]
    },
    {
     "data": {
      "text/plain": [
       "RandomForestClassifier(bootstrap=True, class_weight=None, criterion='entropy',\n",
       "            max_depth=None, max_features='auto', max_leaf_nodes=None,\n",
       "            min_impurity_decrease=0, min_impurity_split=None,\n",
       "            min_samples_leaf=1, min_samples_split=2,\n",
       "            min_weight_fraction_leaf=0, n_estimators=3000, n_jobs=-1,\n",
       "            oob_score=True, random_state=1, verbose=1, warm_start=False)"
      ]
     },
     "execution_count": 43,
     "metadata": {},
     "output_type": "execute_result"
    }
   ],
   "source": [
    "model_clf.fit(X_train, y_train)"
   ]
  },
  {
   "cell_type": "code",
   "execution_count": 44,
   "metadata": {},
   "outputs": [
    {
     "name": "stderr",
     "output_type": "stream",
     "text": [
      "[Parallel(n_jobs=4)]: Using backend ThreadingBackend with 4 concurrent workers.\n",
      "[Parallel(n_jobs=4)]: Done  42 tasks      | elapsed:    0.0s\n",
      "[Parallel(n_jobs=4)]: Done 192 tasks      | elapsed:    0.0s\n",
      "[Parallel(n_jobs=4)]: Done 442 tasks      | elapsed:    0.0s\n",
      "[Parallel(n_jobs=4)]: Done 792 tasks      | elapsed:    0.1s\n",
      "[Parallel(n_jobs=4)]: Done 1242 tasks      | elapsed:    0.1s\n",
      "[Parallel(n_jobs=4)]: Done 1792 tasks      | elapsed:    0.2s\n",
      "[Parallel(n_jobs=4)]: Done 2442 tasks      | elapsed:    0.4s\n",
      "[Parallel(n_jobs=4)]: Done 3000 out of 3000 | elapsed:    0.5s finished\n"
     ]
    }
   ],
   "source": [
    "y_pred = model_clf.predict(X_test)"
   ]
  },
  {
   "cell_type": "code",
   "execution_count": 35,
   "metadata": {},
   "outputs": [
    {
     "name": "stdout",
     "output_type": "stream",
     "text": [
      "Accuracy: 0.7912087912087912\n"
     ]
    }
   ],
   "source": [
    "print(\"Accuracy:\",metrics.accuracy_score(y_test, y_pred)) # com 1000 arvores"
   ]
  },
  {
   "cell_type": "code",
   "execution_count": 41,
   "metadata": {},
   "outputs": [
    {
     "name": "stdout",
     "output_type": "stream",
     "text": [
      "Accuracy: 0.7802197802197802\n"
     ]
    }
   ],
   "source": [
    "print(\"Accuracy:\",metrics.accuracy_score(y_test, y_pred)) # com 2000 arvores"
   ]
  },
  {
   "cell_type": "code",
   "execution_count": 45,
   "metadata": {},
   "outputs": [
    {
     "name": "stdout",
     "output_type": "stream",
     "text": [
      "Accuracy: 0.7912087912087912\n"
     ]
    }
   ],
   "source": [
    "print(\"Accuracy:\",metrics.accuracy_score(y_test, y_pred)) # com 3000 arvores"
   ]
  },
  {
   "cell_type": "code",
   "execution_count": 52,
   "metadata": {},
   "outputs": [
    {
     "data": {
      "text/plain": [
       "oldpeak     0.137256\n",
       "thalach     0.123203\n",
       "cp          0.111681\n",
       "thal        0.105179\n",
       "chol        0.093983\n",
       "age         0.088557\n",
       "ca          0.077628\n",
       "trestbps    0.077544\n",
       "slope       0.075467\n",
       "exang       0.038501\n",
       "sex         0.037462\n",
       "restecg     0.021530\n",
       "fbs         0.012008\n",
       "dtype: float64"
      ]
     },
     "execution_count": 52,
     "metadata": {},
     "output_type": "execute_result"
    }
   ],
   "source": [
    "feature_imp = pd.Series(model_clf.feature_importances_,index=X.columns).sort_values(ascending=False)\n",
    "feature_imp"
   ]
  },
  {
   "cell_type": "code",
   "execution_count": 54,
   "metadata": {},
   "outputs": [
    {
     "name": "stderr",
     "output_type": "stream",
     "text": [
      "No handles with labels found to put in legend.\n"
     ]
    },
    {
     "data": {
      "image/png": "[encoded data removed]",
      "text/plain": [
       "<Figure size 432x288 with 1 Axes>"
      ]
     },
     "metadata": {
      "needs_background": "light"
     },
     "output_type": "display_data"
    }
   ],
   "source": [
    "# Creating a bar plot\n",
    "sns.barplot(x=feature_imp, y=feature_imp.index)\n",
    "# Add labels to your graph\n",
    "plt.xlabel('Feature Importance Score')\n",
    "plt.ylabel('Features')\n",
    "plt.title(\"Visualizing Important Features\")\n",
    "plt.legend()\n",
    "plt.show()"
   ]
  },
  {
   "cell_type": "code",
   "execution_count": 18,
   "metadata": {},
   "outputs": [
    {
     "name": "stderr",
     "output_type": "stream",
     "text": [
      "c:\\users\\danilo santos\\appdata\\local\\programs\\python\\python37\\lib\\site-packages\\sklearn\\preprocessing\\data.py:645: DataConversionWarning: Data with input dtype int64, float64 were all converted to float64 by StandardScaler.\n",
      "  return self.partial_fit(X, y)\n",
      "c:\\users\\danilo santos\\appdata\\local\\programs\\python\\python37\\lib\\site-packages\\sklearn\\base.py:464: DataConversionWarning: Data with input dtype int64, float64 were all converted to float64 by StandardScaler.\n",
      "  return self.fit(X, **fit_params).transform(X)\n",
      "c:\\users\\danilo santos\\appdata\\local\\programs\\python\\python37\\lib\\site-packages\\ipykernel_launcher.py:3: DataConversionWarning: Data with input dtype int64, float64 were all converted to float64 by StandardScaler.\n",
      "  This is separate from the ipykernel package so we can avoid doing imports until\n"
     ]
    }
   ],
   "source": [
    "sc = StandardScaler()  \n",
    "X_train_scaled = sc.fit_transform(X_train)  \n",
    "X_test_scaled = sc.transform(X_test)"
   ]
  },
  {
   "cell_type": "code",
   "execution_count": 8,
   "metadata": {},
   "outputs": [],
   "source": [
    "model_clf_2 = RandomForestClassifier(n_estimators= 1000,\n",
    "                                criterion='entropy',\n",
    "                                max_features = 'auto',\n",
    "                                max_depth = None,\n",
    "                                min_samples_split = 2,\n",
    "                                min_samples_leaf = 1,\n",
    "                                min_weight_fraction_leaf = 0,\n",
    "                                max_leaf_nodes = None,\n",
    "                                min_impurity_decrease = 0,\n",
    "                                bootstrap = True,\n",
    "                                oob_score = True,\n",
    "                                n_jobs = -1,\n",
    "                                random_state = 1,\n",
    "                                verbose = 1,\n",
    "                                warm_start = False,\n",
    "                                class_weight = None)"
   ]
  },
  {
   "cell_type": "code",
   "execution_count": 10,
   "metadata": {},
   "outputs": [
    {
     "name": "stderr",
     "output_type": "stream",
     "text": [
      "[Parallel(n_jobs=-1)]: Using backend ThreadingBackend with 4 concurrent workers.\n",
      "[Parallel(n_jobs=-1)]: Done  42 tasks      | elapsed:    0.1s\n",
      "[Parallel(n_jobs=-1)]: Done 192 tasks      | elapsed:    0.2s\n",
      "[Parallel(n_jobs=-1)]: Done 442 tasks      | elapsed:    0.4s\n",
      "[Parallel(n_jobs=-1)]: Done 792 tasks      | elapsed:    0.7s\n",
      "[Parallel(n_jobs=-1)]: Done 1000 out of 1000 | elapsed:    0.8s finished\n"
     ]
    },
    {
     "data": {
      "text/plain": [
       "RandomForestClassifier(bootstrap=True, class_weight=None, criterion='entropy',\n",
       "            max_depth=None, max_features='auto', max_leaf_nodes=None,\n",
       "            min_impurity_decrease=0, min_impurity_split=None,\n",
       "            min_samples_leaf=1, min_samples_split=2,\n",
       "            min_weight_fraction_leaf=0, n_estimators=1000, n_jobs=-1,\n",
       "            oob_score=True, random_state=1, verbose=1, warm_start=False)"
      ]
     },
     "execution_count": 10,
     "metadata": {},
     "output_type": "execute_result"
    }
   ],
   "source": [
    "model_clf_2.fit(X_train_scaled, y_train)"
   ]
  },
  {
   "cell_type": "code",
   "execution_count": 11,
   "metadata": {},
   "outputs": [
    {
     "name": "stderr",
     "output_type": "stream",
     "text": [
      "[Parallel(n_jobs=4)]: Using backend ThreadingBackend with 4 concurrent workers.\n",
      "[Parallel(n_jobs=4)]: Done  42 tasks      | elapsed:    0.0s\n",
      "[Parallel(n_jobs=4)]: Done 192 tasks      | elapsed:    0.0s\n",
      "[Parallel(n_jobs=4)]: Done 442 tasks      | elapsed:    0.0s\n",
      "[Parallel(n_jobs=4)]: Done 792 tasks      | elapsed:    0.1s\n",
      "[Parallel(n_jobs=4)]: Done 1000 out of 1000 | elapsed:    0.1s finished\n"
     ]
    }
   ],
   "source": [
    "y_pred = model_clf_2.predict(X_test_scaled)"
   ]
  },
  {
   "cell_type": "code",
   "execution_count": 12,
   "metadata": {},
   "outputs": [
    {
     "name": "stdout",
     "output_type": "stream",
     "text": [
      "Accuracy: 0.7912087912087912\n"
     ]
    }
   ],
   "source": [
    "print(\"Accuracy:\",metrics.accuracy_score(y_test, y_pred))"
   ]
  },
  {
   "cell_type": "code",
   "execution_count": 14,
   "metadata": {},
   "outputs": [
    {
     "data": {
      "text/plain": [
       "cp          0.147643\n",
       "thalach     0.128748\n",
       "oldpeak     0.120343\n",
       "age         0.108695\n",
       "thal        0.087108\n",
       "ca          0.080454\n",
       "chol        0.079526\n",
       "trestbps    0.072733\n",
       "slope       0.057679\n",
       "exang       0.053384\n",
       "sex         0.030397\n",
       "restecg     0.024505\n",
       "fbs         0.008784\n",
       "dtype: float64"
      ]
     },
     "execution_count": 14,
     "metadata": {},
     "output_type": "execute_result"
    }
   ],
   "source": [
    "feature_imp = pd.Series(model_clf_2.feature_importances_,index=X.columns).sort_values(ascending=False)\n",
    "feature_imp"
   ]
  },
  {
   "cell_type": "code",
   "execution_count": 15,
   "metadata": {},
   "outputs": [
    {
     "name": "stderr",
     "output_type": "stream",
     "text": [
      "No handles with labels found to put in legend.\n"
     ]
    },
    {
     "data": {
      "image/png": "[encoded data removed]",
      "text/plain": [
       "<Figure size 432x288 with 1 Axes>"
      ]
     },
     "metadata": {
      "needs_background": "light"
     },
     "output_type": "display_data"
    }
   ],
   "source": [
    "# Creating a bar plot\n",
    "sns.barplot(x=feature_imp, y=feature_imp.index)\n",
    "# Add labels to your graph\n",
    "plt.xlabel('Feature Importance Score')\n",
    "plt.ylabel('Features')\n",
    "plt.title(\"Visualizing Important Features\")\n",
    "plt.legend()\n",
    "plt.show()"
   ]
  },
  {
   "cell_type": "code",
   "execution_count": 22,
   "metadata": {},
   "outputs": [],
   "source": [
    "# transformer = RobustScaler().fit(X_train)\n",
    "rs = RobustScaler(copy=True, quantile_range=(25.0, 75.0), with_centering=True, with_scaling=True)\n",
    "X_train_robust = rs.fit_transform(X_train)\n",
    "X_test_robust = rs.transform(X_test)"
   ]
  },
  {
   "cell_type": "code",
   "execution_count": 23,
   "metadata": {},
   "outputs": [],
   "source": [
    "model_clf_3 = RandomForestClassifier(n_estimators= 1000,\n",
    "                                criterion='entropy',\n",
    "                                max_features = 'auto',\n",
    "                                max_depth = None,\n",
    "                                min_samples_split = 2,\n",
    "                                min_samples_leaf = 1,\n",
    "                                min_weight_fraction_leaf = 0,\n",
    "                                max_leaf_nodes = None,\n",
    "                                min_impurity_decrease = 0,\n",
    "                                bootstrap = True,\n",
    "                                oob_score = True,\n",
    "                                n_jobs = -1,\n",
    "                                random_state = 1,\n",
    "                                verbose = 1,\n",
    "                                warm_start = False,\n",
    "                                class_weight = None)"
   ]
  },
  {
   "cell_type": "code",
   "execution_count": 27,
   "metadata": {},
   "outputs": [
    {
     "name": "stderr",
     "output_type": "stream",
     "text": [
      "[Parallel(n_jobs=-1)]: Using backend ThreadingBackend with 4 concurrent workers.\n",
      "[Parallel(n_jobs=-1)]: Done  42 tasks      | elapsed:    0.0s\n",
      "[Parallel(n_jobs=-1)]: Done 192 tasks      | elapsed:    0.0s\n",
      "[Parallel(n_jobs=-1)]: Done 442 tasks      | elapsed:    0.2s\n",
      "[Parallel(n_jobs=-1)]: Done 792 tasks      | elapsed:    0.4s\n",
      "[Parallel(n_jobs=-1)]: Done 1000 out of 1000 | elapsed:    0.5s finished\n"
     ]
    },
    {
     "data": {
      "text/plain": [
       "RandomForestClassifier(bootstrap=True, class_weight=None, criterion='entropy',\n",
       "            max_depth=None, max_features='auto', max_leaf_nodes=None,\n",
       "            min_impurity_decrease=0, min_impurity_split=None,\n",
       "            min_samples_leaf=1, min_samples_split=2,\n",
       "            min_weight_fraction_leaf=0, n_estimators=1000, n_jobs=-1,\n",
       "            oob_score=True, random_state=1, verbose=1, warm_start=False)"
      ]
     },
     "execution_count": 27,
     "metadata": {},
     "output_type": "execute_result"
    }
   ],
   "source": [
    "model_clf_3.fit(X_train_robust, y_train)"
   ]
  },
  {
   "cell_type": "code",
   "execution_count": 28,
   "metadata": {},
   "outputs": [
    {
     "name": "stderr",
     "output_type": "stream",
     "text": [
      "[Parallel(n_jobs=4)]: Using backend ThreadingBackend with 4 concurrent workers.\n",
      "[Parallel(n_jobs=4)]: Done  42 tasks      | elapsed:    0.0s\n",
      "[Parallel(n_jobs=4)]: Done 192 tasks      | elapsed:    0.0s\n",
      "[Parallel(n_jobs=4)]: Done 442 tasks      | elapsed:    0.0s\n",
      "[Parallel(n_jobs=4)]: Done 792 tasks      | elapsed:    0.0s\n",
      "[Parallel(n_jobs=4)]: Done 1000 out of 1000 | elapsed:    0.1s finished\n"
     ]
    }
   ],
   "source": [
    "y_pred = model_clf_3.predict(X_test_robust)"
   ]
  },
  {
   "cell_type": "code",
   "execution_count": 29,
   "metadata": {},
   "outputs": [
    {
     "name": "stdout",
     "output_type": "stream",
     "text": [
      "Accuracy: 0.7912087912087912\n"
     ]
    }
   ],
   "source": [
    "print(\"Accuracy:\",metrics.accuracy_score(y_test, y_pred))"
   ]
  },
  {
   "cell_type": "code",
   "execution_count": 30,
   "metadata": {},
   "outputs": [
    {
     "data": {
      "text/plain": [
       "cp          0.147643\n",
       "thalach     0.128748\n",
       "oldpeak     0.120343\n",
       "age         0.108695\n",
       "thal        0.087108\n",
       "ca          0.080454\n",
       "chol        0.079526\n",
       "trestbps    0.072733\n",
       "slope       0.057679\n",
       "exang       0.053384\n",
       "sex         0.030397\n",
       "restecg     0.024505\n",
       "fbs         0.008784\n",
       "dtype: float64"
      ]
     },
     "execution_count": 30,
     "metadata": {},
     "output_type": "execute_result"
    }
   ],
   "source": [
    "feature_imp = pd.Series(model_clf_2.feature_importances_,index=X.columns).sort_values(ascending=False)\n",
    "feature_imp"
   ]
  },
  {
   "cell_type": "code",
   "execution_count": 31,
   "metadata": {},
   "outputs": [
    {
     "name": "stderr",
     "output_type": "stream",
     "text": [
      "No handles with labels found to put in legend.\n"
     ]
    },
    {
     "data": {
      "image/png": "[encoded data removed]",
      "text/plain": [
       "<Figure size 432x288 with 1 Axes>"
      ]
     },
     "metadata": {
      "needs_background": "light"
     },
     "output_type": "display_data"
    }
   ],
   "source": [
    "# Creating a bar plot\n",
    "sns.barplot(x=feature_imp, y=feature_imp.index)\n",
    "# Add labels to your graph\n",
    "plt.xlabel('Feature Importance Score')\n",
    "plt.ylabel('Features')\n",
    "plt.title(\"Visualizing Important Features\")\n",
    "plt.legend()\n",
    "plt.show()"
   ]
  },
  {
   "cell_type": "markdown",
   "metadata": {},
   "source": [
    "<p>Para problemas de classificação, as métricas usadas para avaliar um algoritmo são precisão, matriz de confusão, recuperação de precisão e valores de F1. Execute o seguinte script para encontrar estes valores:</p>"
   ]
  },
  {
   "cell_type": "code",
   "execution_count": 35,
   "metadata": {},
   "outputs": [
    {
     "name": "stdout",
     "output_type": "stream",
     "text": [
      "> Matrix de confusão\n",
      "[[34 13]\n",
      " [ 6 38]]\n",
      "> Recuperação de precisão\n",
      "              precision    recall  f1-score   support\n",
      "\n",
      "           0       0.85      0.72      0.78        47\n",
      "           1       0.75      0.86      0.80        44\n",
      "\n",
      "   micro avg       0.79      0.79      0.79        91\n",
      "   macro avg       0.80      0.79      0.79        91\n",
      "weighted avg       0.80      0.79      0.79        91\n",
      "\n",
      "> Pontujação da acurácia\n",
      "0.7912087912087912\n"
     ]
    }
   ],
   "source": [
    "print('> Matrix de confusão')\n",
    "print(confusion_matrix(y_test,y_pred))  \n",
    "print('> Recuperação de precisão')\n",
    "print(classification_report(y_test,y_pred))  \n",
    "print('> Pontujação da acurácia')\n",
    "print(accuracy_score(y_test, y_pred))  "
   ]
  },
  {
   "cell_type": "markdown",
   "metadata": {},
   "source": [
    "<p>Neste exemplo usaremos amostragem estratificada por classe garantir que os conjuntos de treinamento e teste contenham um número equilibrado de representantes de cada uma das classes</p>"
   ]
  },
  {
   "cell_type": "code",
   "execution_count": 44,
   "metadata": {},
   "outputs": [
    {
     "name": "stderr",
     "output_type": "stream",
     "text": [
      "c:\\users\\danilo santos\\appdata\\local\\programs\\python\\python37\\lib\\site-packages\\sklearn\\preprocessing\\data.py:645: DataConversionWarning: Data with input dtype int64, float64 were all converted to float64 by StandardScaler.\n",
      "  return self.partial_fit(X, y)\n",
      "c:\\users\\danilo santos\\appdata\\local\\programs\\python\\python37\\lib\\site-packages\\sklearn\\base.py:464: DataConversionWarning: Data with input dtype int64, float64 were all converted to float64 by StandardScaler.\n",
      "  return self.fit(X, **fit_params).transform(X)\n",
      "c:\\users\\danilo santos\\appdata\\local\\programs\\python\\python37\\lib\\site-packages\\ipykernel_launcher.py:5: DataConversionWarning: Data with input dtype int64, float64 were all converted to float64 by StandardScaler.\n",
      "  \"\"\"\n",
      "[Parallel(n_jobs=-1)]: Using backend ThreadingBackend with 4 concurrent workers.\n",
      "[Parallel(n_jobs=-1)]: Done  42 tasks      | elapsed:    0.0s\n",
      "[Parallel(n_jobs=-1)]: Done 192 tasks      | elapsed:    0.0s\n",
      "[Parallel(n_jobs=-1)]: Done 442 tasks      | elapsed:    0.2s\n",
      "[Parallel(n_jobs=-1)]: Done 792 tasks      | elapsed:    0.5s\n",
      "[Parallel(n_jobs=-1)]: Done 1000 out of 1000 | elapsed:    0.6s finished\n",
      "[Parallel(n_jobs=4)]: Using backend ThreadingBackend with 4 concurrent workers.\n",
      "[Parallel(n_jobs=4)]: Done  42 tasks      | elapsed:    0.0s\n",
      "[Parallel(n_jobs=4)]: Done 192 tasks      | elapsed:    0.0s\n",
      "[Parallel(n_jobs=4)]: Done 442 tasks      | elapsed:    0.0s\n",
      "[Parallel(n_jobs=4)]: Done 792 tasks      | elapsed:    0.0s\n",
      "[Parallel(n_jobs=4)]: Done 1000 out of 1000 | elapsed:    0.1s finished\n"
     ]
    },
    {
     "name": "stdout",
     "output_type": "stream",
     "text": [
      "Accuracy: 0.8351648351648352\n",
      "> Features Importancies\n",
      "thalach     0.126559\n",
      "ca          0.124181\n",
      "oldpeak     0.104253\n",
      "age         0.101570\n",
      "chol        0.098150\n",
      "thal        0.093262\n",
      "trestbps    0.086146\n",
      "cp          0.083509\n",
      "exang       0.067452\n",
      "slope       0.044317\n",
      "sex         0.036666\n",
      "restecg     0.021748\n",
      "fbs         0.012187\n",
      "dtype: float64\n",
      "> Matrix de confusão\n",
      "[[31 10]\n",
      " [ 5 45]]\n",
      "> Recuperação de precisão\n",
      "              precision    recall  f1-score   support\n",
      "\n",
      "           0       0.86      0.76      0.81        41\n",
      "           1       0.82      0.90      0.86        50\n",
      "\n",
      "   micro avg       0.84      0.84      0.84        91\n",
      "   macro avg       0.84      0.83      0.83        91\n",
      "weighted avg       0.84      0.84      0.83        91\n",
      "\n",
      "> Pontujação da acurácia\n",
      "0.8351648351648352\n"
     ]
    }
   ],
   "source": [
    "X_train, X_test, y_train, y_test = train_test_split(X, y, test_size=0.3, stratify=y, random_state=100)\n",
    "\n",
    "sc = StandardScaler()  \n",
    "X_train_scaled = sc.fit_transform(X_train)  \n",
    "X_test_scaled = sc.transform(X_test)\n",
    "\n",
    "model_clf = RandomForestClassifier(n_estimators= 1000,\n",
    "                                criterion='entropy',\n",
    "                                max_features = 'auto',\n",
    "                                max_depth = None,\n",
    "                                min_samples_split = 2,\n",
    "                                min_samples_leaf = 1,\n",
    "                                min_weight_fraction_leaf = 0,\n",
    "                                max_leaf_nodes = None,\n",
    "                                min_impurity_decrease = 0,\n",
    "                                bootstrap = True,\n",
    "                                oob_score = True,\n",
    "                                n_jobs = -1,\n",
    "                                random_state = 1,\n",
    "                                verbose = 1,\n",
    "                                warm_start = False,\n",
    "                                class_weight = None)\n",
    "\n",
    "model_clf.fit(X_train_scaled, y_train)\n",
    "\n",
    "y_pred = model_clf.predict(X_test_scaled)\n",
    "\n",
    "print(\"Accuracy:\",metrics.accuracy_score(y_test, y_pred))\n",
    "\n",
    "feature_imp = pd.Series(model_clf.feature_importances_,index=X.columns).sort_values(ascending=False)\n",
    "print('> Features Importancies')\n",
    "print(feature_imp)\n",
    "\n",
    "print('> Matrix de confusão')\n",
    "print(confusion_matrix(y_test,y_pred))  \n",
    "print('> Recuperação de precisão')\n",
    "print(classification_report(y_test,y_pred))  \n",
    "print('> Pontujação da acurácia')\n",
    "print(accuracy_score(y_test, y_pred))  "
   ]
  },
  {
   "cell_type": "code",
   "execution_count": 45,
   "metadata": {},
   "outputs": [
    {
     "data": {
      "text/plain": [
       "<matplotlib.axes._subplots.AxesSubplot at 0xe7517ccf8>"
      ]
     },
     "execution_count": 45,
     "metadata": {},
     "output_type": "execute_result"
    },
    {
     "data": {
      "image/png": "[encoded data removed]",
      "text/plain": [
       "<Figure size 432x288 with 2 Axes>"
      ]
     },
     "metadata": {
      "needs_background": "light"
     },
     "output_type": "display_data"
    }
   ],
   "source": [
    "target_columns = ['> 50% de diâmetro estreitamento','< 50% de diâmetro estreitamento']\n",
    "cm = pd.DataFrame(confusion_matrix(y_test,y_pred), columns=target_columns, index=target_columns)\n",
    "sns.heatmap(cm, annot=True)"
   ]
  },
  {
   "cell_type": "code",
   "execution_count": 46,
   "metadata": {},
   "outputs": [
    {
     "name": "stderr",
     "output_type": "stream",
     "text": [
      "[Parallel(n_jobs=-1)]: Using backend ThreadingBackend with 4 concurrent workers.\n",
      "[Parallel(n_jobs=-1)]: Done  42 tasks      | elapsed:    0.0s\n",
      "[Parallel(n_jobs=-1)]: Done 192 tasks      | elapsed:    0.0s\n",
      "[Parallel(n_jobs=-1)]: Done 442 tasks      | elapsed:    0.2s\n",
      "[Parallel(n_jobs=-1)]: Done 792 tasks      | elapsed:    0.4s\n",
      "[Parallel(n_jobs=-1)]: Done 1000 out of 1000 | elapsed:    0.6s finished\n",
      "[Parallel(n_jobs=4)]: Using backend ThreadingBackend with 4 concurrent workers.\n",
      "[Parallel(n_jobs=4)]: Done  42 tasks      | elapsed:    0.0s\n",
      "[Parallel(n_jobs=4)]: Done 192 tasks      | elapsed:    0.0s\n",
      "[Parallel(n_jobs=4)]: Done 442 tasks      | elapsed:    0.0s\n",
      "[Parallel(n_jobs=4)]: Done 792 tasks      | elapsed:    0.0s\n",
      "[Parallel(n_jobs=4)]: Done 1000 out of 1000 | elapsed:    0.1s finished\n"
     ]
    },
    {
     "name": "stdout",
     "output_type": "stream",
     "text": [
      "Accuracy: 0.8351648351648352\n",
      "> Features Importancies\n",
      "thalach     0.126559\n",
      "ca          0.124181\n",
      "oldpeak     0.104253\n",
      "age         0.101570\n",
      "chol        0.098150\n",
      "thal        0.093262\n",
      "trestbps    0.086146\n",
      "cp          0.083509\n",
      "exang       0.067452\n",
      "slope       0.044317\n",
      "sex         0.036666\n",
      "restecg     0.021748\n",
      "fbs         0.012187\n",
      "dtype: float64\n",
      "> Matrix de confusão\n",
      "[[31 10]\n",
      " [ 5 45]]\n",
      "> Recuperação de precisão\n",
      "              precision    recall  f1-score   support\n",
      "\n",
      "           0       0.86      0.76      0.81        41\n",
      "           1       0.82      0.90      0.86        50\n",
      "\n",
      "   micro avg       0.84      0.84      0.84        91\n",
      "   macro avg       0.84      0.83      0.83        91\n",
      "weighted avg       0.84      0.84      0.83        91\n",
      "\n",
      "> Pontujação da acurácia\n",
      "0.8351648351648352\n"
     ]
    }
   ],
   "source": [
    "X_train, X_test, y_train, y_test = train_test_split(X, y, test_size=0.3, stratify=y, random_state=100)\n",
    "\n",
    "sc = RobustScaler(copy=True, quantile_range=(25.0, 75.0), with_centering=True, with_scaling=True)\n",
    "X_train_scaled = sc.fit_transform(X_train)  \n",
    "X_test_scaled = sc.transform(X_test)\n",
    "\n",
    "model_clf = RandomForestClassifier(n_estimators= 1000,\n",
    "                                criterion='entropy',\n",
    "                                max_features = 'auto',\n",
    "                                max_depth = None,\n",
    "                                min_samples_split = 2,\n",
    "                                min_samples_leaf = 1,\n",
    "                                min_weight_fraction_leaf = 0,\n",
    "                                max_leaf_nodes = None,\n",
    "                                min_impurity_decrease = 0,\n",
    "                                bootstrap = True,\n",
    "                                oob_score = True,\n",
    "                                n_jobs = -1,\n",
    "                                random_state = 1,\n",
    "                                verbose = 1,\n",
    "                                warm_start = False,\n",
    "                                class_weight = None)\n",
    "\n",
    "model_clf.fit(X_train_scaled, y_train)\n",
    "\n",
    "y_pred = model_clf.predict(X_test_scaled)\n",
    "\n",
    "print(\"Accuracy:\",metrics.accuracy_score(y_test, y_pred))\n",
    "\n",
    "feature_imp = pd.Series(model_clf.feature_importances_,index=X.columns).sort_values(ascending=False)\n",
    "print('> Features Importancies')\n",
    "print(feature_imp)\n",
    "\n",
    "print('> Matrix de confusão')\n",
    "print(confusion_matrix(y_test,y_pred))  \n",
    "print('> Recuperação de precisão')\n",
    "print(classification_report(y_test,y_pred))  \n",
    "print('> Pontujação da acurácia')\n",
    "print(accuracy_score(y_test, y_pred))  "
   ]
  },
  {
   "cell_type": "code",
   "execution_count": 47,
   "metadata": {},
   "outputs": [
    {
     "data": {
      "text/plain": [
       "<matplotlib.axes._subplots.AxesSubplot at 0xe750ec358>"
      ]
     },
     "execution_count": 47,
     "metadata": {},
     "output_type": "execute_result"
    },
    {
     "data": {
      "image/png": "[encoded data removed]",
      "text/plain": [
       "<Figure size 432x288 with 2 Axes>"
      ]
     },
     "metadata": {
      "needs_background": "light"
     },
     "output_type": "display_data"
    }
   ],
   "source": [
    "target_columns = ['> 50% de diâmetro estreitamento','< 50% de diâmetro estreitamento']\n",
    "cm = pd.DataFrame(confusion_matrix(y_test,y_pred), columns=target_columns, index=target_columns)\n",
    "sns.heatmap(cm, annot=True)"
   ]
  },
  {
   "cell_type": "code",
   "execution_count": 3,
   "metadata": {},
   "outputs": [],
   "source": [
    "def get_n_estimators(n_features: int, n_sample: int) -> int:\n",
    "    \"\"\"\n",
    "        Determina o número de estimadores (arvores) usando o cálculo de arranjo \n",
    "        simples considerando o número de atributos a ser analisado\n",
    "        O uso de arranjo simples se dá pelo motivo de que mos arranjos, os \n",
    "        agrupamentos dos elementos dependem da ordem e da natureza dos mesmos.\n",
    "        Fórmula -> a(n,p) = (n!)/(p!(n-p)!)\n",
    "        Convém registra que se n_features == n_sample então temos um caso de \n",
    "        permutação\n",
    "    \"\"\"\n",
    "    from math import factorial\n",
    "    n_features = int(n_features)\n",
    "    n_sample = int(n_sample)\n",
    "    n_factorial = factorial(n_features)\n",
    "    p_factorial = factorial(n_sample)\n",
    "    n_p_factorial = p_factorial * factorial(n_features - n_sample)\n",
    "    arrangement_simple = int(n_factorial/n_p_factorial)\n",
    "    \n",
    "    return arrangement_simple"
   ]
  },
  {
   "cell_type": "code",
   "execution_count": 3,
   "metadata": {},
   "outputs": [
    {
     "data": {
      "text/plain": [
       "1716"
      ]
     },
     "execution_count": 3,
     "metadata": {},
     "output_type": "execute_result"
    }
   ],
   "source": [
    "get_n_estimators(13, 6)"
   ]
  },
  {
   "cell_type": "code",
   "execution_count": 10,
   "metadata": {},
   "outputs": [
    {
     "name": "stderr",
     "output_type": "stream",
     "text": [
      "[Parallel(n_jobs=-1)]: Using backend ThreadingBackend with 4 concurrent workers.\n",
      "[Parallel(n_jobs=-1)]: Done  42 tasks      | elapsed:    0.0s\n",
      "[Parallel(n_jobs=-1)]: Done 192 tasks      | elapsed:    0.4s\n",
      "[Parallel(n_jobs=-1)]: Done 442 tasks      | elapsed:    0.9s\n",
      "[Parallel(n_jobs=-1)]: Done 792 tasks      | elapsed:    1.6s\n",
      "[Parallel(n_jobs=-1)]: Done 1242 tasks      | elapsed:    2.6s\n",
      "[Parallel(n_jobs=-1)]: Done 1716 out of 1716 | elapsed:    3.7s finished\n",
      "[Parallel(n_jobs=4)]: Using backend ThreadingBackend with 4 concurrent workers.\n",
      "[Parallel(n_jobs=4)]: Done  42 tasks      | elapsed:    0.0s\n",
      "[Parallel(n_jobs=4)]: Done 192 tasks      | elapsed:    0.0s\n",
      "[Parallel(n_jobs=4)]: Done 442 tasks      | elapsed:    0.2s\n",
      "[Parallel(n_jobs=4)]: Done 792 tasks      | elapsed:    0.4s\n",
      "[Parallel(n_jobs=4)]: Done 1242 tasks      | elapsed:    0.6s\n",
      "[Parallel(n_jobs=4)]: Done 1716 out of 1716 | elapsed:    0.9s finished\n"
     ]
    },
    {
     "name": "stdout",
     "output_type": "stream",
     "text": [
      "Accuracy: 0.8351648351648352\n",
      "> Features Importancies\n",
      "thalach     0.127659\n",
      "ca          0.122736\n",
      "oldpeak     0.104600\n",
      "age         0.099990\n",
      "chol        0.097854\n",
      "thal        0.093933\n",
      "trestbps    0.085976\n",
      "cp          0.084512\n",
      "exang       0.066870\n",
      "slope       0.044874\n",
      "sex         0.037038\n",
      "restecg     0.022038\n",
      "fbs         0.011919\n",
      "dtype: float64\n",
      "> Matrix de confusão\n",
      "[[31 10]\n",
      " [ 5 45]]\n",
      "> Recuperação de precisão\n",
      "              precision    recall  f1-score   support\n",
      "\n",
      "           0       0.86      0.76      0.81        41\n",
      "           1       0.82      0.90      0.86        50\n",
      "\n",
      "   micro avg       0.84      0.84      0.84        91\n",
      "   macro avg       0.84      0.83      0.83        91\n",
      "weighted avg       0.84      0.84      0.83        91\n",
      "\n",
      "> Pontujação da acurácia\n",
      "0.8351648351648352\n"
     ]
    }
   ],
   "source": [
    "# Features\n",
    "X=df_heart[['age', 'sex', 'cp', 'trestbps',  'chol', 'fbs', 'restecg', 'thalach', 'exang', 'oldpeak', 'slope', 'ca', 'thal']]\n",
    "\n",
    "# Labels\n",
    "y=df_heart['target']\n",
    "\n",
    "# Split dataset into training set and test set\n",
    "# 70% training and 30% test\n",
    "X_train, X_test, y_train, y_test = train_test_split(X, y, test_size=0.3, stratify=y, random_state=100)\n",
    "\n",
    "sc = RobustScaler(copy=True, quantile_range=(25.0, 75.0), with_centering=True, with_scaling=True)\n",
    "X_train_scaled = sc.fit_transform(X_train)  \n",
    "X_test_scaled = sc.transform(X_test)\n",
    "\n",
    "model_clf = RandomForestClassifier(n_estimators= get_n_estimators(13, 6),\n",
    "                                criterion='entropy',\n",
    "                                max_features = 'auto',\n",
    "                                max_depth = None,\n",
    "                                min_samples_split = 2,\n",
    "                                min_samples_leaf = 1,\n",
    "                                min_weight_fraction_leaf = 0,\n",
    "                                max_leaf_nodes = None,\n",
    "                                min_impurity_decrease = 0,\n",
    "                                bootstrap = True,\n",
    "                                oob_score = True,\n",
    "                                n_jobs = -1,\n",
    "                                random_state = 1,\n",
    "                                verbose = 1,\n",
    "                                warm_start = False,\n",
    "                                class_weight = None)\n",
    "\n",
    "model_clf.fit(X_train_scaled, y_train)\n",
    "\n",
    "y_pred = model_clf.predict(X_test_scaled)\n",
    "\n",
    "print(\"Accuracy:\",metrics.accuracy_score(y_test, y_pred))\n",
    "\n",
    "feature_imp = pd.Series(model_clf.feature_importances_,index=X.columns).sort_values(ascending=False)\n",
    "print('> Features Importancies')\n",
    "print(feature_imp)\n",
    "\n",
    "print('> Matrix de confusão')\n",
    "print(confusion_matrix(y_test,y_pred))  \n",
    "print('> Recuperação de precisão')\n",
    "print(classification_report(y_test,y_pred))  \n",
    "print('> Pontujação da acurácia')\n",
    "print(accuracy_score(y_test, y_pred)) "
   ]
  },
  {
   "cell_type": "code",
   "execution_count": 12,
   "metadata": {},
   "outputs": [
    {
     "data": {
      "image/png": "[encoded data removed]",
      "text/plain": [
       "<Figure size 432x288 with 2 Axes>"
      ]
     },
     "metadata": {
      "needs_background": "light"
     },
     "output_type": "display_data"
    }
   ],
   "source": [
    "target_columns = ['> 50% de diâmetro estreitamento','< 50% de diâmetro estreitamento']\n",
    "cm = pd.DataFrame(confusion_matrix(y_test,y_pred), columns=target_columns, index=target_columns)\n",
    "sns.heatmap(cm, annot=True);"
   ]
  },
  {
   "cell_type": "code",
   "execution_count": 4,
   "metadata": {},
   "outputs": [],
   "source": [
    "def get_max_depth(n_features: int) -> int:\n",
    "    from math import cos\n",
    "    from math import log\n",
    "    sqrt_nfeatures = (n_features ** (1/2))\n",
    "    max_depth = int((cos(sqrt_nfeatures) + log(sqrt_nfeatures) + 0.1) * 10)\n",
    "    \n",
    "    return max_depth"
   ]
  },
  {
   "cell_type": "code",
   "execution_count": 27,
   "metadata": {},
   "outputs": [
    {
     "data": {
      "text/plain": [
       "4"
      ]
     },
     "execution_count": 27,
     "metadata": {},
     "output_type": "execute_result"
    }
   ],
   "source": [
    "get_max_depth(13)"
   ]
  },
  {
   "cell_type": "code",
   "execution_count": 13,
   "metadata": {},
   "outputs": [
    {
     "name": "stderr",
     "output_type": "stream",
     "text": [
      "[Parallel(n_jobs=-1)]: Using backend ThreadingBackend with 4 concurrent workers.\n",
      "[Parallel(n_jobs=-1)]: Done  42 tasks      | elapsed:    0.0s\n",
      "[Parallel(n_jobs=-1)]: Done 192 tasks      | elapsed:    0.3s\n",
      "[Parallel(n_jobs=-1)]: Done 442 tasks      | elapsed:    0.8s\n",
      "[Parallel(n_jobs=-1)]: Done 792 tasks      | elapsed:    1.6s\n",
      "[Parallel(n_jobs=-1)]: Done 1242 tasks      | elapsed:    2.5s\n",
      "[Parallel(n_jobs=-1)]: Done 1716 out of 1716 | elapsed:    3.5s finished\n",
      "[Parallel(n_jobs=4)]: Using backend ThreadingBackend with 4 concurrent workers.\n",
      "[Parallel(n_jobs=4)]: Done  42 tasks      | elapsed:    0.0s\n",
      "[Parallel(n_jobs=4)]: Done 192 tasks      | elapsed:    0.0s\n",
      "[Parallel(n_jobs=4)]: Done 442 tasks      | elapsed:    0.2s\n",
      "[Parallel(n_jobs=4)]: Done 792 tasks      | elapsed:    0.4s\n",
      "[Parallel(n_jobs=4)]: Done 1242 tasks      | elapsed:    0.6s\n",
      "[Parallel(n_jobs=4)]: Done 1716 out of 1716 | elapsed:    0.9s finished\n"
     ]
    },
    {
     "name": "stdout",
     "output_type": "stream",
     "text": [
      "Accuracy: 0.8571428571428571\n",
      "> Features Importancies\n",
      "ca          0.156767\n",
      "thal        0.126572\n",
      "thalach     0.118169\n",
      "oldpeak     0.107884\n",
      "cp          0.101504\n",
      "exang       0.097141\n",
      "age         0.069813\n",
      "chol        0.059894\n",
      "trestbps    0.056944\n",
      "slope       0.052088\n",
      "sex         0.035560\n",
      "restecg     0.011409\n",
      "fbs         0.006255\n",
      "dtype: float64\n",
      "> Matrix de confusão\n",
      "[[32  9]\n",
      " [ 4 46]]\n",
      "> Recuperação de precisão\n",
      "              precision    recall  f1-score   support\n",
      "\n",
      "           0       0.89      0.78      0.83        41\n",
      "           1       0.84      0.92      0.88        50\n",
      "\n",
      "   micro avg       0.86      0.86      0.86        91\n",
      "   macro avg       0.86      0.85      0.85        91\n",
      "weighted avg       0.86      0.86      0.86        91\n",
      "\n",
      "> Pontujação da acurácia\n",
      "0.8571428571428571\n"
     ]
    }
   ],
   "source": [
    "# Features\n",
    "X=df_heart[['age', 'sex', 'cp', 'trestbps',  'chol', 'fbs', 'restecg', 'thalach', 'exang', 'oldpeak', 'slope', 'ca', 'thal']]\n",
    "\n",
    "# Labels\n",
    "y=df_heart['target']\n",
    "\n",
    "# Split dataset into training set and test set\n",
    "# 70% training and 30% test\n",
    "X_train, X_test, y_train, y_test = train_test_split(X, y, test_size=0.3, stratify=y, random_state=100)\n",
    "\n",
    "sc = RobustScaler(copy=True, quantile_range=(25.0, 75.0), with_centering=True, with_scaling=True)\n",
    "X_train_scaled = sc.fit_transform(X_train)  \n",
    "X_test_scaled = sc.transform(X_test)\n",
    "\n",
    "model_clf = RandomForestClassifier(n_estimators= get_n_estimators(13, 6),\n",
    "                                criterion='entropy',\n",
    "                                max_features = 'auto',\n",
    "                                max_depth = get_max_depth(13),\n",
    "                                min_samples_split = 2,\n",
    "                                min_samples_leaf = 1,\n",
    "                                min_weight_fraction_leaf = 0,\n",
    "                                max_leaf_nodes = None,\n",
    "                                min_impurity_decrease = 0,\n",
    "                                bootstrap = True,\n",
    "                                oob_score = True,\n",
    "                                n_jobs = -1,\n",
    "                                random_state = 1,\n",
    "                                verbose = 1,\n",
    "                                warm_start = False,\n",
    "                                class_weight = None)\n",
    "\n",
    "model_clf.fit(X_train_scaled, y_train)\n",
    "\n",
    "y_pred = model_clf.predict(X_test_scaled)\n",
    "\n",
    "print(\"Accuracy:\",metrics.accuracy_score(y_test, y_pred))\n",
    "\n",
    "feature_imp = pd.Series(model_clf.feature_importances_,index=X.columns).sort_values(ascending=False)\n",
    "print('> Features Importancies')\n",
    "print(feature_imp)\n",
    "\n",
    "print('> Matrix de confusão')\n",
    "print(confusion_matrix(y_test,y_pred))  \n",
    "print('> Recuperação de precisão')\n",
    "print(classification_report(y_test,y_pred))  \n",
    "print('> Pontujação da acurácia')\n",
    "print(accuracy_score(y_test, y_pred)) "
   ]
  },
  {
   "cell_type": "code",
   "execution_count": 14,
   "metadata": {},
   "outputs": [
    {
     "data": {
      "image/png": "[encoded data removed]",
      "text/plain": [
       "<Figure size 432x288 with 2 Axes>"
      ]
     },
     "metadata": {
      "needs_background": "light"
     },
     "output_type": "display_data"
    }
   ],
   "source": [
    "target_columns = ['> 50% de diâmetro estreitamento','< 50% de diâmetro estreitamento']\n",
    "cm = pd.DataFrame(confusion_matrix(y_test,y_pred), columns=target_columns, index=target_columns)\n",
    "sns.heatmap(cm, annot=True);"
   ]
  },
  {
   "cell_type": "code",
   "execution_count": 31,
   "metadata": {},
   "outputs": [
    {
     "name": "stderr",
     "output_type": "stream",
     "text": [
      "[Parallel(n_jobs=-1)]: Using backend ThreadingBackend with 4 concurrent workers.\n",
      "[Parallel(n_jobs=-1)]: Done  42 tasks      | elapsed:    0.0s\n",
      "[Parallel(n_jobs=-1)]: Done 192 tasks      | elapsed:    0.0s\n",
      "[Parallel(n_jobs=-1)]: Done 442 tasks      | elapsed:    0.2s\n",
      "[Parallel(n_jobs=-1)]: Done 792 tasks      | elapsed:    0.4s\n",
      "[Parallel(n_jobs=-1)]: Done 1242 tasks      | elapsed:    0.7s\n",
      "[Parallel(n_jobs=-1)]: Done 1716 out of 1716 | elapsed:    1.0s finished\n",
      "[Parallel(n_jobs=4)]: Using backend ThreadingBackend with 4 concurrent workers.\n",
      "[Parallel(n_jobs=4)]: Done  42 tasks      | elapsed:    0.0s\n",
      "[Parallel(n_jobs=4)]: Done 192 tasks      | elapsed:    0.0s\n",
      "[Parallel(n_jobs=4)]: Done 442 tasks      | elapsed:    0.0s\n",
      "[Parallel(n_jobs=4)]: Done 792 tasks      | elapsed:    0.0s\n",
      "[Parallel(n_jobs=4)]: Done 1242 tasks      | elapsed:    0.1s\n",
      "[Parallel(n_jobs=4)]: Done 1716 out of 1716 | elapsed:    0.2s finished\n"
     ]
    },
    {
     "name": "stdout",
     "output_type": "stream",
     "text": [
      "Accuracy: 0.8571428571428571\n",
      "> Features Importancies\n",
      "ca          0.142663\n",
      "thalach     0.121995\n",
      "thal        0.113075\n",
      "oldpeak     0.106520\n",
      "cp          0.091535\n",
      "exang       0.085162\n",
      "age         0.082514\n",
      "chol        0.073579\n",
      "trestbps    0.069460\n",
      "slope       0.049575\n",
      "sex         0.037834\n",
      "restecg     0.016621\n",
      "fbs         0.009466\n",
      "dtype: float64\n",
      "> Matrix de confusão\n",
      "[[32  9]\n",
      " [ 4 46]]\n",
      "> Recuperação de precisão\n",
      "              precision    recall  f1-score   support\n",
      "\n",
      "           0       0.89      0.78      0.83        41\n",
      "           1       0.84      0.92      0.88        50\n",
      "\n",
      "   micro avg       0.86      0.86      0.86        91\n",
      "   macro avg       0.86      0.85      0.85        91\n",
      "weighted avg       0.86      0.86      0.86        91\n",
      "\n",
      "> Pontujação da acurácia\n",
      "0.8571428571428571\n"
     ]
    }
   ],
   "source": [
    "# Features\n",
    "X=df_heart[['age', 'sex', 'cp', 'trestbps',  'chol', 'fbs', 'restecg', 'thalach', 'exang', 'oldpeak', 'slope', 'ca', 'thal']]\n",
    "\n",
    "# Labels\n",
    "y=df_heart['target']\n",
    "\n",
    "# Split dataset into training set and test set\n",
    "# 70% training and 30% test\n",
    "X_train, X_test, y_train, y_test = train_test_split(X, y, test_size=0.3, stratify=y, random_state=100)\n",
    "\n",
    "sc = RobustScaler(copy=True, quantile_range=(25.0, 75.0), with_centering=True, with_scaling=True)\n",
    "X_train_scaled = sc.fit_transform(X_train)  \n",
    "X_test_scaled = sc.transform(X_test)\n",
    "\n",
    "model_clf = RandomForestClassifier(n_estimators= get_n_estimators(13, 6),\n",
    "                                criterion='entropy',\n",
    "                                max_features = 'auto',\n",
    "                                max_depth = 5,\n",
    "                                min_samples_split = 2,\n",
    "                                min_samples_leaf = 1,\n",
    "                                min_weight_fraction_leaf = 0,\n",
    "                                max_leaf_nodes = None,\n",
    "                                min_impurity_decrease = 0,\n",
    "                                bootstrap = True,\n",
    "                                oob_score = True,\n",
    "                                n_jobs = -1,\n",
    "                                random_state = 1,\n",
    "                                verbose = 1,\n",
    "                                warm_start = False,\n",
    "                                class_weight = None)\n",
    "\n",
    "model_clf.fit(X_train_scaled, y_train)\n",
    "\n",
    "y_pred = model_clf.predict(X_test_scaled)\n",
    "\n",
    "print(\"Accuracy:\",metrics.accuracy_score(y_test, y_pred))\n",
    "\n",
    "feature_imp = pd.Series(model_clf.feature_importances_,index=X.columns).sort_values(ascending=False)\n",
    "print('> Features Importancies')\n",
    "print(feature_imp)\n",
    "\n",
    "print('> Matrix de confusão')\n",
    "print(confusion_matrix(y_test,y_pred))  \n",
    "print('> Recuperação de precisão')\n",
    "print(classification_report(y_test,y_pred))  \n",
    "print('> Pontujação da acurácia')\n",
    "print(accuracy_score(y_test, y_pred)) "
   ]
  },
  {
   "cell_type": "code",
   "execution_count": 15,
   "metadata": {},
   "outputs": [
    {
     "data": {
      "image/png": "[encoded data removed]",
      "text/plain": [
       "<Figure size 432x288 with 2 Axes>"
      ]
     },
     "metadata": {
      "needs_background": "light"
     },
     "output_type": "display_data"
    }
   ],
   "source": [
    "target_columns = ['> 50% de diâmetro estreitamento','< 50% de diâmetro estreitamento']\n",
    "cm = pd.DataFrame(confusion_matrix(y_test,y_pred), columns=target_columns, index=target_columns)\n",
    "sns.heatmap(cm, annot=True);"
   ]
  },
  {
   "cell_type": "code",
   "execution_count": 32,
   "metadata": {},
   "outputs": [
    {
     "name": "stderr",
     "output_type": "stream",
     "text": [
      "[Parallel(n_jobs=-1)]: Using backend ThreadingBackend with 4 concurrent workers.\n",
      "[Parallel(n_jobs=-1)]: Done  42 tasks      | elapsed:    0.0s\n",
      "[Parallel(n_jobs=-1)]: Done 192 tasks      | elapsed:    0.0s\n",
      "[Parallel(n_jobs=-1)]: Done 442 tasks      | elapsed:    0.2s\n",
      "[Parallel(n_jobs=-1)]: Done 792 tasks      | elapsed:    0.4s\n",
      "[Parallel(n_jobs=-1)]: Done 1242 tasks      | elapsed:    0.7s\n",
      "[Parallel(n_jobs=-1)]: Done 1716 out of 1716 | elapsed:    1.0s finished\n",
      "[Parallel(n_jobs=4)]: Using backend ThreadingBackend with 4 concurrent workers.\n",
      "[Parallel(n_jobs=4)]: Done  42 tasks      | elapsed:    0.0s\n",
      "[Parallel(n_jobs=4)]: Done 192 tasks      | elapsed:    0.0s\n",
      "[Parallel(n_jobs=4)]: Done 442 tasks      | elapsed:    0.0s\n",
      "[Parallel(n_jobs=4)]: Done 792 tasks      | elapsed:    0.0s\n",
      "[Parallel(n_jobs=4)]: Done 1242 tasks      | elapsed:    0.1s\n",
      "[Parallel(n_jobs=4)]: Done 1716 out of 1716 | elapsed:    0.2s finished\n"
     ]
    },
    {
     "name": "stdout",
     "output_type": "stream",
     "text": [
      "Accuracy: 0.8351648351648352\n",
      "> Features Importancies\n",
      "ca          0.134907\n",
      "thalach     0.122893\n",
      "oldpeak     0.106378\n",
      "thal        0.104530\n",
      "age         0.089743\n",
      "cp          0.088209\n",
      "chol        0.084017\n",
      "exang       0.077057\n",
      "trestbps    0.075780\n",
      "slope       0.046976\n",
      "sex         0.038911\n",
      "restecg     0.019253\n",
      "fbs         0.011345\n",
      "dtype: float64\n",
      "> Matrix de confusão\n",
      "[[31 10]\n",
      " [ 5 45]]\n",
      "> Recuperação de precisão\n",
      "              precision    recall  f1-score   support\n",
      "\n",
      "           0       0.86      0.76      0.81        41\n",
      "           1       0.82      0.90      0.86        50\n",
      "\n",
      "   micro avg       0.84      0.84      0.84        91\n",
      "   macro avg       0.84      0.83      0.83        91\n",
      "weighted avg       0.84      0.84      0.83        91\n",
      "\n",
      "> Pontujação da acurácia\n",
      "0.8351648351648352\n"
     ]
    }
   ],
   "source": [
    "# Features\n",
    "X=df_heart[['age', 'sex', 'cp', 'trestbps',  'chol', 'fbs', 'restecg', 'thalach', 'exang', 'oldpeak', 'slope', 'ca', 'thal']]\n",
    "\n",
    "# Labels\n",
    "y=df_heart['target']\n",
    "\n",
    "# Split dataset into training set and test set\n",
    "# 70% training and 30% test\n",
    "X_train, X_test, y_train, y_test = train_test_split(X, y, test_size=0.3, stratify=y, random_state=100)\n",
    "\n",
    "sc = RobustScaler(copy=True, quantile_range=(25.0, 75.0), with_centering=True, with_scaling=True)\n",
    "X_train_scaled = sc.fit_transform(X_train)  \n",
    "X_test_scaled = sc.transform(X_test)\n",
    "\n",
    "model_clf = RandomForestClassifier(n_estimators= get_n_estimators(13, 6),\n",
    "                                criterion='entropy',\n",
    "                                max_features = 'auto',\n",
    "                                max_depth = 6,\n",
    "                                min_samples_split = 2,\n",
    "                                min_samples_leaf = 1,\n",
    "                                min_weight_fraction_leaf = 0,\n",
    "                                max_leaf_nodes = None,\n",
    "                                min_impurity_decrease = 0,\n",
    "                                bootstrap = True,\n",
    "                                oob_score = True,\n",
    "                                n_jobs = -1,\n",
    "                                random_state = 1,\n",
    "                                verbose = 1,\n",
    "                                warm_start = False,\n",
    "                                class_weight = None)\n",
    "\n",
    "model_clf.fit(X_train_scaled, y_train)\n",
    "\n",
    "y_pred = model_clf.predict(X_test_scaled)\n",
    "\n",
    "print(\"Accuracy:\",metrics.accuracy_score(y_test, y_pred))\n",
    "\n",
    "feature_imp = pd.Series(model_clf.feature_importances_,index=X.columns).sort_values(ascending=False)\n",
    "print('> Features Importancies')\n",
    "print(feature_imp)\n",
    "\n",
    "print('> Matrix de confusão')\n",
    "print(confusion_matrix(y_test,y_pred))  \n",
    "print('> Recuperação de precisão')\n",
    "print(classification_report(y_test,y_pred))  \n",
    "print('> Pontujação da acurácia')\n",
    "print(accuracy_score(y_test, y_pred)) "
   ]
  },
  {
   "cell_type": "code",
   "execution_count": 33,
   "metadata": {},
   "outputs": [
    {
     "name": "stderr",
     "output_type": "stream",
     "text": [
      "[Parallel(n_jobs=-1)]: Using backend ThreadingBackend with 4 concurrent workers.\n",
      "[Parallel(n_jobs=-1)]: Done  42 tasks      | elapsed:    0.0s\n",
      "[Parallel(n_jobs=-1)]: Done 192 tasks      | elapsed:    0.0s\n",
      "[Parallel(n_jobs=-1)]: Done 442 tasks      | elapsed:    0.2s\n",
      "[Parallel(n_jobs=-1)]: Done 792 tasks      | elapsed:    0.5s\n",
      "[Parallel(n_jobs=-1)]: Done 1242 tasks      | elapsed:    0.8s\n",
      "[Parallel(n_jobs=-1)]: Done 1716 out of 1716 | elapsed:    1.1s finished\n",
      "[Parallel(n_jobs=4)]: Using backend ThreadingBackend with 4 concurrent workers.\n",
      "[Parallel(n_jobs=4)]: Done  42 tasks      | elapsed:    0.0s\n",
      "[Parallel(n_jobs=4)]: Done 192 tasks      | elapsed:    0.0s\n",
      "[Parallel(n_jobs=4)]: Done 442 tasks      | elapsed:    0.0s\n",
      "[Parallel(n_jobs=4)]: Done 792 tasks      | elapsed:    0.0s\n",
      "[Parallel(n_jobs=4)]: Done 1242 tasks      | elapsed:    0.1s\n",
      "[Parallel(n_jobs=4)]: Done 1716 out of 1716 | elapsed:    0.2s finished\n"
     ]
    },
    {
     "name": "stdout",
     "output_type": "stream",
     "text": [
      "Accuracy: 0.8571428571428571\n",
      "> Features Importancies\n",
      "ca          0.173865\n",
      "thal        0.140665\n",
      "thalach     0.119441\n",
      "exang       0.114193\n",
      "cp          0.111641\n",
      "oldpeak     0.108857\n",
      "slope       0.056395\n",
      "age         0.054657\n",
      "chol        0.042031\n",
      "trestbps    0.039934\n",
      "sex         0.027995\n",
      "restecg     0.007020\n",
      "fbs         0.003305\n",
      "dtype: float64\n",
      "> Matrix de confusão\n",
      "[[32  9]\n",
      " [ 4 46]]\n",
      "> Recuperação de precisão\n",
      "              precision    recall  f1-score   support\n",
      "\n",
      "           0       0.89      0.78      0.83        41\n",
      "           1       0.84      0.92      0.88        50\n",
      "\n",
      "   micro avg       0.86      0.86      0.86        91\n",
      "   macro avg       0.86      0.85      0.85        91\n",
      "weighted avg       0.86      0.86      0.86        91\n",
      "\n",
      "> Pontujação da acurácia\n",
      "0.8571428571428571\n"
     ]
    }
   ],
   "source": [
    "# Features\n",
    "X=df_heart[['age', 'sex', 'cp', 'trestbps',  'chol', 'fbs', 'restecg', 'thalach', 'exang', 'oldpeak', 'slope', 'ca', 'thal']]\n",
    "\n",
    "# Labels\n",
    "y=df_heart['target']\n",
    "\n",
    "# Split dataset into training set and test set\n",
    "# 70% training and 30% test\n",
    "X_train, X_test, y_train, y_test = train_test_split(X, y, test_size=0.3, stratify=y, random_state=100)\n",
    "\n",
    "sc = RobustScaler(copy=True, quantile_range=(25.0, 75.0), with_centering=True, with_scaling=True)\n",
    "X_train_scaled = sc.fit_transform(X_train)  \n",
    "X_test_scaled = sc.transform(X_test)\n",
    "\n",
    "model_clf = RandomForestClassifier(n_estimators= get_n_estimators(13, 6),\n",
    "                                criterion='entropy',\n",
    "                                max_features = 'auto',\n",
    "                                max_depth = 3,\n",
    "                                min_samples_split = 2,\n",
    "                                min_samples_leaf = 1,\n",
    "                                min_weight_fraction_leaf = 0,\n",
    "                                max_leaf_nodes = None,\n",
    "                                min_impurity_decrease = 0,\n",
    "                                bootstrap = True,\n",
    "                                oob_score = True,\n",
    "                                n_jobs = -1,\n",
    "                                random_state = 1,\n",
    "                                verbose = 1,\n",
    "                                warm_start = False,\n",
    "                                class_weight = None)\n",
    "\n",
    "model_clf.fit(X_train_scaled, y_train)\n",
    "\n",
    "y_pred = model_clf.predict(X_test_scaled)\n",
    "\n",
    "print(\"Accuracy:\",metrics.accuracy_score(y_test, y_pred))\n",
    "\n",
    "feature_imp = pd.Series(model_clf.feature_importances_,index=X.columns).sort_values(ascending=False)\n",
    "print('> Features Importancies')\n",
    "print(feature_imp)\n",
    "\n",
    "print('> Matrix de confusão')\n",
    "print(confusion_matrix(y_test,y_pred))  \n",
    "print('> Recuperação de precisão')\n",
    "print(classification_report(y_test,y_pred))  \n",
    "print('> Pontujação da acurácia')\n",
    "print(accuracy_score(y_test, y_pred)) "
   ]
  },
  {
   "cell_type": "code",
   "execution_count": 34,
   "metadata": {},
   "outputs": [
    {
     "name": "stderr",
     "output_type": "stream",
     "text": [
      "[Parallel(n_jobs=-1)]: Using backend ThreadingBackend with 4 concurrent workers.\n",
      "[Parallel(n_jobs=-1)]: Done  42 tasks      | elapsed:    0.0s\n",
      "[Parallel(n_jobs=-1)]: Done 192 tasks      | elapsed:    0.0s\n",
      "[Parallel(n_jobs=-1)]: Done 442 tasks      | elapsed:    0.2s\n",
      "[Parallel(n_jobs=-1)]: Done 792 tasks      | elapsed:    0.4s\n",
      "[Parallel(n_jobs=-1)]: Done 1242 tasks      | elapsed:    0.7s\n",
      "[Parallel(n_jobs=-1)]: Done 1716 out of 1716 | elapsed:    1.0s finished\n",
      "[Parallel(n_jobs=4)]: Using backend ThreadingBackend with 4 concurrent workers.\n",
      "[Parallel(n_jobs=4)]: Done  42 tasks      | elapsed:    0.0s\n",
      "[Parallel(n_jobs=4)]: Done 192 tasks      | elapsed:    0.0s\n",
      "[Parallel(n_jobs=4)]: Done 442 tasks      | elapsed:    0.0s\n",
      "[Parallel(n_jobs=4)]: Done 792 tasks      | elapsed:    0.0s\n",
      "[Parallel(n_jobs=4)]: Done 1242 tasks      | elapsed:    0.1s\n",
      "[Parallel(n_jobs=4)]: Done 1716 out of 1716 | elapsed:    0.2s finished\n"
     ]
    },
    {
     "name": "stdout",
     "output_type": "stream",
     "text": [
      "Accuracy: 0.8351648351648352\n",
      "> Features Importancies\n",
      "thalach     0.127624\n",
      "ca          0.122840\n",
      "oldpeak     0.104721\n",
      "age         0.099697\n",
      "chol        0.097988\n",
      "thal        0.093907\n",
      "trestbps    0.085763\n",
      "cp          0.084457\n",
      "exang       0.066976\n",
      "slope       0.044879\n",
      "sex         0.037058\n",
      "restecg     0.022152\n",
      "fbs         0.011938\n",
      "dtype: float64\n",
      "> Matrix de confusão\n",
      "[[31 10]\n",
      " [ 5 45]]\n",
      "> Recuperação de precisão\n",
      "              precision    recall  f1-score   support\n",
      "\n",
      "           0       0.86      0.76      0.81        41\n",
      "           1       0.82      0.90      0.86        50\n",
      "\n",
      "   micro avg       0.84      0.84      0.84        91\n",
      "   macro avg       0.84      0.83      0.83        91\n",
      "weighted avg       0.84      0.84      0.83        91\n",
      "\n",
      "> Pontujação da acurácia\n",
      "0.8351648351648352\n"
     ]
    }
   ],
   "source": [
    "# Features\n",
    "X=df_heart[['age', 'sex', 'cp', 'trestbps',  'chol', 'fbs', 'restecg', 'thalach', 'exang', 'oldpeak', 'slope', 'ca', 'thal']]\n",
    "\n",
    "# Labels\n",
    "y=df_heart['target']\n",
    "\n",
    "# Split dataset into training set and test set\n",
    "# 70% training and 30% test\n",
    "X_train, X_test, y_train, y_test = train_test_split(X, y, test_size=0.3, stratify=y, random_state=100)\n",
    "\n",
    "sc = RobustScaler(copy=True, quantile_range=(25.0, 75.0), with_centering=True, with_scaling=True)\n",
    "X_train_scaled = sc.fit_transform(X_train)  \n",
    "X_test_scaled = sc.transform(X_test)\n",
    "\n",
    "model_clf = RandomForestClassifier(n_estimators= get_n_estimators(13, 6),\n",
    "                                criterion='entropy',\n",
    "                                max_features = 'auto',\n",
    "                                max_depth = 13,\n",
    "                                min_samples_split = 2,\n",
    "                                min_samples_leaf = 1,\n",
    "                                min_weight_fraction_leaf = 0,\n",
    "                                max_leaf_nodes = None,\n",
    "                                min_impurity_decrease = 0,\n",
    "                                bootstrap = True,\n",
    "                                oob_score = True,\n",
    "                                n_jobs = -1,\n",
    "                                random_state = 1,\n",
    "                                verbose = 1,\n",
    "                                warm_start = False,\n",
    "                                class_weight = None)\n",
    "\n",
    "model_clf.fit(X_train_scaled, y_train)\n",
    "\n",
    "y_pred = model_clf.predict(X_test_scaled)\n",
    "\n",
    "print(\"Accuracy:\",metrics.accuracy_score(y_test, y_pred))\n",
    "\n",
    "feature_imp = pd.Series(model_clf.feature_importances_,index=X.columns).sort_values(ascending=False)\n",
    "print('> Features Importancies')\n",
    "print(feature_imp)\n",
    "\n",
    "print('> Matrix de confusão')\n",
    "print(confusion_matrix(y_test,y_pred))  \n",
    "print('> Recuperação de precisão')\n",
    "print(classification_report(y_test,y_pred))  \n",
    "print('> Pontujação da acurácia')\n",
    "print(accuracy_score(y_test, y_pred)) "
   ]
  },
  {
   "cell_type": "code",
   "execution_count": 8,
   "metadata": {},
   "outputs": [
    {
     "name": "stderr",
     "output_type": "stream",
     "text": [
      "[Parallel(n_jobs=-1)]: Using backend ThreadingBackend with 4 concurrent workers.\n",
      "[Parallel(n_jobs=-1)]: Done  42 tasks      | elapsed:    0.0s\n",
      "[Parallel(n_jobs=-1)]: Done 192 tasks      | elapsed:    0.3s\n",
      "[Parallel(n_jobs=-1)]: Done 442 tasks      | elapsed:    0.7s\n",
      "[Parallel(n_jobs=-1)]: Done 792 tasks      | elapsed:    1.3s\n",
      "[Parallel(n_jobs=-1)]: Done 1242 tasks      | elapsed:    2.1s\n",
      "[Parallel(n_jobs=-1)]: Done 1716 out of 1716 | elapsed:    2.9s finished\n",
      "[Parallel(n_jobs=4)]: Using backend ThreadingBackend with 4 concurrent workers.\n",
      "[Parallel(n_jobs=4)]: Done  42 tasks      | elapsed:    0.0s\n",
      "[Parallel(n_jobs=4)]: Done 192 tasks      | elapsed:    0.0s\n",
      "[Parallel(n_jobs=4)]: Done 442 tasks      | elapsed:    0.1s\n",
      "[Parallel(n_jobs=4)]: Done 792 tasks      | elapsed:    0.3s\n",
      "[Parallel(n_jobs=4)]: Done 1242 tasks      | elapsed:    0.5s\n",
      "[Parallel(n_jobs=4)]: Done 1716 out of 1716 | elapsed:    0.7s finished\n"
     ]
    },
    {
     "name": "stdout",
     "output_type": "stream",
     "text": [
      "Accuracy: 0.8461538461538461\n",
      "> Features Importancies\n",
      "ca          0.191461\n",
      "thal        0.149957\n",
      "exang       0.115841\n",
      "cp          0.106858\n",
      "thalach     0.105534\n",
      "oldpeak     0.095989\n",
      "age         0.058496\n",
      "slope       0.050821\n",
      "chol        0.040291\n",
      "trestbps    0.038974\n",
      "sex         0.035089\n",
      "restecg     0.006320\n",
      "fbs         0.004370\n",
      "dtype: float64\n",
      "> Matrix de confusão\n",
      "[[32  9]\n",
      " [ 5 45]]\n",
      "> Recuperação de precisão\n",
      "              precision    recall  f1-score   support\n",
      "\n",
      "           0       0.86      0.78      0.82        41\n",
      "           1       0.83      0.90      0.87        50\n",
      "\n",
      "   micro avg       0.85      0.85      0.85        91\n",
      "   macro avg       0.85      0.84      0.84        91\n",
      "weighted avg       0.85      0.85      0.85        91\n",
      "\n",
      "> Pontujação da acurácia\n",
      "0.8461538461538461\n"
     ]
    }
   ],
   "source": [
    "# Features\n",
    "X=df_heart[['age', 'sex', 'cp', 'trestbps',  'chol', 'fbs', 'restecg', 'thalach', 'exang', 'oldpeak', 'slope', 'ca', 'thal']]\n",
    "\n",
    "# Labels\n",
    "y=df_heart['target']\n",
    "\n",
    "# Split dataset into training set and test set\n",
    "# 70% training and 30% test\n",
    "X_train, X_test, y_train, y_test = train_test_split(X, y, test_size=0.3, stratify=y, random_state=100)\n",
    "\n",
    "sc = RobustScaler(copy=True, quantile_range=(25.0, 75.0), with_centering=True, with_scaling=True)\n",
    "X_train_scaled = sc.fit_transform(X_train)  \n",
    "X_test_scaled = sc.transform(X_test)\n",
    "\n",
    "model_clf = RandomForestClassifier(n_estimators= get_n_estimators(13, 6),\n",
    "                                criterion='entropy',\n",
    "                                max_features = 'auto',\n",
    "                                max_depth = get_max_depth(13),\n",
    "                                min_samples_split = 2,\n",
    "                                min_samples_leaf = 1,\n",
    "                                min_weight_fraction_leaf = 0,\n",
    "                                max_leaf_nodes = None,\n",
    "                                min_impurity_decrease = 0,\n",
    "                                bootstrap = False,\n",
    "                                oob_score = False,\n",
    "                                n_jobs = -1,\n",
    "                                random_state = 1,\n",
    "                                verbose = 1,\n",
    "                                warm_start = False,\n",
    "                                class_weight = None)\n",
    "\n",
    "model_clf.fit(X_train_scaled, y_train)\n",
    "\n",
    "y_pred = model_clf.predict(X_test_scaled)\n",
    "\n",
    "print(\"Accuracy:\",metrics.accuracy_score(y_test, y_pred))\n",
    "\n",
    "feature_imp = pd.Series(model_clf.feature_importances_,index=X.columns).sort_values(ascending=False)\n",
    "print('> Features Importancies')\n",
    "print(feature_imp)\n",
    "\n",
    "print('> Matrix de confusão')\n",
    "print(confusion_matrix(y_test,y_pred))  \n",
    "print('> Recuperação de precisão')\n",
    "print(classification_report(y_test,y_pred))  \n",
    "print('> Pontujação da acurácia')\n",
    "print(accuracy_score(y_test, y_pred)) "
   ]
  },
  {
   "cell_type": "code",
   "execution_count": 9,
   "metadata": {},
   "outputs": [
    {
     "name": "stderr",
     "output_type": "stream",
     "text": [
      "[Parallel(n_jobs=-1)]: Using backend ThreadingBackend with 4 concurrent workers.\n",
      "[Parallel(n_jobs=-1)]: Done  42 tasks      | elapsed:    0.0s\n",
      "[Parallel(n_jobs=-1)]: Done 192 tasks      | elapsed:    0.1s\n",
      "[Parallel(n_jobs=-1)]: Done 442 tasks      | elapsed:    0.4s\n",
      "[Parallel(n_jobs=-1)]: Done 792 tasks      | elapsed:    0.7s\n",
      "[Parallel(n_jobs=-1)]: Done 1242 tasks      | elapsed:    1.0s\n",
      "[Parallel(n_jobs=-1)]: Done 1716 out of 1716 | elapsed:    2.0s finished\n",
      "[Parallel(n_jobs=4)]: Using backend ThreadingBackend with 4 concurrent workers.\n",
      "[Parallel(n_jobs=4)]: Done  42 tasks      | elapsed:    0.0s\n",
      "[Parallel(n_jobs=4)]: Done 192 tasks      | elapsed:    0.1s\n",
      "[Parallel(n_jobs=4)]: Done 442 tasks      | elapsed:    0.2s\n",
      "[Parallel(n_jobs=4)]: Done 792 tasks      | elapsed:    0.4s\n",
      "[Parallel(n_jobs=4)]: Done 1242 tasks      | elapsed:    0.6s\n",
      "[Parallel(n_jobs=4)]: Done 1716 out of 1716 | elapsed:    0.9s finished\n"
     ]
    },
    {
     "name": "stdout",
     "output_type": "stream",
     "text": [
      "Accuracy: 0.8681318681318682\n",
      "> Features Importancies\n",
      "ca          0.167085\n",
      "thal        0.137871\n",
      "thalach     0.109484\n",
      "cp          0.106333\n",
      "oldpeak     0.103840\n",
      "exang       0.102886\n",
      "age         0.064201\n",
      "trestbps    0.055012\n",
      "slope       0.054291\n",
      "chol        0.053836\n",
      "sex         0.030682\n",
      "restecg     0.009517\n",
      "fbs         0.004963\n",
      "dtype: float64\n",
      "> Matrix de confusão\n",
      "[[32  9]\n",
      " [ 3 47]]\n",
      "> Recuperação de precisão\n",
      "              precision    recall  f1-score   support\n",
      "\n",
      "           0       0.91      0.78      0.84        41\n",
      "           1       0.84      0.94      0.89        50\n",
      "\n",
      "   micro avg       0.87      0.87      0.87        91\n",
      "   macro avg       0.88      0.86      0.86        91\n",
      "weighted avg       0.87      0.87      0.87        91\n",
      "\n",
      "> Pontujação da acurácia\n",
      "0.8681318681318682\n"
     ]
    }
   ],
   "source": [
    "# Features\n",
    "X=df_heart[['age', 'sex', 'cp', 'trestbps',  'chol', 'fbs', 'restecg', 'thalach', 'exang', 'oldpeak', 'slope', 'ca', 'thal']]\n",
    "\n",
    "# Labels\n",
    "y=df_heart['target']\n",
    "\n",
    "# Split dataset into training set and test set\n",
    "# 70% training and 30% test\n",
    "X_train, X_test, y_train, y_test = train_test_split(X, y, test_size=0.3, stratify=y, random_state=100)\n",
    "\n",
    "sc = RobustScaler(copy=True, quantile_range=(25.0, 75.0), with_centering=True, with_scaling=True)\n",
    "X_train_scaled = sc.fit_transform(X_train)  \n",
    "X_test_scaled = sc.transform(X_test)\n",
    "\n",
    "model_clf = RandomForestClassifier(n_estimators= get_n_estimators(13, 6),\n",
    "                                criterion='gini',\n",
    "                                max_features = 'auto',\n",
    "                                max_depth = get_max_depth(13),\n",
    "                                min_samples_split = 2,\n",
    "                                min_samples_leaf = 1,\n",
    "                                min_weight_fraction_leaf = 0,\n",
    "                                max_leaf_nodes = None,\n",
    "                                min_impurity_decrease = 0,\n",
    "                                bootstrap = True,\n",
    "                                oob_score = True,\n",
    "                                n_jobs = -1,\n",
    "                                random_state = 1,\n",
    "                                verbose = 1,\n",
    "                                warm_start = False,\n",
    "                                class_weight = None)\n",
    "\n",
    "model_clf.fit(X_train_scaled, y_train)\n",
    "\n",
    "y_pred = model_clf.predict(X_test_scaled)\n",
    "\n",
    "print(\"Accuracy:\",metrics.accuracy_score(y_test, y_pred))\n",
    "\n",
    "feature_imp = pd.Series(model_clf.feature_importances_,index=X.columns).sort_values(ascending=False)\n",
    "print('> Features Importancies')\n",
    "print(feature_imp)\n",
    "\n",
    "print('> Matrix de confusão')\n",
    "print(confusion_matrix(y_test,y_pred))  \n",
    "print('> Recuperação de precisão')\n",
    "print(classification_report(y_test,y_pred))  \n",
    "print('> Pontujação da acurácia')\n",
    "print(accuracy_score(y_test, y_pred)) "
   ]
  },
  {
   "cell_type": "code",
   "execution_count": null,
   "metadata": {},
   "outputs": [],
   "source": [
    "# Features\n",
    "X=df_heart[['age', 'sex', 'cp', 'trestbps',  'chol', 'fbs', 'restecg', 'thalach', 'exang', 'oldpeak', 'slope', 'ca', 'thal']]\n",
    "\n",
    "# Labels\n",
    "y=df_heart['target']\n",
    "\n",
    "# Split dataset into training set and test set\n",
    "# 70% training and 30% test\n",
    "X_train, X_test, y_train, y_test = train_test_split(X, y, test_size=0.3, stratify=y, random_state=100)\n",
    "\n",
    "sc = RobustScaler(copy=True, quantile_range=(25.0, 75.0), with_centering=True, with_scaling=True)\n",
    "X_train_scaled = sc.fit_transform(X_train)  \n",
    "X_test_scaled = sc.transform(X_test)\n",
    "\n",
    "model_clf = RandomForestClassifier(n_estimators= get_n_estimators(13, 6),\n",
    "                                criterion='entropy',\n",
    "                                max_features = 'auto',\n",
    "                                max_depth = get_max_depth(13),\n",
    "                                min_samples_split = 2,\n",
    "                                min_samples_leaf = 1,\n",
    "                                min_weight_fraction_leaf = 0,\n",
    "                                max_leaf_nodes = None,\n",
    "                                min_impurity_decrease = 0,\n",
    "                                bootstrap = False,\n",
    "                                oob_score = False,\n",
    "                                n_jobs = -1,\n",
    "                                random_state = 1,\n",
    "                                verbose = 1,\n",
    "                                warm_start = False,\n",
    "                                class_weight = None)\n",
    "\n",
    "model_clf.fit(X_train_scaled, y_train)\n",
    "\n",
    "y_pred = model_clf.predict(X_test_scaled)\n",
    "\n",
    "print(\"Accuracy:\",metrics.accuracy_score(y_test, y_pred))\n",
    "\n",
    "feature_imp = pd.Series(model_clf.feature_importances_,index=X.columns).sort_values(ascending=False)\n",
    "print('> Features Importancies')\n",
    "print(feature_imp)\n",
    "\n",
    "print('> Matrix de confusão')\n",
    "print(confusion_matrix(y_test,y_pred))  \n",
    "print('> Recuperação de precisão')\n",
    "print(classification_report(y_test,y_pred))  \n",
    "print('> Pontujação da acurácia')\n",
    "print(accuracy_score(y_test, y_pred)) "
   ]
  }
 ],
 "metadata": {
  "kernelspec": {
   "display_name": "Python 3",
   "language": "python",
   "name": "python3"
  },
  "language_info": {
   "codemirror_mode": {
    "name": "ipython",
    "version": 3
   },
   "file_extension": ".py",
   "mimetype": "text/x-python",
   "name": "python",
   "nbconvert_exporter": "python",
   "pygments_lexer": "ipython3",
   "version": "3.7.2"
  }
 },
 "nbformat": 4,
 "nbformat_minor": 2
}
