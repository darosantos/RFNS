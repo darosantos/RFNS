{
 "cells": [
  {
   "cell_type": "code",
   "execution_count": 1,
   "metadata": {},
   "outputs": [],
   "source": [
    "import sys\n",
    "sys.path.append('C:\\\\Users\\\\Danilo Santos\\\\Desktop\\\\Qualificação PPGCC\\\\abordagem\\\\RFNS')\n",
    "from grimoire.ClassifierEnginneringForest import ClassifierEnginneringForest"
   ]
  },
  {
   "cell_type": "code",
   "execution_count": 2,
   "metadata": {},
   "outputs": [],
   "source": [
    "import pandas as pd\n",
    "\n",
    "import numpy as np\n",
    "\n",
    "from sklearn.model_selection import train_test_split"
   ]
  },
  {
   "cell_type": "code",
   "execution_count": 3,
   "metadata": {},
   "outputs": [],
   "source": [
    "from pandas import DataFrame, Series\n",
    "from numpy import matrix, unique\n",
    "import time"
   ]
  },
  {
   "cell_type": "code",
   "execution_count": 4,
   "metadata": {},
   "outputs": [],
   "source": [
    "df_acute = pd.read_csv('../datasets/acute/diagnosis.csv',\n",
    "                       engine='c', \n",
    "                       memory_map=True, \n",
    "                       low_memory=True)"
   ]
  },
  {
   "cell_type": "code",
   "execution_count": 5,
   "metadata": {},
   "outputs": [],
   "source": [
    "X = df_acute[['temperatura', 'nausea', 'dorlombar', \n",
    "              'urinepushing', 'miccao', 'queimacao', 'inflamacao']]\n",
    "# Labels\n",
    "y = df_acute['target']\n",
    "\n",
    "X_train, X_test, y_train, y_test = train_test_split(X, y, test_size=0.30, \n",
    "                                                    random_state=100, \n",
    "                                                    shuffle=True, \n",
    "                                                    stratify=y)"
   ]
  },
  {
   "cell_type": "code",
   "execution_count": 6,
   "metadata": {},
   "outputs": [],
   "source": [
    "class EnginneringForest(ClassifierEnginneringForest):\n",
    "\n",
    "    __slots__ = ('estimators_', 'select_features_', 'group_features_', \n",
    "                 'vector_predict_', 'n_features_', 'n_samples_', \n",
    "                 'name_features_', 'classes_', 'estrategy_trainning',\n",
    "                 'is_data_categorical')\n",
    "\n",
    "    # Const values - don't modify\n",
    "    ESTRATEGY_TRAINNING_SINGLE = 0\n",
    "    ESTRATEGY_TRAINNING_BLOCK = 1\n",
    "\n",
    "\n",
    "    def __init__(self, select_features: int):\n",
    "        if type(select_features) != int:\n",
    "            raise TypeError('Expectd value int in select_features')\n",
    "        super().__init__()\n",
    "        self.estimators_ = []\n",
    "        self.select_features_ = select_features\n",
    "        self.group_features_ = []\n",
    "        self.vector_predict_ = []\n",
    "        self.n_features_ = 0\n",
    "        self.n_samples_ = 0\n",
    "        self.name_features_ = []\n",
    "        self.classes_ = []\n",
    "        self.estrategy_trainning = self.ESTRATEGY_TRAINNING_SINGLE\n",
    "        self.is_data_categorical = False\n",
    "\n",
    "\n",
    "    def __del__(self):\n",
    "        del self.estimators_\n",
    "        del self.select_features_\n",
    "        del self.group_features_\n",
    "        del self.vector_predict_\n",
    "        del self.n_features_\n",
    "        del self.n_samples_\n",
    "        del self.name_features_\n",
    "        del self.classes_\n",
    "        del self.estrategy_trainning\n",
    "\n",
    "    def build(self, features_set: list) -> None:\n",
    "        \"\"\" Cria um vetor com o número de árvores igual ao número de \n",
    "            subconjuntos possíveis \"\"\"\n",
    "        self.group_features_ = self.get_arrangement_features(features_set,\n",
    "                                                             self.select_features_)\n",
    "        self.group_features_ = self.get_pack_nparray(self.group_features_)\n",
    "        n_estimator = len(self.group_features_)\n",
    "        self.estimators_ = self.make_lote_base_estimator(n_estimator)\n",
    "        self.estimators_ = self.get_pack_nparray(self.estimators_)\n",
    "\n",
    "    def train(self, group_feature: list, estimator):\n",
    "        msg = 'Training subset = {0}, Timing = {1}, Size (Kb) = {2}'\n",
    "        start_train = time.time()\n",
    "        \n",
    "        subset_xdata, subset_ydata = self.get_subset(group_feature)\n",
    "        fit_ = estimator.fit(subset_xdata, subset_ydata)\n",
    "        \n",
    "        end_train = time.time()\n",
    "        self.logger.add('debug',msg.format(group_feature, \n",
    "                                           (end_train - start_train),\n",
    "                                           self.get_size_estimator(fit_)))\n",
    "\n",
    "        return fit_\n",
    "\n",
    "    def fit(self, X, y) -> None:\n",
    "        if not isinstance(X, DataFrame):\n",
    "            raise TypeError('Expected value should descend from pandas.core.frame.DataFrame')\n",
    "        if not isinstance(y, Series):\n",
    "            raise TypeError('Expected value should descend from pandas.core.frame.DataFrame')\n",
    "\n",
    "        self.train_X = X\n",
    "        self.train_y = y\n",
    "        # Define os parâmetros de acordo com a estratégia de treinamento\n",
    "        # Somente em caso de dados categóricos presentes\n",
    "        if self.is_data_categorical is False:\n",
    "            self.n_samples_, self.n_features_ = X.shape\n",
    "            self.name_features_ = X.columns\n",
    "        else:\n",
    "            # Normaliza e transforma os dados\n",
    "            self.get_transform()\n",
    "            self.get_normalize()\n",
    "            # Prepara o número de amostra de acordo com a estratégia\n",
    "            mode_train = self.estrategy_trainning\n",
    "            if mode_train == self.ESTRATEGY_TRAINNING_SINGLE:\n",
    "                self.n_samples_, self.n_features_ = self.train_X.shape\n",
    "                self.name_features_ = self.train_X.columns\n",
    "            elif mode_train == self.ESTRATEGY_TRAINNING_BLOCK:\n",
    "                self.n_samples_ = self.train_X.shape[0]\n",
    "                for key_ef in self.encoder_feature:\n",
    "                    print('Key ef = ', key_ef)\n",
    "                    if type(self.encoder_feature[key_ef]) is list:\n",
    "                        block = ['{0}_{1}'.format(key_ef, value)\n",
    "                                 for value in self.encoder_feature[key_ef]]\n",
    "                        self.name_features_.append(tuple(block))\n",
    "                    else:\n",
    "                        self.name_features_.append(key_ef)\n",
    "            else:\n",
    "                raise TypeError('Expected estrategy trainning value')\n",
    "\n",
    "        #if self.auto_coded_target:\n",
    "        #    self.classes_ = unique(y)\n",
    "        #else:\n",
    "        #    self.classes_ = list(set(y))\n",
    "\n",
    "        self.build(features_set=self.name_features_)\n",
    "        \n",
    "        return True\n",
    "\n",
    "        self.estimators_ = [self.train(subset_feature, estimator) \n",
    "                            for subset_feature, \n",
    "                                estimator in zip(self.group_features_, \n",
    "                                                 self.estimators_)]\n",
    "        self.estimators_ = self.get_pack_nparray(self.estimators_)\n",
    "\n",
    "        if self.autoclean:\n",
    "            del self.train_X\n",
    "            del self.train_y\n",
    "\n",
    "    def predict(self, X) -> list:\n",
    "        if not isinstance(X, DataFrame):\n",
    "            raise TypeError('Expected value should descend from pandas.core.frame.DataFrame')\n",
    "\n",
    "        self.predict_X = X\n",
    "\n",
    "        self.logger.add('debug',\n",
    "                        'Size predict = {0}, N estimators = {1}'.format(self.predict_X.shape, \n",
    "                                                                        len(self.estimators_)))\n",
    "\n",
    "        for x_, y_ in self.get_block_fit():\n",
    "            self.logger.add('debug','Block Limit = ({}, {})'.format(x_, y_))\n",
    "\n",
    "            dfsub = self.predict_X.iloc[x_:y_]\n",
    "            block_predict = []\n",
    "\n",
    "            for subset_feature, estimator in zip(self.group_features_, self.estimators_):\n",
    "                self.logger.add('debug', 'Subset predict = {0}'.format(subset_feature))\n",
    "                subset_test = dfsub.loc[:, subset_feature]\n",
    "                block_predict.append(estimator.predict(subset_test))\n",
    "\n",
    "            block_predict = matrix(block_predict)\n",
    "            self.run_save_predict(block_predict)\n",
    "\n",
    "            self.logger.add('debug', \"Shape One = {0}\".format(block_predict.shape))\n",
    "\n",
    "            block_predict = block_predict.T\n",
    "            self.logger.add('debug', \"Shape Two = {0}\".format(block_predict.shape))\n",
    "            self.logger.add('debug', \"Block predict \\n{0}\".format(block_predict))\n",
    "\n",
    "            block_voting = self.voting(block_predict)\n",
    "            self.logger.add('debug', \"Block voting data \\n{0}\".format(str(block_voting)))\n",
    "            self.logger.add('debug', \"Block voting len {0}\".format(len(block_voting)))\n",
    "            self.vector_predict_.extend(block_voting)\n",
    "\n",
    "        return self.vector_predict_\n",
    "\n",
    "    def voting(self, data) -> list:\n",
    "        final_predict = []\n",
    "        for instance in data:\n",
    "            cz = instance.tolist()[0].count(0)\n",
    "            co = instance.tolist()[0].count(1)\n",
    "            marjotiry = (co > cz) and 1 or 0\n",
    "            final_predict.append(marjotiry)\n",
    "        return final_predict\n"
   ]
  },
  {
   "cell_type": "code",
   "execution_count": 7,
   "metadata": {},
   "outputs": [],
   "source": [
    "model = EnginneringForest(3)"
   ]
  },
  {
   "cell_type": "code",
   "execution_count": 8,
   "metadata": {},
   "outputs": [],
   "source": [
    "model.encoder_enable = True\n",
    "model.encoder_target = True\n",
    "model.encoder_data = True\n",
    "model.estrategy_trainning = 1\n",
    "model.is_data_categorical = True"
   ]
  },
  {
   "cell_type": "code",
   "execution_count": 9,
   "metadata": {},
   "outputs": [
    {
     "name": "stdout",
     "output_type": "stream",
     "text": [
      "Key ef =  temperatura\n",
      "Key ef =  nausea\n",
      "Key ef =  dorlombar\n",
      "Key ef =  urinepushing\n",
      "Key ef =  miccao\n",
      "Key ef =  queimacao\n",
      "Key ef =  inflamacao\n"
     ]
    },
    {
     "data": {
      "text/plain": [
       "True"
      ]
     },
     "execution_count": 9,
     "metadata": {},
     "output_type": "execute_result"
    }
   ],
   "source": [
    "model.fit(X_train, y_train)"
   ]
  },
  {
   "cell_type": "code",
   "execution_count": 10,
   "metadata": {},
   "outputs": [
    {
     "data": {
      "text/plain": [
       "['temperatura',\n",
       " ('nausea_no', 'nausea_yes'),\n",
       " ('dorlombar_no', 'dorlombar_yes'),\n",
       " ('urinepushing_no', 'urinepushing_yes'),\n",
       " ('miccao_no', 'miccao_yes'),\n",
       " ('queimacao_yes', 'queimacao_no'),\n",
       " ('inflamacao_no', 'inflamacao_yes')]"
      ]
     },
     "execution_count": 10,
     "metadata": {},
     "output_type": "execute_result"
    }
   ],
   "source": [
    "model.name_features_"
   ]
  },
  {
   "cell_type": "code",
   "execution_count": 11,
   "metadata": {},
   "outputs": [
    {
     "data": {
      "text/plain": [
       "['nausea_no',\n",
       " 'nausea_yes',\n",
       " 'dorlombar_no',\n",
       " 'dorlombar_yes',\n",
       " 'urinepushing_no',\n",
       " 'urinepushing_yes',\n",
       " 'miccao_no',\n",
       " 'miccao_yes',\n",
       " 'queimacao_yes',\n",
       " 'queimacao_no',\n",
       " 'inflamacao_no',\n",
       " 'inflamacao_yes']"
      ]
     },
     "execution_count": 11,
     "metadata": {},
     "output_type": "execute_result"
    }
   ],
   "source": [
    "model.encoder_categorical_columns"
   ]
  },
  {
   "cell_type": "code",
   "execution_count": 12,
   "metadata": {},
   "outputs": [
    {
     "data": {
      "text/plain": [
       "{'temperatura': numpy.float64,\n",
       " 'nausea': ['no', 'yes'],\n",
       " 'dorlombar': ['no', 'yes'],\n",
       " 'urinepushing': ['no', 'yes'],\n",
       " 'miccao': ['no', 'yes'],\n",
       " 'queimacao': ['yes', 'no'],\n",
       " 'inflamacao': ['no', 'yes']}"
      ]
     },
     "execution_count": 12,
     "metadata": {},
     "output_type": "execute_result"
    }
   ],
   "source": [
    "model.encoder_feature"
   ]
  },
  {
   "cell_type": "code",
   "execution_count": null,
   "metadata": {},
   "outputs": [],
   "source": [
    "type(model.encoder_feature['nausea'])"
   ]
  },
  {
   "cell_type": "code",
   "execution_count": null,
   "metadata": {},
   "outputs": [],
   "source": [
    "type(list(model.encoder_feature['nausea']))"
   ]
  },
  {
   "cell_type": "code",
   "execution_count": null,
   "metadata": {},
   "outputs": [],
   "source": [
    "model.encoder_feature"
   ]
  },
  {
   "cell_type": "code",
   "execution_count": null,
   "metadata": {},
   "outputs": [],
   "source": [
    "model.encoder_categorical_columns"
   ]
  },
  {
   "cell_type": "code",
   "execution_count": null,
   "metadata": {},
   "outputs": [],
   "source": [
    "model.encoder_not_type"
   ]
  },
  {
   "cell_type": "code",
   "execution_count": null,
   "metadata": {},
   "outputs": [],
   "source": [
    "model.encoder_feature"
   ]
  },
  {
   "cell_type": "code",
   "execution_count": null,
   "metadata": {},
   "outputs": [],
   "source": [
    "m = model.encoder_feature.get('temperatura')"
   ]
  },
  {
   "cell_type": "code",
   "execution_count": null,
   "metadata": {},
   "outputs": [],
   "source": [
    "type(model.encoder_feature.get('temperatura'))"
   ]
  },
  {
   "cell_type": "code",
   "execution_count": null,
   "metadata": {},
   "outputs": [],
   "source": [
    "isinstance(model.encoder_feature['nausea'], tuple(model.encoder_not_type))"
   ]
  },
  {
   "cell_type": "code",
   "execution_count": null,
   "metadata": {},
   "outputs": [],
   "source": [
    "type(model.encoder_feature['temperatura']) in model.encoder_not_type"
   ]
  },
  {
   "cell_type": "code",
   "execution_count": null,
   "metadata": {},
   "outputs": [],
   "source": [
    "type(model.encoder_feature['nausea']) in model.encoder_not_type"
   ]
  },
  {
   "cell_type": "code",
   "execution_count": null,
   "metadata": {},
   "outputs": [],
   "source": [
    "type(model.encoder_feature['nausea']) is np.ndarray"
   ]
  },
  {
   "cell_type": "code",
   "execution_count": null,
   "metadata": {},
   "outputs": [],
   "source": []
  }
 ],
 "metadata": {
  "kernelspec": {
   "display_name": "Python 3",
   "language": "python",
   "name": "python3"
  },
  "language_info": {
   "codemirror_mode": {
    "name": "ipython",
    "version": 3
   },
   "file_extension": ".py",
   "mimetype": "text/x-python",
   "name": "python",
   "nbconvert_exporter": "python",
   "pygments_lexer": "ipython3",
   "version": "3.7.2"
  }
 },
 "nbformat": 4,
 "nbformat_minor": 2
}
