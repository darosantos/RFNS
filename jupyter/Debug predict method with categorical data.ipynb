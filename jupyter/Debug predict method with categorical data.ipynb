{
 "cells": [
  {
   "cell_type": "code",
   "execution_count": 1,
   "metadata": {},
   "outputs": [],
   "source": [
    "import sys\n",
    "sys.path.append('C:\\\\Users\\\\Danilo Santos\\\\Desktop\\\\Qualificação PPGCC\\\\abordagem\\\\RFNS')\n",
    "from grimoire.EnginneringForest import EnginneringForest"
   ]
  },
  {
   "cell_type": "code",
   "execution_count": 2,
   "metadata": {},
   "outputs": [],
   "source": [
    "import pandas as pd\n",
    "\n",
    "import numpy as np\n",
    "\n",
    "from sklearn.model_selection import train_test_split"
   ]
  },
  {
   "cell_type": "code",
   "execution_count": 3,
   "metadata": {},
   "outputs": [],
   "source": [
    "from pandas import DataFrame, Series\n",
    "from numpy import matrix, unique\n",
    "import time"
   ]
  },
  {
   "cell_type": "code",
   "execution_count": 4,
   "metadata": {},
   "outputs": [],
   "source": [
    "df_acute = pd.read_csv('../datasets/acute/diagnosis.csv',\n",
    "                       engine='c', \n",
    "                       memory_map=True, \n",
    "                       low_memory=True)"
   ]
  },
  {
   "cell_type": "code",
   "execution_count": 5,
   "metadata": {},
   "outputs": [],
   "source": [
    "X = df_acute[['temperatura', 'nausea', 'dorlombar', \n",
    "              'urinepushing', 'miccao', 'queimacao', 'inflamacao']]\n",
    "# Labels\n",
    "y = df_acute['target']\n",
    "\n",
    "X_train, X_test, y_train, y_test = train_test_split(X, y, test_size=0.30, \n",
    "                                                    random_state=100, \n",
    "                                                    shuffle=True, \n",
    "                                                    stratify=y)"
   ]
  },
  {
   "cell_type": "code",
   "execution_count": 6,
   "metadata": {},
   "outputs": [],
   "source": [
    "model = EnginneringForest(3)"
   ]
  },
  {
   "cell_type": "code",
   "execution_count": 7,
   "metadata": {},
   "outputs": [],
   "source": [
    "model.encoder_enable = True\n",
    "model.encoder_target = True\n",
    "model.encoder_data = True\n",
    "model.estrategy_trainning = 1\n",
    "model.is_data_categorical = True"
   ]
  },
  {
   "cell_type": "code",
   "execution_count": 8,
   "metadata": {},
   "outputs": [],
   "source": [
    "model.fit(X_train, y_train)"
   ]
  },
  {
   "cell_type": "code",
   "execution_count": 9,
   "metadata": {},
   "outputs": [
    {
     "data": {
      "text/plain": [
       "35"
      ]
     },
     "execution_count": 9,
     "metadata": {},
     "output_type": "execute_result"
    }
   ],
   "source": [
    "len(model.estimators_)"
   ]
  },
  {
   "cell_type": "code",
   "execution_count": 10,
   "metadata": {},
   "outputs": [
    {
     "name": "stdout",
     "output_type": "stream",
     "text": [
      "['temperatura' ('nausea_no', 'nausea_yes')\n",
      " ('dorlombar_no', 'dorlombar_yes')]\n",
      "['temperatura' ('nausea_no', 'nausea_yes')\n",
      " ('urinepushing_no', 'urinepushing_yes')]\n",
      "['temperatura' ('nausea_no', 'nausea_yes') ('miccao_no', 'miccao_yes')]\n",
      "['temperatura' ('nausea_no', 'nausea_yes')\n",
      " ('queimacao_yes', 'queimacao_no')]\n",
      "['temperatura' ('nausea_no', 'nausea_yes')\n",
      " ('inflamacao_no', 'inflamacao_yes')]\n",
      "['temperatura' ('dorlombar_no', 'dorlombar_yes')\n",
      " ('urinepushing_no', 'urinepushing_yes')]\n",
      "['temperatura' ('dorlombar_no', 'dorlombar_yes')\n",
      " ('miccao_no', 'miccao_yes')]\n",
      "['temperatura' ('dorlombar_no', 'dorlombar_yes')\n",
      " ('queimacao_yes', 'queimacao_no')]\n",
      "['temperatura' ('dorlombar_no', 'dorlombar_yes')\n",
      " ('inflamacao_no', 'inflamacao_yes')]\n",
      "['temperatura' ('urinepushing_no', 'urinepushing_yes')\n",
      " ('miccao_no', 'miccao_yes')]\n",
      "['temperatura' ('urinepushing_no', 'urinepushing_yes')\n",
      " ('queimacao_yes', 'queimacao_no')]\n",
      "['temperatura' ('urinepushing_no', 'urinepushing_yes')\n",
      " ('inflamacao_no', 'inflamacao_yes')]\n",
      "['temperatura' ('miccao_no', 'miccao_yes')\n",
      " ('queimacao_yes', 'queimacao_no')]\n",
      "['temperatura' ('miccao_no', 'miccao_yes')\n",
      " ('inflamacao_no', 'inflamacao_yes')]\n",
      "['temperatura' ('queimacao_yes', 'queimacao_no')\n",
      " ('inflamacao_no', 'inflamacao_yes')]\n",
      "[('nausea_no', 'nausea_yes') ('dorlombar_no', 'dorlombar_yes')\n",
      " ('urinepushing_no', 'urinepushing_yes')]\n",
      "[('nausea_no', 'nausea_yes') ('dorlombar_no', 'dorlombar_yes')\n",
      " ('miccao_no', 'miccao_yes')]\n",
      "[('nausea_no', 'nausea_yes') ('dorlombar_no', 'dorlombar_yes')\n",
      " ('queimacao_yes', 'queimacao_no')]\n",
      "[('nausea_no', 'nausea_yes') ('dorlombar_no', 'dorlombar_yes')\n",
      " ('inflamacao_no', 'inflamacao_yes')]\n",
      "[('nausea_no', 'nausea_yes') ('urinepushing_no', 'urinepushing_yes')\n",
      " ('miccao_no', 'miccao_yes')]\n",
      "[('nausea_no', 'nausea_yes') ('urinepushing_no', 'urinepushing_yes')\n",
      " ('queimacao_yes', 'queimacao_no')]\n",
      "[('nausea_no', 'nausea_yes') ('urinepushing_no', 'urinepushing_yes')\n",
      " ('inflamacao_no', 'inflamacao_yes')]\n",
      "[('nausea_no', 'nausea_yes') ('miccao_no', 'miccao_yes')\n",
      " ('queimacao_yes', 'queimacao_no')]\n",
      "[('nausea_no', 'nausea_yes') ('miccao_no', 'miccao_yes')\n",
      " ('inflamacao_no', 'inflamacao_yes')]\n",
      "[('nausea_no', 'nausea_yes') ('queimacao_yes', 'queimacao_no')\n",
      " ('inflamacao_no', 'inflamacao_yes')]\n",
      "[('dorlombar_no', 'dorlombar_yes') ('urinepushing_no', 'urinepushing_yes')\n",
      " ('miccao_no', 'miccao_yes')]\n",
      "[('dorlombar_no', 'dorlombar_yes') ('urinepushing_no', 'urinepushing_yes')\n",
      " ('queimacao_yes', 'queimacao_no')]\n",
      "[('dorlombar_no', 'dorlombar_yes') ('urinepushing_no', 'urinepushing_yes')\n",
      " ('inflamacao_no', 'inflamacao_yes')]\n",
      "[('dorlombar_no', 'dorlombar_yes') ('miccao_no', 'miccao_yes')\n",
      " ('queimacao_yes', 'queimacao_no')]\n",
      "[('dorlombar_no', 'dorlombar_yes') ('miccao_no', 'miccao_yes')\n",
      " ('inflamacao_no', 'inflamacao_yes')]\n",
      "[('dorlombar_no', 'dorlombar_yes') ('queimacao_yes', 'queimacao_no')\n",
      " ('inflamacao_no', 'inflamacao_yes')]\n",
      "[('urinepushing_no', 'urinepushing_yes') ('miccao_no', 'miccao_yes')\n",
      " ('queimacao_yes', 'queimacao_no')]\n",
      "[('urinepushing_no', 'urinepushing_yes') ('miccao_no', 'miccao_yes')\n",
      " ('inflamacao_no', 'inflamacao_yes')]\n",
      "[('urinepushing_no', 'urinepushing_yes') ('queimacao_yes', 'queimacao_no')\n",
      " ('inflamacao_no', 'inflamacao_yes')]\n",
      "[('miccao_no', 'miccao_yes') ('queimacao_yes', 'queimacao_no')\n",
      " ('inflamacao_no', 'inflamacao_yes')]\n"
     ]
    }
   ],
   "source": [
    "for i in model.group_features_:\n",
    "    print(i)"
   ]
  },
  {
   "cell_type": "code",
   "execution_count": 11,
   "metadata": {},
   "outputs": [
    {
     "data": {
      "text/plain": [
       "['temperatura',\n",
       " ('nausea_no', 'nausea_yes'),\n",
       " ('dorlombar_no', 'dorlombar_yes'),\n",
       " ('urinepushing_no', 'urinepushing_yes'),\n",
       " ('miccao_no', 'miccao_yes'),\n",
       " ('queimacao_yes', 'queimacao_no'),\n",
       " ('inflamacao_no', 'inflamacao_yes')]"
      ]
     },
     "execution_count": 11,
     "metadata": {},
     "output_type": "execute_result"
    }
   ],
   "source": [
    "model.name_features_"
   ]
  },
  {
   "cell_type": "code",
   "execution_count": 12,
   "metadata": {},
   "outputs": [
    {
     "data": {
      "text/html": [
       "<div>\n",
       "<style scoped>\n",
       "    .dataframe tbody tr th:only-of-type {\n",
       "        vertical-align: middle;\n",
       "    }\n",
       "\n",
       "    .dataframe tbody tr th {\n",
       "        vertical-align: top;\n",
       "    }\n",
       "\n",
       "    .dataframe thead th {\n",
       "        text-align: right;\n",
       "    }\n",
       "</style>\n",
       "<table border=\"1\" class=\"dataframe\">\n",
       "  <thead>\n",
       "    <tr style=\"text-align: right;\">\n",
       "      <th></th>\n",
       "      <th>temperatura</th>\n",
       "      <th>nausea_no</th>\n",
       "      <th>nausea_yes</th>\n",
       "      <th>dorlombar_no</th>\n",
       "      <th>dorlombar_yes</th>\n",
       "      <th>urinepushing_no</th>\n",
       "      <th>urinepushing_yes</th>\n",
       "      <th>miccao_no</th>\n",
       "      <th>miccao_yes</th>\n",
       "      <th>queimacao_yes</th>\n",
       "      <th>queimacao_no</th>\n",
       "      <th>inflamacao_no</th>\n",
       "      <th>inflamacao_yes</th>\n",
       "    </tr>\n",
       "  </thead>\n",
       "  <tbody>\n",
       "    <tr>\n",
       "      <th>106</th>\n",
       "      <td>41.1</td>\n",
       "      <td>0.0</td>\n",
       "      <td>1.0</td>\n",
       "      <td>0.0</td>\n",
       "      <td>1.0</td>\n",
       "      <td>0.0</td>\n",
       "      <td>1.0</td>\n",
       "      <td>0.0</td>\n",
       "      <td>1.0</td>\n",
       "      <td>1.0</td>\n",
       "      <td>0.0</td>\n",
       "      <td>0.0</td>\n",
       "      <td>1.0</td>\n",
       "    </tr>\n",
       "    <tr>\n",
       "      <th>91</th>\n",
       "      <td>40.6</td>\n",
       "      <td>0.0</td>\n",
       "      <td>1.0</td>\n",
       "      <td>0.0</td>\n",
       "      <td>1.0</td>\n",
       "      <td>1.0</td>\n",
       "      <td>0.0</td>\n",
       "      <td>0.0</td>\n",
       "      <td>1.0</td>\n",
       "      <td>1.0</td>\n",
       "      <td>0.0</td>\n",
       "      <td>1.0</td>\n",
       "      <td>0.0</td>\n",
       "    </tr>\n",
       "    <tr>\n",
       "      <th>32</th>\n",
       "      <td>37.2</td>\n",
       "      <td>1.0</td>\n",
       "      <td>0.0</td>\n",
       "      <td>0.0</td>\n",
       "      <td>1.0</td>\n",
       "      <td>1.0</td>\n",
       "      <td>0.0</td>\n",
       "      <td>1.0</td>\n",
       "      <td>0.0</td>\n",
       "      <td>1.0</td>\n",
       "      <td>0.0</td>\n",
       "      <td>1.0</td>\n",
       "      <td>0.0</td>\n",
       "    </tr>\n",
       "    <tr>\n",
       "      <th>95</th>\n",
       "      <td>40.7</td>\n",
       "      <td>0.0</td>\n",
       "      <td>1.0</td>\n",
       "      <td>0.0</td>\n",
       "      <td>1.0</td>\n",
       "      <td>1.0</td>\n",
       "      <td>0.0</td>\n",
       "      <td>0.0</td>\n",
       "      <td>1.0</td>\n",
       "      <td>1.0</td>\n",
       "      <td>0.0</td>\n",
       "      <td>1.0</td>\n",
       "      <td>0.0</td>\n",
       "    </tr>\n",
       "    <tr>\n",
       "      <th>31</th>\n",
       "      <td>37.2</td>\n",
       "      <td>1.0</td>\n",
       "      <td>0.0</td>\n",
       "      <td>1.0</td>\n",
       "      <td>0.0</td>\n",
       "      <td>0.0</td>\n",
       "      <td>1.0</td>\n",
       "      <td>0.0</td>\n",
       "      <td>1.0</td>\n",
       "      <td>1.0</td>\n",
       "      <td>0.0</td>\n",
       "      <td>0.0</td>\n",
       "      <td>1.0</td>\n",
       "    </tr>\n",
       "  </tbody>\n",
       "</table>\n",
       "</div>"
      ],
      "text/plain": [
       "     temperatura  nausea_no  nausea_yes  dorlombar_no  dorlombar_yes  \\\n",
       "106         41.1        0.0         1.0           0.0            1.0   \n",
       "91          40.6        0.0         1.0           0.0            1.0   \n",
       "32          37.2        1.0         0.0           0.0            1.0   \n",
       "95          40.7        0.0         1.0           0.0            1.0   \n",
       "31          37.2        1.0         0.0           1.0            0.0   \n",
       "\n",
       "     urinepushing_no  urinepushing_yes  miccao_no  miccao_yes  queimacao_yes  \\\n",
       "106              0.0               1.0        0.0         1.0            1.0   \n",
       "91               1.0               0.0        0.0         1.0            1.0   \n",
       "32               1.0               0.0        1.0         0.0            1.0   \n",
       "95               1.0               0.0        0.0         1.0            1.0   \n",
       "31               0.0               1.0        0.0         1.0            1.0   \n",
       "\n",
       "     queimacao_no  inflamacao_no  inflamacao_yes  \n",
       "106           0.0            0.0             1.0  \n",
       "91            0.0            1.0             0.0  \n",
       "32            0.0            1.0             0.0  \n",
       "95            0.0            1.0             0.0  \n",
       "31            0.0            0.0             1.0  "
      ]
     },
     "execution_count": 12,
     "metadata": {},
     "output_type": "execute_result"
    }
   ],
   "source": [
    "model.train_X.head()"
   ]
  },
  {
   "cell_type": "code",
   "execution_count": 13,
   "metadata": {},
   "outputs": [
    {
     "data": {
      "text/plain": [
       "106    1\n",
       "91     1\n",
       "32     0\n",
       "95     1\n",
       "31     0\n",
       "dtype: int32"
      ]
     },
     "execution_count": 13,
     "metadata": {},
     "output_type": "execute_result"
    }
   ],
   "source": [
    "model.train_y.head()"
   ]
  },
  {
   "cell_type": "code",
   "execution_count": 14,
   "metadata": {},
   "outputs": [
    {
     "data": {
      "text/html": [
       "<div>\n",
       "<style scoped>\n",
       "    .dataframe tbody tr th:only-of-type {\n",
       "        vertical-align: middle;\n",
       "    }\n",
       "\n",
       "    .dataframe tbody tr th {\n",
       "        vertical-align: top;\n",
       "    }\n",
       "\n",
       "    .dataframe thead th {\n",
       "        text-align: right;\n",
       "    }\n",
       "</style>\n",
       "<table border=\"1\" class=\"dataframe\">\n",
       "  <thead>\n",
       "    <tr style=\"text-align: right;\">\n",
       "      <th></th>\n",
       "      <th>temperatura</th>\n",
       "      <th>nausea</th>\n",
       "      <th>dorlombar</th>\n",
       "      <th>urinepushing</th>\n",
       "      <th>miccao</th>\n",
       "      <th>queimacao</th>\n",
       "      <th>inflamacao</th>\n",
       "    </tr>\n",
       "  </thead>\n",
       "  <tbody>\n",
       "    <tr>\n",
       "      <th>53</th>\n",
       "      <td>37.8</td>\n",
       "      <td>no</td>\n",
       "      <td>no</td>\n",
       "      <td>yes</td>\n",
       "      <td>yes</td>\n",
       "      <td>yes</td>\n",
       "      <td>yes</td>\n",
       "    </tr>\n",
       "    <tr>\n",
       "      <th>73</th>\n",
       "      <td>40.0</td>\n",
       "      <td>no</td>\n",
       "      <td>no</td>\n",
       "      <td>no</td>\n",
       "      <td>no</td>\n",
       "      <td>no</td>\n",
       "      <td>no</td>\n",
       "    </tr>\n",
       "    <tr>\n",
       "      <th>112</th>\n",
       "      <td>41.2</td>\n",
       "      <td>yes</td>\n",
       "      <td>yes</td>\n",
       "      <td>no</td>\n",
       "      <td>yes</td>\n",
       "      <td>no</td>\n",
       "      <td>no</td>\n",
       "    </tr>\n",
       "    <tr>\n",
       "      <th>49</th>\n",
       "      <td>37.7</td>\n",
       "      <td>no</td>\n",
       "      <td>no</td>\n",
       "      <td>yes</td>\n",
       "      <td>yes</td>\n",
       "      <td>no</td>\n",
       "      <td>yes</td>\n",
       "    </tr>\n",
       "    <tr>\n",
       "      <th>102</th>\n",
       "      <td>41.0</td>\n",
       "      <td>no</td>\n",
       "      <td>no</td>\n",
       "      <td>no</td>\n",
       "      <td>no</td>\n",
       "      <td>no</td>\n",
       "      <td>no</td>\n",
       "    </tr>\n",
       "  </tbody>\n",
       "</table>\n",
       "</div>"
      ],
      "text/plain": [
       "     temperatura nausea dorlombar urinepushing miccao queimacao inflamacao\n",
       "53          37.8     no        no          yes    yes       yes        yes\n",
       "73          40.0     no        no           no     no        no         no\n",
       "112         41.2    yes       yes           no    yes        no         no\n",
       "49          37.7     no        no          yes    yes        no        yes\n",
       "102         41.0     no        no           no     no        no         no"
      ]
     },
     "execution_count": 14,
     "metadata": {},
     "output_type": "execute_result"
    }
   ],
   "source": [
    "X_test.head()"
   ]
  },
  {
   "cell_type": "code",
   "execution_count": 15,
   "metadata": {},
   "outputs": [
    {
     "data": {
      "text/plain": [
       "True"
      ]
     },
     "execution_count": 15,
     "metadata": {},
     "output_type": "execute_result"
    }
   ],
   "source": [
    "model.predict(X_test)"
   ]
  },
  {
   "cell_type": "code",
   "execution_count": 16,
   "metadata": {},
   "outputs": [
    {
     "data": {
      "text/html": [
       "<div>\n",
       "<style scoped>\n",
       "    .dataframe tbody tr th:only-of-type {\n",
       "        vertical-align: middle;\n",
       "    }\n",
       "\n",
       "    .dataframe tbody tr th {\n",
       "        vertical-align: top;\n",
       "    }\n",
       "\n",
       "    .dataframe thead th {\n",
       "        text-align: right;\n",
       "    }\n",
       "</style>\n",
       "<table border=\"1\" class=\"dataframe\">\n",
       "  <thead>\n",
       "    <tr style=\"text-align: right;\">\n",
       "      <th></th>\n",
       "      <th>temperatura</th>\n",
       "      <th>nausea_yes</th>\n",
       "      <th>nausea_no</th>\n",
       "      <th>dorlombar_yes</th>\n",
       "      <th>dorlombar_no</th>\n",
       "      <th>urinepushing_no</th>\n",
       "      <th>urinepushing_yes</th>\n",
       "      <th>miccao_no</th>\n",
       "      <th>miccao_yes</th>\n",
       "      <th>queimacao_no</th>\n",
       "      <th>queimacao_yes</th>\n",
       "      <th>inflamacao_no</th>\n",
       "      <th>inflamacao_yes</th>\n",
       "    </tr>\n",
       "  </thead>\n",
       "  <tbody>\n",
       "    <tr>\n",
       "      <th>53</th>\n",
       "      <td>37.8</td>\n",
       "      <td>1.0</td>\n",
       "      <td>0.0</td>\n",
       "      <td>1.0</td>\n",
       "      <td>0.0</td>\n",
       "      <td>0.0</td>\n",
       "      <td>1.0</td>\n",
       "      <td>0.0</td>\n",
       "      <td>1.0</td>\n",
       "      <td>0.0</td>\n",
       "      <td>1.0</td>\n",
       "      <td>0.0</td>\n",
       "      <td>1.0</td>\n",
       "    </tr>\n",
       "    <tr>\n",
       "      <th>73</th>\n",
       "      <td>40.0</td>\n",
       "      <td>1.0</td>\n",
       "      <td>0.0</td>\n",
       "      <td>1.0</td>\n",
       "      <td>0.0</td>\n",
       "      <td>1.0</td>\n",
       "      <td>0.0</td>\n",
       "      <td>1.0</td>\n",
       "      <td>0.0</td>\n",
       "      <td>1.0</td>\n",
       "      <td>0.0</td>\n",
       "      <td>1.0</td>\n",
       "      <td>0.0</td>\n",
       "    </tr>\n",
       "    <tr>\n",
       "      <th>112</th>\n",
       "      <td>41.2</td>\n",
       "      <td>0.0</td>\n",
       "      <td>1.0</td>\n",
       "      <td>0.0</td>\n",
       "      <td>1.0</td>\n",
       "      <td>1.0</td>\n",
       "      <td>0.0</td>\n",
       "      <td>0.0</td>\n",
       "      <td>1.0</td>\n",
       "      <td>1.0</td>\n",
       "      <td>0.0</td>\n",
       "      <td>1.0</td>\n",
       "      <td>0.0</td>\n",
       "    </tr>\n",
       "    <tr>\n",
       "      <th>49</th>\n",
       "      <td>37.7</td>\n",
       "      <td>1.0</td>\n",
       "      <td>0.0</td>\n",
       "      <td>1.0</td>\n",
       "      <td>0.0</td>\n",
       "      <td>0.0</td>\n",
       "      <td>1.0</td>\n",
       "      <td>0.0</td>\n",
       "      <td>1.0</td>\n",
       "      <td>1.0</td>\n",
       "      <td>0.0</td>\n",
       "      <td>0.0</td>\n",
       "      <td>1.0</td>\n",
       "    </tr>\n",
       "    <tr>\n",
       "      <th>102</th>\n",
       "      <td>41.0</td>\n",
       "      <td>1.0</td>\n",
       "      <td>0.0</td>\n",
       "      <td>1.0</td>\n",
       "      <td>0.0</td>\n",
       "      <td>1.0</td>\n",
       "      <td>0.0</td>\n",
       "      <td>1.0</td>\n",
       "      <td>0.0</td>\n",
       "      <td>1.0</td>\n",
       "      <td>0.0</td>\n",
       "      <td>1.0</td>\n",
       "      <td>0.0</td>\n",
       "    </tr>\n",
       "  </tbody>\n",
       "</table>\n",
       "</div>"
      ],
      "text/plain": [
       "     temperatura  nausea_yes  nausea_no  dorlombar_yes  dorlombar_no  \\\n",
       "53          37.8         1.0        0.0            1.0           0.0   \n",
       "73          40.0         1.0        0.0            1.0           0.0   \n",
       "112         41.2         0.0        1.0            0.0           1.0   \n",
       "49          37.7         1.0        0.0            1.0           0.0   \n",
       "102         41.0         1.0        0.0            1.0           0.0   \n",
       "\n",
       "     urinepushing_no  urinepushing_yes  miccao_no  miccao_yes  queimacao_no  \\\n",
       "53               0.0               1.0        0.0         1.0           0.0   \n",
       "73               1.0               0.0        1.0         0.0           1.0   \n",
       "112              1.0               0.0        0.0         1.0           1.0   \n",
       "49               0.0               1.0        0.0         1.0           1.0   \n",
       "102              1.0               0.0        1.0         0.0           1.0   \n",
       "\n",
       "     queimacao_yes  inflamacao_no  inflamacao_yes  \n",
       "53             1.0            0.0             1.0  \n",
       "73             0.0            1.0             0.0  \n",
       "112            0.0            1.0             0.0  \n",
       "49             0.0            0.0             1.0  \n",
       "102            0.0            1.0             0.0  "
      ]
     },
     "execution_count": 16,
     "metadata": {},
     "output_type": "execute_result"
    }
   ],
   "source": [
    "model.predict_X.head()"
   ]
  },
  {
   "cell_type": "code",
   "execution_count": 19,
   "metadata": {},
   "outputs": [],
   "source": [
    "del model"
   ]
  },
  {
   "cell_type": "code",
   "execution_count": 20,
   "metadata": {},
   "outputs": [],
   "source": [
    "model = EnginneringForest(3)"
   ]
  },
  {
   "cell_type": "code",
   "execution_count": 21,
   "metadata": {},
   "outputs": [],
   "source": [
    "model.encoder_enable = True\n",
    "model.encoder_target = True\n",
    "model.encoder_data = True\n",
    "model.normalize_enable = True\n",
    "model.estrategy_trainning = 1\n",
    "model.is_data_categorical = True"
   ]
  },
  {
   "cell_type": "code",
   "execution_count": 22,
   "metadata": {},
   "outputs": [],
   "source": [
    "model.fit(X_train, y_train)"
   ]
  },
  {
   "cell_type": "code",
   "execution_count": 23,
   "metadata": {},
   "outputs": [
    {
     "data": {
      "text/plain": [
       "35"
      ]
     },
     "execution_count": 23,
     "metadata": {},
     "output_type": "execute_result"
    }
   ],
   "source": [
    "len(model.estimators_)"
   ]
  },
  {
   "cell_type": "code",
   "execution_count": 24,
   "metadata": {},
   "outputs": [
    {
     "name": "stdout",
     "output_type": "stream",
     "text": [
      "['temperatura' ('nausea_no', 'nausea_yes')\n",
      " ('dorlombar_no', 'dorlombar_yes')]\n",
      "['temperatura' ('nausea_no', 'nausea_yes')\n",
      " ('urinepushing_no', 'urinepushing_yes')]\n",
      "['temperatura' ('nausea_no', 'nausea_yes') ('miccao_no', 'miccao_yes')]\n",
      "['temperatura' ('nausea_no', 'nausea_yes')\n",
      " ('queimacao_yes', 'queimacao_no')]\n",
      "['temperatura' ('nausea_no', 'nausea_yes')\n",
      " ('inflamacao_no', 'inflamacao_yes')]\n",
      "['temperatura' ('dorlombar_no', 'dorlombar_yes')\n",
      " ('urinepushing_no', 'urinepushing_yes')]\n",
      "['temperatura' ('dorlombar_no', 'dorlombar_yes')\n",
      " ('miccao_no', 'miccao_yes')]\n",
      "['temperatura' ('dorlombar_no', 'dorlombar_yes')\n",
      " ('queimacao_yes', 'queimacao_no')]\n",
      "['temperatura' ('dorlombar_no', 'dorlombar_yes')\n",
      " ('inflamacao_no', 'inflamacao_yes')]\n",
      "['temperatura' ('urinepushing_no', 'urinepushing_yes')\n",
      " ('miccao_no', 'miccao_yes')]\n",
      "['temperatura' ('urinepushing_no', 'urinepushing_yes')\n",
      " ('queimacao_yes', 'queimacao_no')]\n",
      "['temperatura' ('urinepushing_no', 'urinepushing_yes')\n",
      " ('inflamacao_no', 'inflamacao_yes')]\n",
      "['temperatura' ('miccao_no', 'miccao_yes')\n",
      " ('queimacao_yes', 'queimacao_no')]\n",
      "['temperatura' ('miccao_no', 'miccao_yes')\n",
      " ('inflamacao_no', 'inflamacao_yes')]\n",
      "['temperatura' ('queimacao_yes', 'queimacao_no')\n",
      " ('inflamacao_no', 'inflamacao_yes')]\n",
      "[('nausea_no', 'nausea_yes') ('dorlombar_no', 'dorlombar_yes')\n",
      " ('urinepushing_no', 'urinepushing_yes')]\n",
      "[('nausea_no', 'nausea_yes') ('dorlombar_no', 'dorlombar_yes')\n",
      " ('miccao_no', 'miccao_yes')]\n",
      "[('nausea_no', 'nausea_yes') ('dorlombar_no', 'dorlombar_yes')\n",
      " ('queimacao_yes', 'queimacao_no')]\n",
      "[('nausea_no', 'nausea_yes') ('dorlombar_no', 'dorlombar_yes')\n",
      " ('inflamacao_no', 'inflamacao_yes')]\n",
      "[('nausea_no', 'nausea_yes') ('urinepushing_no', 'urinepushing_yes')\n",
      " ('miccao_no', 'miccao_yes')]\n",
      "[('nausea_no', 'nausea_yes') ('urinepushing_no', 'urinepushing_yes')\n",
      " ('queimacao_yes', 'queimacao_no')]\n",
      "[('nausea_no', 'nausea_yes') ('urinepushing_no', 'urinepushing_yes')\n",
      " ('inflamacao_no', 'inflamacao_yes')]\n",
      "[('nausea_no', 'nausea_yes') ('miccao_no', 'miccao_yes')\n",
      " ('queimacao_yes', 'queimacao_no')]\n",
      "[('nausea_no', 'nausea_yes') ('miccao_no', 'miccao_yes')\n",
      " ('inflamacao_no', 'inflamacao_yes')]\n",
      "[('nausea_no', 'nausea_yes') ('queimacao_yes', 'queimacao_no')\n",
      " ('inflamacao_no', 'inflamacao_yes')]\n",
      "[('dorlombar_no', 'dorlombar_yes') ('urinepushing_no', 'urinepushing_yes')\n",
      " ('miccao_no', 'miccao_yes')]\n",
      "[('dorlombar_no', 'dorlombar_yes') ('urinepushing_no', 'urinepushing_yes')\n",
      " ('queimacao_yes', 'queimacao_no')]\n",
      "[('dorlombar_no', 'dorlombar_yes') ('urinepushing_no', 'urinepushing_yes')\n",
      " ('inflamacao_no', 'inflamacao_yes')]\n",
      "[('dorlombar_no', 'dorlombar_yes') ('miccao_no', 'miccao_yes')\n",
      " ('queimacao_yes', 'queimacao_no')]\n",
      "[('dorlombar_no', 'dorlombar_yes') ('miccao_no', 'miccao_yes')\n",
      " ('inflamacao_no', 'inflamacao_yes')]\n",
      "[('dorlombar_no', 'dorlombar_yes') ('queimacao_yes', 'queimacao_no')\n",
      " ('inflamacao_no', 'inflamacao_yes')]\n",
      "[('urinepushing_no', 'urinepushing_yes') ('miccao_no', 'miccao_yes')\n",
      " ('queimacao_yes', 'queimacao_no')]\n",
      "[('urinepushing_no', 'urinepushing_yes') ('miccao_no', 'miccao_yes')\n",
      " ('inflamacao_no', 'inflamacao_yes')]\n",
      "[('urinepushing_no', 'urinepushing_yes') ('queimacao_yes', 'queimacao_no')\n",
      " ('inflamacao_no', 'inflamacao_yes')]\n",
      "[('miccao_no', 'miccao_yes') ('queimacao_yes', 'queimacao_no')\n",
      " ('inflamacao_no', 'inflamacao_yes')]\n"
     ]
    }
   ],
   "source": [
    "for i in model.group_features_:\n",
    "    print(i)"
   ]
  },
  {
   "cell_type": "code",
   "execution_count": 25,
   "metadata": {},
   "outputs": [
    {
     "data": {
      "text/plain": [
       "['temperatura',\n",
       " ('nausea_no', 'nausea_yes'),\n",
       " ('dorlombar_no', 'dorlombar_yes'),\n",
       " ('urinepushing_no', 'urinepushing_yes'),\n",
       " ('miccao_no', 'miccao_yes'),\n",
       " ('queimacao_yes', 'queimacao_no'),\n",
       " ('inflamacao_no', 'inflamacao_yes')]"
      ]
     },
     "execution_count": 25,
     "metadata": {},
     "output_type": "execute_result"
    }
   ],
   "source": [
    "model.name_features_"
   ]
  },
  {
   "cell_type": "code",
   "execution_count": 26,
   "metadata": {},
   "outputs": [
    {
     "data": {
      "text/html": [
       "<div>\n",
       "<style scoped>\n",
       "    .dataframe tbody tr th:only-of-type {\n",
       "        vertical-align: middle;\n",
       "    }\n",
       "\n",
       "    .dataframe tbody tr th {\n",
       "        vertical-align: top;\n",
       "    }\n",
       "\n",
       "    .dataframe thead th {\n",
       "        text-align: right;\n",
       "    }\n",
       "</style>\n",
       "<table border=\"1\" class=\"dataframe\">\n",
       "  <thead>\n",
       "    <tr style=\"text-align: right;\">\n",
       "      <th></th>\n",
       "      <th>temperatura</th>\n",
       "      <th>nausea_no</th>\n",
       "      <th>nausea_yes</th>\n",
       "      <th>dorlombar_no</th>\n",
       "      <th>dorlombar_yes</th>\n",
       "      <th>urinepushing_no</th>\n",
       "      <th>urinepushing_yes</th>\n",
       "      <th>miccao_no</th>\n",
       "      <th>miccao_yes</th>\n",
       "      <th>queimacao_yes</th>\n",
       "      <th>queimacao_no</th>\n",
       "      <th>inflamacao_no</th>\n",
       "      <th>inflamacao_yes</th>\n",
       "    </tr>\n",
       "  </thead>\n",
       "  <tbody>\n",
       "    <tr>\n",
       "      <th>106</th>\n",
       "      <td>1.311578</td>\n",
       "      <td>0.0</td>\n",
       "      <td>1.0</td>\n",
       "      <td>0.0</td>\n",
       "      <td>1.0</td>\n",
       "      <td>0.0</td>\n",
       "      <td>1.0</td>\n",
       "      <td>0.0</td>\n",
       "      <td>1.0</td>\n",
       "      <td>1.0</td>\n",
       "      <td>0.0</td>\n",
       "      <td>0.0</td>\n",
       "      <td>1.0</td>\n",
       "    </tr>\n",
       "    <tr>\n",
       "      <th>91</th>\n",
       "      <td>1.039547</td>\n",
       "      <td>0.0</td>\n",
       "      <td>1.0</td>\n",
       "      <td>0.0</td>\n",
       "      <td>1.0</td>\n",
       "      <td>1.0</td>\n",
       "      <td>0.0</td>\n",
       "      <td>0.0</td>\n",
       "      <td>1.0</td>\n",
       "      <td>1.0</td>\n",
       "      <td>0.0</td>\n",
       "      <td>1.0</td>\n",
       "      <td>0.0</td>\n",
       "    </tr>\n",
       "    <tr>\n",
       "      <th>32</th>\n",
       "      <td>-0.810264</td>\n",
       "      <td>1.0</td>\n",
       "      <td>0.0</td>\n",
       "      <td>0.0</td>\n",
       "      <td>1.0</td>\n",
       "      <td>1.0</td>\n",
       "      <td>0.0</td>\n",
       "      <td>1.0</td>\n",
       "      <td>0.0</td>\n",
       "      <td>1.0</td>\n",
       "      <td>0.0</td>\n",
       "      <td>1.0</td>\n",
       "      <td>0.0</td>\n",
       "    </tr>\n",
       "    <tr>\n",
       "      <th>95</th>\n",
       "      <td>1.093953</td>\n",
       "      <td>0.0</td>\n",
       "      <td>1.0</td>\n",
       "      <td>0.0</td>\n",
       "      <td>1.0</td>\n",
       "      <td>1.0</td>\n",
       "      <td>0.0</td>\n",
       "      <td>0.0</td>\n",
       "      <td>1.0</td>\n",
       "      <td>1.0</td>\n",
       "      <td>0.0</td>\n",
       "      <td>1.0</td>\n",
       "      <td>0.0</td>\n",
       "    </tr>\n",
       "    <tr>\n",
       "      <th>31</th>\n",
       "      <td>-0.810264</td>\n",
       "      <td>1.0</td>\n",
       "      <td>0.0</td>\n",
       "      <td>1.0</td>\n",
       "      <td>0.0</td>\n",
       "      <td>0.0</td>\n",
       "      <td>1.0</td>\n",
       "      <td>0.0</td>\n",
       "      <td>1.0</td>\n",
       "      <td>1.0</td>\n",
       "      <td>0.0</td>\n",
       "      <td>0.0</td>\n",
       "      <td>1.0</td>\n",
       "    </tr>\n",
       "  </tbody>\n",
       "</table>\n",
       "</div>"
      ],
      "text/plain": [
       "     temperatura  nausea_no  nausea_yes  dorlombar_no  dorlombar_yes  \\\n",
       "106     1.311578        0.0         1.0           0.0            1.0   \n",
       "91      1.039547        0.0         1.0           0.0            1.0   \n",
       "32     -0.810264        1.0         0.0           0.0            1.0   \n",
       "95      1.093953        0.0         1.0           0.0            1.0   \n",
       "31     -0.810264        1.0         0.0           1.0            0.0   \n",
       "\n",
       "     urinepushing_no  urinepushing_yes  miccao_no  miccao_yes  queimacao_yes  \\\n",
       "106              0.0               1.0        0.0         1.0            1.0   \n",
       "91               1.0               0.0        0.0         1.0            1.0   \n",
       "32               1.0               0.0        1.0         0.0            1.0   \n",
       "95               1.0               0.0        0.0         1.0            1.0   \n",
       "31               0.0               1.0        0.0         1.0            1.0   \n",
       "\n",
       "     queimacao_no  inflamacao_no  inflamacao_yes  \n",
       "106           0.0            0.0             1.0  \n",
       "91            0.0            1.0             0.0  \n",
       "32            0.0            1.0             0.0  \n",
       "95            0.0            1.0             0.0  \n",
       "31            0.0            0.0             1.0  "
      ]
     },
     "execution_count": 26,
     "metadata": {},
     "output_type": "execute_result"
    }
   ],
   "source": [
    "model.train_X.head()"
   ]
  },
  {
   "cell_type": "code",
   "execution_count": 27,
   "metadata": {},
   "outputs": [
    {
     "data": {
      "text/plain": [
       "106    1\n",
       "91     1\n",
       "32     0\n",
       "95     1\n",
       "31     0\n",
       "dtype: int32"
      ]
     },
     "execution_count": 27,
     "metadata": {},
     "output_type": "execute_result"
    }
   ],
   "source": [
    "model.train_y.head()"
   ]
  },
  {
   "cell_type": "code",
   "execution_count": 28,
   "metadata": {},
   "outputs": [
    {
     "data": {
      "text/plain": [
       "True"
      ]
     },
     "execution_count": 28,
     "metadata": {},
     "output_type": "execute_result"
    }
   ],
   "source": [
    "model.predict(X_test)"
   ]
  },
  {
   "cell_type": "code",
   "execution_count": 29,
   "metadata": {},
   "outputs": [
    {
     "data": {
      "text/html": [
       "<div>\n",
       "<style scoped>\n",
       "    .dataframe tbody tr th:only-of-type {\n",
       "        vertical-align: middle;\n",
       "    }\n",
       "\n",
       "    .dataframe tbody tr th {\n",
       "        vertical-align: top;\n",
       "    }\n",
       "\n",
       "    .dataframe thead th {\n",
       "        text-align: right;\n",
       "    }\n",
       "</style>\n",
       "<table border=\"1\" class=\"dataframe\">\n",
       "  <thead>\n",
       "    <tr style=\"text-align: right;\">\n",
       "      <th></th>\n",
       "      <th>temperatura</th>\n",
       "      <th>nausea_yes</th>\n",
       "      <th>nausea_no</th>\n",
       "      <th>dorlombar_yes</th>\n",
       "      <th>dorlombar_no</th>\n",
       "      <th>urinepushing_no</th>\n",
       "      <th>urinepushing_yes</th>\n",
       "      <th>miccao_no</th>\n",
       "      <th>miccao_yes</th>\n",
       "      <th>queimacao_no</th>\n",
       "      <th>queimacao_yes</th>\n",
       "      <th>inflamacao_no</th>\n",
       "      <th>inflamacao_yes</th>\n",
       "    </tr>\n",
       "  </thead>\n",
       "  <tbody>\n",
       "    <tr>\n",
       "      <th>53</th>\n",
       "      <td>-0.483827</td>\n",
       "      <td>1.0</td>\n",
       "      <td>0.0</td>\n",
       "      <td>1.0</td>\n",
       "      <td>0.0</td>\n",
       "      <td>0.0</td>\n",
       "      <td>1.0</td>\n",
       "      <td>0.0</td>\n",
       "      <td>1.0</td>\n",
       "      <td>0.0</td>\n",
       "      <td>1.0</td>\n",
       "      <td>0.0</td>\n",
       "      <td>1.0</td>\n",
       "    </tr>\n",
       "    <tr>\n",
       "      <th>73</th>\n",
       "      <td>0.713110</td>\n",
       "      <td>1.0</td>\n",
       "      <td>0.0</td>\n",
       "      <td>1.0</td>\n",
       "      <td>0.0</td>\n",
       "      <td>1.0</td>\n",
       "      <td>0.0</td>\n",
       "      <td>1.0</td>\n",
       "      <td>0.0</td>\n",
       "      <td>1.0</td>\n",
       "      <td>0.0</td>\n",
       "      <td>1.0</td>\n",
       "      <td>0.0</td>\n",
       "    </tr>\n",
       "    <tr>\n",
       "      <th>112</th>\n",
       "      <td>1.365984</td>\n",
       "      <td>0.0</td>\n",
       "      <td>1.0</td>\n",
       "      <td>0.0</td>\n",
       "      <td>1.0</td>\n",
       "      <td>1.0</td>\n",
       "      <td>0.0</td>\n",
       "      <td>0.0</td>\n",
       "      <td>1.0</td>\n",
       "      <td>1.0</td>\n",
       "      <td>0.0</td>\n",
       "      <td>1.0</td>\n",
       "      <td>0.0</td>\n",
       "    </tr>\n",
       "    <tr>\n",
       "      <th>49</th>\n",
       "      <td>-0.538233</td>\n",
       "      <td>1.0</td>\n",
       "      <td>0.0</td>\n",
       "      <td>1.0</td>\n",
       "      <td>0.0</td>\n",
       "      <td>0.0</td>\n",
       "      <td>1.0</td>\n",
       "      <td>0.0</td>\n",
       "      <td>1.0</td>\n",
       "      <td>1.0</td>\n",
       "      <td>0.0</td>\n",
       "      <td>0.0</td>\n",
       "      <td>1.0</td>\n",
       "    </tr>\n",
       "    <tr>\n",
       "      <th>102</th>\n",
       "      <td>1.257172</td>\n",
       "      <td>1.0</td>\n",
       "      <td>0.0</td>\n",
       "      <td>1.0</td>\n",
       "      <td>0.0</td>\n",
       "      <td>1.0</td>\n",
       "      <td>0.0</td>\n",
       "      <td>1.0</td>\n",
       "      <td>0.0</td>\n",
       "      <td>1.0</td>\n",
       "      <td>0.0</td>\n",
       "      <td>1.0</td>\n",
       "      <td>0.0</td>\n",
       "    </tr>\n",
       "  </tbody>\n",
       "</table>\n",
       "</div>"
      ],
      "text/plain": [
       "     temperatura  nausea_yes  nausea_no  dorlombar_yes  dorlombar_no  \\\n",
       "53     -0.483827         1.0        0.0            1.0           0.0   \n",
       "73      0.713110         1.0        0.0            1.0           0.0   \n",
       "112     1.365984         0.0        1.0            0.0           1.0   \n",
       "49     -0.538233         1.0        0.0            1.0           0.0   \n",
       "102     1.257172         1.0        0.0            1.0           0.0   \n",
       "\n",
       "     urinepushing_no  urinepushing_yes  miccao_no  miccao_yes  queimacao_no  \\\n",
       "53               0.0               1.0        0.0         1.0           0.0   \n",
       "73               1.0               0.0        1.0         0.0           1.0   \n",
       "112              1.0               0.0        0.0         1.0           1.0   \n",
       "49               0.0               1.0        0.0         1.0           1.0   \n",
       "102              1.0               0.0        1.0         0.0           1.0   \n",
       "\n",
       "     queimacao_yes  inflamacao_no  inflamacao_yes  \n",
       "53             1.0            0.0             1.0  \n",
       "73             0.0            1.0             0.0  \n",
       "112            0.0            1.0             0.0  \n",
       "49             0.0            0.0             1.0  \n",
       "102            0.0            1.0             0.0  "
      ]
     },
     "execution_count": 29,
     "metadata": {},
     "output_type": "execute_result"
    }
   ],
   "source": [
    "model.predict_X.head()"
   ]
  },
  {
   "cell_type": "code",
   "execution_count": null,
   "metadata": {},
   "outputs": [],
   "source": []
  },
  {
   "cell_type": "code",
   "execution_count": null,
   "metadata": {},
   "outputs": [],
   "source": []
  },
  {
   "cell_type": "code",
   "execution_count": null,
   "metadata": {},
   "outputs": [],
   "source": []
  },
  {
   "cell_type": "code",
   "execution_count": null,
   "metadata": {},
   "outputs": [],
   "source": [
    "model.encoder_X.fit_transform(X_test)"
   ]
  },
  {
   "cell_type": "code",
   "execution_count": null,
   "metadata": {},
   "outputs": [],
   "source": [
    "model.predict_X.columns"
   ]
  },
  {
   "cell_type": "code",
   "execution_count": null,
   "metadata": {},
   "outputs": [],
   "source": [
    "type(model.predict_X['temperatura'])"
   ]
  },
  {
   "cell_type": "code",
   "execution_count": null,
   "metadata": {},
   "outputs": [],
   "source": [
    "type(model.predict_X['temperatura'][53])"
   ]
  },
  {
   "cell_type": "code",
   "execution_count": null,
   "metadata": {},
   "outputs": [],
   "source": [
    "model.predict_X['temperatura'].index[0]"
   ]
  },
  {
   "cell_type": "code",
   "execution_count": null,
   "metadata": {},
   "outputs": [],
   "source": [
    "model.predict_X['temperatura'][model.predict_X['temperatura'].index[0]]"
   ]
  },
  {
   "cell_type": "code",
   "execution_count": null,
   "metadata": {},
   "outputs": [],
   "source": [
    "type(model.predict_X['temperatura'][model.predict_X['temperatura'].index[0]])"
   ]
  },
  {
   "cell_type": "code",
   "execution_count": null,
   "metadata": {},
   "outputs": [],
   "source": [
    "model.predict(X_test)"
   ]
  },
  {
   "cell_type": "code",
   "execution_count": null,
   "metadata": {},
   "outputs": [],
   "source": []
  }
 ],
 "metadata": {
  "kernelspec": {
   "display_name": "Python 3",
   "language": "python",
   "name": "python3"
  },
  "language_info": {
   "codemirror_mode": {
    "name": "ipython",
    "version": 3
   },
   "file_extension": ".py",
   "mimetype": "text/x-python",
   "name": "python",
   "nbconvert_exporter": "python",
   "pygments_lexer": "ipython3",
   "version": "3.7.2"
  }
 },
 "nbformat": 4,
 "nbformat_minor": 2
}
