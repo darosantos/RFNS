{
 "cells": [
  {
   "cell_type": "markdown",
   "metadata": {},
   "source": [
    "<h1>HIV-1 protease cleavage Data Set</h1>\n",
    "<p style=\"text-align: right\"><q><strong>Author:</strong> Danilo R. Santos <strong>E-mail: </strong><a href=\"\">danilo_santosrs@hotmail.com</a></q></p>"
   ]
  },
  {
   "cell_type": "code",
   "execution_count": 1,
   "metadata": {},
   "outputs": [],
   "source": [
    "import pandas as pd\n",
    "\n",
    "import numpy as np\n",
    "\n",
    "from sklearn import tree\n",
    "from sklearn import metrics\n",
    "from sklearn import svm\n",
    "from sklearn.tree import DecisionTreeClassifier\n",
    "from sklearn.ensemble import RandomForestClassifier\n",
    "from sklearn.svm import SVC, LinearSVC\n",
    "from sklearn.preprocessing import LabelEncoder, OneHotEncoder, RobustScaler\n",
    "from sklearn.model_selection import train_test_split, cross_val_score, cross_validate\n",
    "from sklearn.metrics import classification_report, confusion_matrix, accuracy_score\n",
    "\n",
    "import matplotlib.pyplot as plt\n",
    "\n",
    "import seaborn as sns"
   ]
  },
  {
   "cell_type": "markdown",
   "metadata": {},
   "source": [
    "<h3>1. Etapa</h3>\n",
    "<p>Unifica os arquivos de dados em um único arquivo e converte a string em uma coluna para cada caracter, preservando sua sequencia de ocorrência</p>"
   ]
  },
  {
   "cell_type": "code",
   "execution_count": 2,
   "metadata": {},
   "outputs": [
    {
     "data": {
      "text/html": [
       "<div>\n",
       "<style scoped>\n",
       "    .dataframe tbody tr th:only-of-type {\n",
       "        vertical-align: middle;\n",
       "    }\n",
       "\n",
       "    .dataframe tbody tr th {\n",
       "        vertical-align: top;\n",
       "    }\n",
       "\n",
       "    .dataframe thead th {\n",
       "        text-align: right;\n",
       "    }\n",
       "</style>\n",
       "<table border=\"1\" class=\"dataframe\">\n",
       "  <thead>\n",
       "    <tr style=\"text-align: right;\">\n",
       "      <th></th>\n",
       "      <th>sequencia</th>\n",
       "      <th>target</th>\n",
       "    </tr>\n",
       "  </thead>\n",
       "  <tbody>\n",
       "    <tr>\n",
       "      <th>0</th>\n",
       "      <td>AAAAAPAK</td>\n",
       "      <td>-1</td>\n",
       "    </tr>\n",
       "    <tr>\n",
       "      <th>1</th>\n",
       "      <td>AAAAPAKV</td>\n",
       "      <td>-1</td>\n",
       "    </tr>\n",
       "    <tr>\n",
       "      <th>2</th>\n",
       "      <td>AAAELGAR</td>\n",
       "      <td>-1</td>\n",
       "    </tr>\n",
       "    <tr>\n",
       "      <th>3</th>\n",
       "      <td>AAAPAKVE</td>\n",
       "      <td>-1</td>\n",
       "    </tr>\n",
       "    <tr>\n",
       "      <th>4</th>\n",
       "      <td>AAAPVAAA</td>\n",
       "      <td>-1</td>\n",
       "    </tr>\n",
       "  </tbody>\n",
       "</table>\n",
       "</div>"
      ],
      "text/plain": [
       "  sequencia  target\n",
       "0  AAAAAPAK      -1\n",
       "1  AAAAPAKV      -1\n",
       "2  AAAELGAR      -1\n",
       "3  AAAPAKVE      -1\n",
       "4  AAAPVAAA      -1"
      ]
     },
     "execution_count": 2,
     "metadata": {},
     "output_type": "execute_result"
    }
   ],
   "source": [
    "df_hiv = pd.read_csv('newHIV-1_data\\schillingData.txt', names=['sequencia','target'], engine='c')\n",
    "df_hiv.head()"
   ]
  },
  {
   "cell_type": "code",
   "execution_count": 3,
   "metadata": {},
   "outputs": [
    {
     "data": {
      "text/plain": [
       "(3272, 2)"
      ]
     },
     "execution_count": 3,
     "metadata": {},
     "output_type": "execute_result"
    }
   ],
   "source": [
    "df_hiv.shape"
   ]
  },
  {
   "cell_type": "code",
   "execution_count": 4,
   "metadata": {},
   "outputs": [
    {
     "data": {
      "text/html": [
       "<div>\n",
       "<style scoped>\n",
       "    .dataframe tbody tr th:only-of-type {\n",
       "        vertical-align: middle;\n",
       "    }\n",
       "\n",
       "    .dataframe tbody tr th {\n",
       "        vertical-align: top;\n",
       "    }\n",
       "\n",
       "    .dataframe thead th {\n",
       "        text-align: right;\n",
       "    }\n",
       "</style>\n",
       "<table border=\"1\" class=\"dataframe\">\n",
       "  <thead>\n",
       "    <tr style=\"text-align: right;\">\n",
       "      <th></th>\n",
       "      <th>seq1</th>\n",
       "      <th>seq2</th>\n",
       "      <th>seq3</th>\n",
       "      <th>seq4</th>\n",
       "      <th>seq5</th>\n",
       "      <th>seq6</th>\n",
       "      <th>seq7</th>\n",
       "      <th>seq8</th>\n",
       "      <th>target</th>\n",
       "    </tr>\n",
       "  </thead>\n",
       "  <tbody>\n",
       "  </tbody>\n",
       "</table>\n",
       "</div>"
      ],
      "text/plain": [
       "Empty DataFrame\n",
       "Columns: [seq1, seq2, seq3, seq4, seq5, seq6, seq7, seq8, target]\n",
       "Index: []"
      ]
     },
     "execution_count": 4,
     "metadata": {},
     "output_type": "execute_result"
    }
   ],
   "source": [
    "columns_name = ['seq1', 'seq2', 'seq3', 'seq4', 'seq5', 'seq6', 'seq7', 'seq8', 'target']\n",
    "df_expand = pd.DataFrame(columns=columns_name)\n",
    "df_expand.head()"
   ]
  },
  {
   "cell_type": "code",
   "execution_count": 5,
   "metadata": {},
   "outputs": [
    {
     "data": {
      "text/html": [
       "<div>\n",
       "<style scoped>\n",
       "    .dataframe tbody tr th:only-of-type {\n",
       "        vertical-align: middle;\n",
       "    }\n",
       "\n",
       "    .dataframe tbody tr th {\n",
       "        vertical-align: top;\n",
       "    }\n",
       "\n",
       "    .dataframe thead th {\n",
       "        text-align: right;\n",
       "    }\n",
       "</style>\n",
       "<table border=\"1\" class=\"dataframe\">\n",
       "  <thead>\n",
       "    <tr style=\"text-align: right;\">\n",
       "      <th></th>\n",
       "      <th>seq1</th>\n",
       "      <th>seq2</th>\n",
       "      <th>seq3</th>\n",
       "      <th>seq4</th>\n",
       "      <th>seq5</th>\n",
       "      <th>seq6</th>\n",
       "      <th>seq7</th>\n",
       "      <th>seq8</th>\n",
       "      <th>target</th>\n",
       "    </tr>\n",
       "  </thead>\n",
       "  <tbody>\n",
       "    <tr>\n",
       "      <th>0</th>\n",
       "      <td>A</td>\n",
       "      <td>A</td>\n",
       "      <td>A</td>\n",
       "      <td>A</td>\n",
       "      <td>A</td>\n",
       "      <td>P</td>\n",
       "      <td>A</td>\n",
       "      <td>K</td>\n",
       "      <td>-1</td>\n",
       "    </tr>\n",
       "    <tr>\n",
       "      <th>1</th>\n",
       "      <td>A</td>\n",
       "      <td>A</td>\n",
       "      <td>A</td>\n",
       "      <td>A</td>\n",
       "      <td>P</td>\n",
       "      <td>A</td>\n",
       "      <td>K</td>\n",
       "      <td>V</td>\n",
       "      <td>-1</td>\n",
       "    </tr>\n",
       "    <tr>\n",
       "      <th>2</th>\n",
       "      <td>A</td>\n",
       "      <td>A</td>\n",
       "      <td>A</td>\n",
       "      <td>E</td>\n",
       "      <td>L</td>\n",
       "      <td>G</td>\n",
       "      <td>A</td>\n",
       "      <td>R</td>\n",
       "      <td>-1</td>\n",
       "    </tr>\n",
       "    <tr>\n",
       "      <th>3</th>\n",
       "      <td>A</td>\n",
       "      <td>A</td>\n",
       "      <td>A</td>\n",
       "      <td>P</td>\n",
       "      <td>A</td>\n",
       "      <td>K</td>\n",
       "      <td>V</td>\n",
       "      <td>E</td>\n",
       "      <td>-1</td>\n",
       "    </tr>\n",
       "    <tr>\n",
       "      <th>4</th>\n",
       "      <td>A</td>\n",
       "      <td>A</td>\n",
       "      <td>A</td>\n",
       "      <td>P</td>\n",
       "      <td>V</td>\n",
       "      <td>A</td>\n",
       "      <td>A</td>\n",
       "      <td>A</td>\n",
       "      <td>-1</td>\n",
       "    </tr>\n",
       "  </tbody>\n",
       "</table>\n",
       "</div>"
      ],
      "text/plain": [
       "  seq1 seq2 seq3 seq4 seq5 seq6 seq7 seq8 target\n",
       "0    A    A    A    A    A    P    A    K     -1\n",
       "1    A    A    A    A    P    A    K    V     -1\n",
       "2    A    A    A    E    L    G    A    R     -1\n",
       "3    A    A    A    P    A    K    V    E     -1\n",
       "4    A    A    A    P    V    A    A    A     -1"
      ]
     },
     "execution_count": 5,
     "metadata": {},
     "output_type": "execute_result"
    }
   ],
   "source": [
    "i = 0\n",
    "for row in df_hiv.iterrows():\n",
    "    #print(row[1][1]); break;\n",
    "    tmp_seq = list(row[1][0])\n",
    "    tmp_seq.append(row[1][1])\n",
    "    df_expand.loc[i] = tmp_seq\n",
    "    i += 1\n",
    "\n",
    "df_expand.head()"
   ]
  },
  {
   "cell_type": "code",
   "execution_count": 6,
   "metadata": {},
   "outputs": [
    {
     "data": {
      "text/plain": [
       "(3272, 9)"
      ]
     },
     "execution_count": 6,
     "metadata": {},
     "output_type": "execute_result"
    }
   ],
   "source": [
    "df_expand.shape"
   ]
  },
  {
   "cell_type": "code",
   "execution_count": 7,
   "metadata": {},
   "outputs": [
    {
     "data": {
      "text/html": [
       "<div>\n",
       "<style scoped>\n",
       "    .dataframe tbody tr th:only-of-type {\n",
       "        vertical-align: middle;\n",
       "    }\n",
       "\n",
       "    .dataframe tbody tr th {\n",
       "        vertical-align: top;\n",
       "    }\n",
       "\n",
       "    .dataframe thead th {\n",
       "        text-align: right;\n",
       "    }\n",
       "</style>\n",
       "<table border=\"1\" class=\"dataframe\">\n",
       "  <thead>\n",
       "    <tr style=\"text-align: right;\">\n",
       "      <th></th>\n",
       "      <th>sequencia</th>\n",
       "      <th>target</th>\n",
       "    </tr>\n",
       "  </thead>\n",
       "  <tbody>\n",
       "    <tr>\n",
       "      <th>0</th>\n",
       "      <td>AAAGKSGG</td>\n",
       "      <td>-1</td>\n",
       "    </tr>\n",
       "    <tr>\n",
       "      <th>1</th>\n",
       "      <td>AAAVDAGM</td>\n",
       "      <td>-1</td>\n",
       "    </tr>\n",
       "    <tr>\n",
       "      <th>2</th>\n",
       "      <td>AAGKSGGG</td>\n",
       "      <td>-1</td>\n",
       "    </tr>\n",
       "    <tr>\n",
       "      <th>3</th>\n",
       "      <td>AALALEYG</td>\n",
       "      <td>1</td>\n",
       "    </tr>\n",
       "    <tr>\n",
       "      <th>4</th>\n",
       "      <td>AANDGPMP</td>\n",
       "      <td>-1</td>\n",
       "    </tr>\n",
       "  </tbody>\n",
       "</table>\n",
       "</div>"
      ],
      "text/plain": [
       "  sequencia  target\n",
       "0  AAAGKSGG      -1\n",
       "1  AAAVDAGM      -1\n",
       "2  AAGKSGGG      -1\n",
       "3  AALALEYG       1\n",
       "4  AANDGPMP      -1"
      ]
     },
     "execution_count": 7,
     "metadata": {},
     "output_type": "execute_result"
    }
   ],
   "source": [
    "df_impens = pd.read_csv('newHIV-1_data\\impensData.txt', names=['sequencia','target'], engine='c')\n",
    "df_impens.head()"
   ]
  },
  {
   "cell_type": "code",
   "execution_count": 8,
   "metadata": {},
   "outputs": [
    {
     "data": {
      "text/plain": [
       "(947, 2)"
      ]
     },
     "execution_count": 8,
     "metadata": {},
     "output_type": "execute_result"
    }
   ],
   "source": [
    "df_impens.shape"
   ]
  },
  {
   "cell_type": "code",
   "execution_count": 9,
   "metadata": {},
   "outputs": [
    {
     "data": {
      "text/html": [
       "<div>\n",
       "<style scoped>\n",
       "    .dataframe tbody tr th:only-of-type {\n",
       "        vertical-align: middle;\n",
       "    }\n",
       "\n",
       "    .dataframe tbody tr th {\n",
       "        vertical-align: top;\n",
       "    }\n",
       "\n",
       "    .dataframe thead th {\n",
       "        text-align: right;\n",
       "    }\n",
       "</style>\n",
       "<table border=\"1\" class=\"dataframe\">\n",
       "  <thead>\n",
       "    <tr style=\"text-align: right;\">\n",
       "      <th></th>\n",
       "      <th>seq1</th>\n",
       "      <th>seq2</th>\n",
       "      <th>seq3</th>\n",
       "      <th>seq4</th>\n",
       "      <th>seq5</th>\n",
       "      <th>seq6</th>\n",
       "      <th>seq7</th>\n",
       "      <th>seq8</th>\n",
       "      <th>target</th>\n",
       "    </tr>\n",
       "  </thead>\n",
       "  <tbody>\n",
       "    <tr>\n",
       "      <th>0</th>\n",
       "      <td>A</td>\n",
       "      <td>A</td>\n",
       "      <td>A</td>\n",
       "      <td>A</td>\n",
       "      <td>A</td>\n",
       "      <td>P</td>\n",
       "      <td>A</td>\n",
       "      <td>K</td>\n",
       "      <td>-1</td>\n",
       "    </tr>\n",
       "    <tr>\n",
       "      <th>1</th>\n",
       "      <td>A</td>\n",
       "      <td>A</td>\n",
       "      <td>A</td>\n",
       "      <td>A</td>\n",
       "      <td>P</td>\n",
       "      <td>A</td>\n",
       "      <td>K</td>\n",
       "      <td>V</td>\n",
       "      <td>-1</td>\n",
       "    </tr>\n",
       "    <tr>\n",
       "      <th>2</th>\n",
       "      <td>A</td>\n",
       "      <td>A</td>\n",
       "      <td>A</td>\n",
       "      <td>E</td>\n",
       "      <td>L</td>\n",
       "      <td>G</td>\n",
       "      <td>A</td>\n",
       "      <td>R</td>\n",
       "      <td>-1</td>\n",
       "    </tr>\n",
       "    <tr>\n",
       "      <th>3</th>\n",
       "      <td>A</td>\n",
       "      <td>A</td>\n",
       "      <td>A</td>\n",
       "      <td>P</td>\n",
       "      <td>A</td>\n",
       "      <td>K</td>\n",
       "      <td>V</td>\n",
       "      <td>E</td>\n",
       "      <td>-1</td>\n",
       "    </tr>\n",
       "    <tr>\n",
       "      <th>4</th>\n",
       "      <td>A</td>\n",
       "      <td>A</td>\n",
       "      <td>A</td>\n",
       "      <td>P</td>\n",
       "      <td>V</td>\n",
       "      <td>A</td>\n",
       "      <td>A</td>\n",
       "      <td>A</td>\n",
       "      <td>-1</td>\n",
       "    </tr>\n",
       "  </tbody>\n",
       "</table>\n",
       "</div>"
      ],
      "text/plain": [
       "  seq1 seq2 seq3 seq4 seq5 seq6 seq7 seq8 target\n",
       "0    A    A    A    A    A    P    A    K     -1\n",
       "1    A    A    A    A    P    A    K    V     -1\n",
       "2    A    A    A    E    L    G    A    R     -1\n",
       "3    A    A    A    P    A    K    V    E     -1\n",
       "4    A    A    A    P    V    A    A    A     -1"
      ]
     },
     "execution_count": 9,
     "metadata": {},
     "output_type": "execute_result"
    }
   ],
   "source": [
    "i = 3272\n",
    "for row in df_impens.iterrows():\n",
    "    #print(row[1][1]); break;\n",
    "    tmp_seq = list(row[1][0])\n",
    "    tmp_seq.append(row[1][1])\n",
    "    df_expand.loc[i] = tmp_seq\n",
    "    i += 1\n",
    "\n",
    "df_expand.head()"
   ]
  },
  {
   "cell_type": "code",
   "execution_count": 10,
   "metadata": {},
   "outputs": [
    {
     "data": {
      "text/plain": [
       "(4219, 9)"
      ]
     },
     "execution_count": 10,
     "metadata": {},
     "output_type": "execute_result"
    }
   ],
   "source": [
    "df_expand.shape"
   ]
  },
  {
   "cell_type": "code",
   "execution_count": 11,
   "metadata": {},
   "outputs": [
    {
     "data": {
      "text/html": [
       "<div>\n",
       "<style scoped>\n",
       "    .dataframe tbody tr th:only-of-type {\n",
       "        vertical-align: middle;\n",
       "    }\n",
       "\n",
       "    .dataframe tbody tr th {\n",
       "        vertical-align: top;\n",
       "    }\n",
       "\n",
       "    .dataframe thead th {\n",
       "        text-align: right;\n",
       "    }\n",
       "</style>\n",
       "<table border=\"1\" class=\"dataframe\">\n",
       "  <thead>\n",
       "    <tr style=\"text-align: right;\">\n",
       "      <th></th>\n",
       "      <th>sequencia</th>\n",
       "      <th>target</th>\n",
       "    </tr>\n",
       "  </thead>\n",
       "  <tbody>\n",
       "    <tr>\n",
       "      <th>0</th>\n",
       "      <td>SLNLRETN</td>\n",
       "      <td>1</td>\n",
       "    </tr>\n",
       "    <tr>\n",
       "      <th>1</th>\n",
       "      <td>AECFRIFD</td>\n",
       "      <td>1</td>\n",
       "    </tr>\n",
       "    <tr>\n",
       "      <th>2</th>\n",
       "      <td>HLVEALYL</td>\n",
       "      <td>1</td>\n",
       "    </tr>\n",
       "    <tr>\n",
       "      <th>3</th>\n",
       "      <td>TQIMFETF</td>\n",
       "      <td>1</td>\n",
       "    </tr>\n",
       "    <tr>\n",
       "      <th>4</th>\n",
       "      <td>AEELAEIF</td>\n",
       "      <td>1</td>\n",
       "    </tr>\n",
       "  </tbody>\n",
       "</table>\n",
       "</div>"
      ],
      "text/plain": [
       "  sequencia  target\n",
       "0  SLNLRETN       1\n",
       "1  AECFRIFD       1\n",
       "2  HLVEALYL       1\n",
       "3  TQIMFETF       1\n",
       "4  AEELAEIF       1"
      ]
     },
     "execution_count": 11,
     "metadata": {},
     "output_type": "execute_result"
    }
   ],
   "source": [
    "df_1625 = pd.read_csv('newHIV-1_data\\\\1625Data.txt', names=['sequencia','target'], engine='c')\n",
    "df_1625.head()"
   ]
  },
  {
   "cell_type": "code",
   "execution_count": 12,
   "metadata": {},
   "outputs": [
    {
     "data": {
      "text/plain": [
       "(1625, 2)"
      ]
     },
     "execution_count": 12,
     "metadata": {},
     "output_type": "execute_result"
    }
   ],
   "source": [
    "df_1625.shape"
   ]
  },
  {
   "cell_type": "code",
   "execution_count": 13,
   "metadata": {},
   "outputs": [
    {
     "data": {
      "text/html": [
       "<div>\n",
       "<style scoped>\n",
       "    .dataframe tbody tr th:only-of-type {\n",
       "        vertical-align: middle;\n",
       "    }\n",
       "\n",
       "    .dataframe tbody tr th {\n",
       "        vertical-align: top;\n",
       "    }\n",
       "\n",
       "    .dataframe thead th {\n",
       "        text-align: right;\n",
       "    }\n",
       "</style>\n",
       "<table border=\"1\" class=\"dataframe\">\n",
       "  <thead>\n",
       "    <tr style=\"text-align: right;\">\n",
       "      <th></th>\n",
       "      <th>seq1</th>\n",
       "      <th>seq2</th>\n",
       "      <th>seq3</th>\n",
       "      <th>seq4</th>\n",
       "      <th>seq5</th>\n",
       "      <th>seq6</th>\n",
       "      <th>seq7</th>\n",
       "      <th>seq8</th>\n",
       "      <th>target</th>\n",
       "    </tr>\n",
       "  </thead>\n",
       "  <tbody>\n",
       "    <tr>\n",
       "      <th>0</th>\n",
       "      <td>A</td>\n",
       "      <td>A</td>\n",
       "      <td>A</td>\n",
       "      <td>A</td>\n",
       "      <td>A</td>\n",
       "      <td>P</td>\n",
       "      <td>A</td>\n",
       "      <td>K</td>\n",
       "      <td>-1</td>\n",
       "    </tr>\n",
       "    <tr>\n",
       "      <th>1</th>\n",
       "      <td>A</td>\n",
       "      <td>A</td>\n",
       "      <td>A</td>\n",
       "      <td>A</td>\n",
       "      <td>P</td>\n",
       "      <td>A</td>\n",
       "      <td>K</td>\n",
       "      <td>V</td>\n",
       "      <td>-1</td>\n",
       "    </tr>\n",
       "    <tr>\n",
       "      <th>2</th>\n",
       "      <td>A</td>\n",
       "      <td>A</td>\n",
       "      <td>A</td>\n",
       "      <td>E</td>\n",
       "      <td>L</td>\n",
       "      <td>G</td>\n",
       "      <td>A</td>\n",
       "      <td>R</td>\n",
       "      <td>-1</td>\n",
       "    </tr>\n",
       "    <tr>\n",
       "      <th>3</th>\n",
       "      <td>A</td>\n",
       "      <td>A</td>\n",
       "      <td>A</td>\n",
       "      <td>P</td>\n",
       "      <td>A</td>\n",
       "      <td>K</td>\n",
       "      <td>V</td>\n",
       "      <td>E</td>\n",
       "      <td>-1</td>\n",
       "    </tr>\n",
       "    <tr>\n",
       "      <th>4</th>\n",
       "      <td>A</td>\n",
       "      <td>A</td>\n",
       "      <td>A</td>\n",
       "      <td>P</td>\n",
       "      <td>V</td>\n",
       "      <td>A</td>\n",
       "      <td>A</td>\n",
       "      <td>A</td>\n",
       "      <td>-1</td>\n",
       "    </tr>\n",
       "  </tbody>\n",
       "</table>\n",
       "</div>"
      ],
      "text/plain": [
       "  seq1 seq2 seq3 seq4 seq5 seq6 seq7 seq8 target\n",
       "0    A    A    A    A    A    P    A    K     -1\n",
       "1    A    A    A    A    P    A    K    V     -1\n",
       "2    A    A    A    E    L    G    A    R     -1\n",
       "3    A    A    A    P    A    K    V    E     -1\n",
       "4    A    A    A    P    V    A    A    A     -1"
      ]
     },
     "execution_count": 13,
     "metadata": {},
     "output_type": "execute_result"
    }
   ],
   "source": [
    "i = 4219\n",
    "for row in df_1625.iterrows():\n",
    "    #print(row[1][1]); break;\n",
    "    tmp_seq = list(row[1][0])\n",
    "    tmp_seq.append(row[1][1])\n",
    "    df_expand.loc[i] = tmp_seq\n",
    "    i += 1\n",
    "\n",
    "df_expand.head()"
   ]
  },
  {
   "cell_type": "code",
   "execution_count": 14,
   "metadata": {},
   "outputs": [
    {
     "data": {
      "text/plain": [
       "(5844, 9)"
      ]
     },
     "execution_count": 14,
     "metadata": {},
     "output_type": "execute_result"
    }
   ],
   "source": [
    "df_expand.shape"
   ]
  },
  {
   "cell_type": "code",
   "execution_count": 15,
   "metadata": {},
   "outputs": [
    {
     "data": {
      "text/html": [
       "<div>\n",
       "<style scoped>\n",
       "    .dataframe tbody tr th:only-of-type {\n",
       "        vertical-align: middle;\n",
       "    }\n",
       "\n",
       "    .dataframe tbody tr th {\n",
       "        vertical-align: top;\n",
       "    }\n",
       "\n",
       "    .dataframe thead th {\n",
       "        text-align: right;\n",
       "    }\n",
       "</style>\n",
       "<table border=\"1\" class=\"dataframe\">\n",
       "  <thead>\n",
       "    <tr style=\"text-align: right;\">\n",
       "      <th></th>\n",
       "      <th>sequencia</th>\n",
       "      <th>target</th>\n",
       "    </tr>\n",
       "  </thead>\n",
       "  <tbody>\n",
       "    <tr>\n",
       "      <th>0</th>\n",
       "      <td>AAAKFERQ</td>\n",
       "      <td>-1</td>\n",
       "    </tr>\n",
       "    <tr>\n",
       "      <th>1</th>\n",
       "      <td>AAAMKRHG</td>\n",
       "      <td>-1</td>\n",
       "    </tr>\n",
       "    <tr>\n",
       "      <th>2</th>\n",
       "      <td>AAAMSSAI</td>\n",
       "      <td>-1</td>\n",
       "    </tr>\n",
       "    <tr>\n",
       "      <th>3</th>\n",
       "      <td>AAKFERQH</td>\n",
       "      <td>-1</td>\n",
       "    </tr>\n",
       "    <tr>\n",
       "      <th>4</th>\n",
       "      <td>AAKFESNF</td>\n",
       "      <td>-1</td>\n",
       "    </tr>\n",
       "  </tbody>\n",
       "</table>\n",
       "</div>"
      ],
      "text/plain": [
       "  sequencia  target\n",
       "0  AAAKFERQ      -1\n",
       "1  AAAMKRHG      -1\n",
       "2  AAAMSSAI      -1\n",
       "3  AAKFERQH      -1\n",
       "4  AAKFESNF      -1"
      ]
     },
     "execution_count": 15,
     "metadata": {},
     "output_type": "execute_result"
    }
   ],
   "source": [
    "df_746 = pd.read_csv('newHIV-1_data\\\\746Data.txt', names=['sequencia','target'], engine='c')\n",
    "df_746.head()"
   ]
  },
  {
   "cell_type": "code",
   "execution_count": 16,
   "metadata": {},
   "outputs": [
    {
     "data": {
      "text/plain": [
       "(746, 2)"
      ]
     },
     "execution_count": 16,
     "metadata": {},
     "output_type": "execute_result"
    }
   ],
   "source": [
    "df_746.shape"
   ]
  },
  {
   "cell_type": "code",
   "execution_count": 17,
   "metadata": {},
   "outputs": [
    {
     "data": {
      "text/html": [
       "<div>\n",
       "<style scoped>\n",
       "    .dataframe tbody tr th:only-of-type {\n",
       "        vertical-align: middle;\n",
       "    }\n",
       "\n",
       "    .dataframe tbody tr th {\n",
       "        vertical-align: top;\n",
       "    }\n",
       "\n",
       "    .dataframe thead th {\n",
       "        text-align: right;\n",
       "    }\n",
       "</style>\n",
       "<table border=\"1\" class=\"dataframe\">\n",
       "  <thead>\n",
       "    <tr style=\"text-align: right;\">\n",
       "      <th></th>\n",
       "      <th>seq1</th>\n",
       "      <th>seq2</th>\n",
       "      <th>seq3</th>\n",
       "      <th>seq4</th>\n",
       "      <th>seq5</th>\n",
       "      <th>seq6</th>\n",
       "      <th>seq7</th>\n",
       "      <th>seq8</th>\n",
       "      <th>target</th>\n",
       "    </tr>\n",
       "  </thead>\n",
       "  <tbody>\n",
       "    <tr>\n",
       "      <th>0</th>\n",
       "      <td>A</td>\n",
       "      <td>A</td>\n",
       "      <td>A</td>\n",
       "      <td>A</td>\n",
       "      <td>A</td>\n",
       "      <td>P</td>\n",
       "      <td>A</td>\n",
       "      <td>K</td>\n",
       "      <td>-1</td>\n",
       "    </tr>\n",
       "    <tr>\n",
       "      <th>1</th>\n",
       "      <td>A</td>\n",
       "      <td>A</td>\n",
       "      <td>A</td>\n",
       "      <td>A</td>\n",
       "      <td>P</td>\n",
       "      <td>A</td>\n",
       "      <td>K</td>\n",
       "      <td>V</td>\n",
       "      <td>-1</td>\n",
       "    </tr>\n",
       "    <tr>\n",
       "      <th>2</th>\n",
       "      <td>A</td>\n",
       "      <td>A</td>\n",
       "      <td>A</td>\n",
       "      <td>E</td>\n",
       "      <td>L</td>\n",
       "      <td>G</td>\n",
       "      <td>A</td>\n",
       "      <td>R</td>\n",
       "      <td>-1</td>\n",
       "    </tr>\n",
       "    <tr>\n",
       "      <th>3</th>\n",
       "      <td>A</td>\n",
       "      <td>A</td>\n",
       "      <td>A</td>\n",
       "      <td>P</td>\n",
       "      <td>A</td>\n",
       "      <td>K</td>\n",
       "      <td>V</td>\n",
       "      <td>E</td>\n",
       "      <td>-1</td>\n",
       "    </tr>\n",
       "    <tr>\n",
       "      <th>4</th>\n",
       "      <td>A</td>\n",
       "      <td>A</td>\n",
       "      <td>A</td>\n",
       "      <td>P</td>\n",
       "      <td>V</td>\n",
       "      <td>A</td>\n",
       "      <td>A</td>\n",
       "      <td>A</td>\n",
       "      <td>-1</td>\n",
       "    </tr>\n",
       "  </tbody>\n",
       "</table>\n",
       "</div>"
      ],
      "text/plain": [
       "  seq1 seq2 seq3 seq4 seq5 seq6 seq7 seq8 target\n",
       "0    A    A    A    A    A    P    A    K     -1\n",
       "1    A    A    A    A    P    A    K    V     -1\n",
       "2    A    A    A    E    L    G    A    R     -1\n",
       "3    A    A    A    P    A    K    V    E     -1\n",
       "4    A    A    A    P    V    A    A    A     -1"
      ]
     },
     "execution_count": 17,
     "metadata": {},
     "output_type": "execute_result"
    }
   ],
   "source": [
    "i = 5844\n",
    "for row in df_746.iterrows():\n",
    "    #print(row[1][1]); break;\n",
    "    tmp_seq = list(row[1][0])\n",
    "    tmp_seq.append(row[1][1])\n",
    "    df_expand.loc[i] = tmp_seq\n",
    "    i += 1\n",
    "\n",
    "df_expand.head()"
   ]
  },
  {
   "cell_type": "code",
   "execution_count": 18,
   "metadata": {},
   "outputs": [
    {
     "data": {
      "text/plain": [
       "(6590, 9)"
      ]
     },
     "execution_count": 18,
     "metadata": {},
     "output_type": "execute_result"
    }
   ],
   "source": [
    "df_expand.shape"
   ]
  },
  {
   "cell_type": "code",
   "execution_count": 19,
   "metadata": {},
   "outputs": [],
   "source": [
    "# save to file\n",
    "columns_name = ['seq1', 'seq2', 'seq3', 'seq4', 'seq5', 'seq6', 'seq7', 'seq8', 'target']\n",
    "df_expand.to_csv(path_or_buf='hpcdata_all_expand.csv',\n",
    "                 sep=',',\n",
    "                 header=columns_name,\n",
    "                 index=False,\n",
    "                 encoding='utf-8')"
   ]
  },
  {
   "cell_type": "markdown",
   "metadata": {},
   "source": [
    "<h3>2. etapa</h3>\n",
    "<p>Usa LabelEnconder para codificar os dados e transformá-los em uma forma mais útil de uso nos algoritmos de aprendizado de máquina</p>"
   ]
  },
  {
   "cell_type": "code",
   "execution_count": 20,
   "metadata": {},
   "outputs": [
    {
     "data": {
      "text/plain": [
       "array(['A', 'C', 'D', 'E', 'F', 'G', 'H', 'I', 'K', 'L', 'M', 'N', 'P',\n",
       "       'Q', 'R', 'S', 'T', 'V', 'W', 'Y'], dtype=object)"
      ]
     },
     "execution_count": 20,
     "metadata": {},
     "output_type": "execute_result"
    }
   ],
   "source": [
    "df_expand.seq1.unique()"
   ]
  },
  {
   "cell_type": "code",
   "execution_count": 21,
   "metadata": {},
   "outputs": [
    {
     "data": {
      "text/plain": [
       "array(['A', 'C', 'D', 'E', 'F', 'G', 'H', 'I', 'K', 'L', 'M', 'N', 'P',\n",
       "       'Q', 'R', 'S', 'T', 'V', 'W', 'Y'], dtype=object)"
      ]
     },
     "execution_count": 21,
     "metadata": {},
     "output_type": "execute_result"
    }
   ],
   "source": [
    "df_expand.seq2.unique()"
   ]
  },
  {
   "cell_type": "code",
   "execution_count": 22,
   "metadata": {},
   "outputs": [
    {
     "data": {
      "text/plain": [
       "array(['A', 'D', 'E', 'G', 'I', 'K', 'L', 'M', 'N', 'P', 'S', 'T', 'V',\n",
       "       'Y', 'C', 'H', 'Q', 'F', 'R', 'W'], dtype=object)"
      ]
     },
     "execution_count": 22,
     "metadata": {},
     "output_type": "execute_result"
    }
   ],
   "source": [
    "df_expand.seq3.unique()"
   ]
  },
  {
   "cell_type": "code",
   "execution_count": 23,
   "metadata": {},
   "outputs": [
    {
     "data": {
      "text/plain": [
       "array(['A', 'E', 'P', 'T', 'M', 'I', 'L', 'Q', 'V', 'D', 'G', 'C', 'Y',\n",
       "       'S', 'R', 'F', 'K', 'H', 'N', 'W'], dtype=object)"
      ]
     },
     "execution_count": 23,
     "metadata": {},
     "output_type": "execute_result"
    }
   ],
   "source": [
    "df_expand.seq4.unique()"
   ]
  },
  {
   "cell_type": "code",
   "execution_count": 24,
   "metadata": {},
   "outputs": [
    {
     "data": {
      "text/plain": [
       "array(['A', 'P', 'L', 'V', 'T', 'E', 'G', 'D', 'S', 'Q', 'K', 'N', 'H',\n",
       "       'F', 'I', 'M', 'R', 'Y', 'W', 'C'], dtype=object)"
      ]
     },
     "execution_count": 24,
     "metadata": {},
     "output_type": "execute_result"
    }
   ],
   "source": [
    "df_expand.seq5.unique()"
   ]
  },
  {
   "cell_type": "code",
   "execution_count": 25,
   "metadata": {},
   "outputs": [
    {
     "data": {
      "text/plain": [
       "array(['P', 'A', 'G', 'K', 'V', 'M', 'R', 'H', 'S', 'E', 'N', 'Q', 'D',\n",
       "       'F', 'L', 'T', 'Y', 'W', 'I', 'C'], dtype=object)"
      ]
     },
     "execution_count": 25,
     "metadata": {},
     "output_type": "execute_result"
    }
   ],
   "source": [
    "df_expand.seq6.unique()"
   ]
  },
  {
   "cell_type": "code",
   "execution_count": 26,
   "metadata": {},
   "outputs": [
    {
     "data": {
      "text/plain": [
       "array(['A', 'K', 'V', 'P', 'S', 'E', 'L', 'N', 'T', 'M', 'Q', 'F', 'W',\n",
       "       'D', 'I', 'H', 'Y', 'G', 'C', 'R'], dtype=object)"
      ]
     },
     "execution_count": 26,
     "metadata": {},
     "output_type": "execute_result"
    }
   ],
   "source": [
    "df_expand.seq7.unique()"
   ]
  },
  {
   "cell_type": "code",
   "execution_count": 27,
   "metadata": {},
   "outputs": [
    {
     "data": {
      "text/plain": [
       "array(['K', 'V', 'R', 'E', 'A', 'Q', 'P', 'Y', 'G', 'L', 'I', 'T', 'S',\n",
       "       'D', 'F', 'M', 'N', 'C', 'H', 'W'], dtype=object)"
      ]
     },
     "execution_count": 27,
     "metadata": {},
     "output_type": "execute_result"
    }
   ],
   "source": [
    "df_expand.seq8.unique()"
   ]
  },
  {
   "cell_type": "code",
   "execution_count": 28,
   "metadata": {},
   "outputs": [
    {
     "data": {
      "text/plain": [
       "array([-1, 1], dtype=object)"
      ]
     },
     "execution_count": 28,
     "metadata": {},
     "output_type": "execute_result"
    }
   ],
   "source": [
    "df_expand.target.unique()"
   ]
  },
  {
   "cell_type": "code",
   "execution_count": 29,
   "metadata": {},
   "outputs": [],
   "source": [
    "# cria um novo dataframe com os dados codificados com LabeEnconder\n",
    "df_cod = pd.DataFrame()"
   ]
  },
  {
   "cell_type": "code",
   "execution_count": 30,
   "metadata": {},
   "outputs": [
    {
     "data": {
      "text/html": [
       "<div>\n",
       "<style scoped>\n",
       "    .dataframe tbody tr th:only-of-type {\n",
       "        vertical-align: middle;\n",
       "    }\n",
       "\n",
       "    .dataframe tbody tr th {\n",
       "        vertical-align: top;\n",
       "    }\n",
       "\n",
       "    .dataframe thead th {\n",
       "        text-align: right;\n",
       "    }\n",
       "</style>\n",
       "<table border=\"1\" class=\"dataframe\">\n",
       "  <thead>\n",
       "    <tr style=\"text-align: right;\">\n",
       "      <th></th>\n",
       "      <th>cod_seq1</th>\n",
       "      <th>cod_seq2</th>\n",
       "      <th>cod_seq3</th>\n",
       "      <th>cod_seq4</th>\n",
       "      <th>cod_seq5</th>\n",
       "      <th>cod_seq6</th>\n",
       "      <th>cod_seq7</th>\n",
       "      <th>cod_seq8</th>\n",
       "      <th>cod_target</th>\n",
       "    </tr>\n",
       "  </thead>\n",
       "  <tbody>\n",
       "    <tr>\n",
       "      <th>0</th>\n",
       "      <td>0</td>\n",
       "      <td>0</td>\n",
       "      <td>0</td>\n",
       "      <td>0</td>\n",
       "      <td>0</td>\n",
       "      <td>12</td>\n",
       "      <td>0</td>\n",
       "      <td>8</td>\n",
       "      <td>0</td>\n",
       "    </tr>\n",
       "    <tr>\n",
       "      <th>1</th>\n",
       "      <td>0</td>\n",
       "      <td>0</td>\n",
       "      <td>0</td>\n",
       "      <td>0</td>\n",
       "      <td>12</td>\n",
       "      <td>0</td>\n",
       "      <td>8</td>\n",
       "      <td>17</td>\n",
       "      <td>0</td>\n",
       "    </tr>\n",
       "    <tr>\n",
       "      <th>2</th>\n",
       "      <td>0</td>\n",
       "      <td>0</td>\n",
       "      <td>0</td>\n",
       "      <td>3</td>\n",
       "      <td>9</td>\n",
       "      <td>5</td>\n",
       "      <td>0</td>\n",
       "      <td>14</td>\n",
       "      <td>0</td>\n",
       "    </tr>\n",
       "    <tr>\n",
       "      <th>3</th>\n",
       "      <td>0</td>\n",
       "      <td>0</td>\n",
       "      <td>0</td>\n",
       "      <td>12</td>\n",
       "      <td>0</td>\n",
       "      <td>8</td>\n",
       "      <td>17</td>\n",
       "      <td>3</td>\n",
       "      <td>0</td>\n",
       "    </tr>\n",
       "    <tr>\n",
       "      <th>4</th>\n",
       "      <td>0</td>\n",
       "      <td>0</td>\n",
       "      <td>0</td>\n",
       "      <td>12</td>\n",
       "      <td>17</td>\n",
       "      <td>0</td>\n",
       "      <td>0</td>\n",
       "      <td>0</td>\n",
       "      <td>0</td>\n",
       "    </tr>\n",
       "  </tbody>\n",
       "</table>\n",
       "</div>"
      ],
      "text/plain": [
       "   cod_seq1  cod_seq2  cod_seq3  cod_seq4  cod_seq5  cod_seq6  cod_seq7  \\\n",
       "0         0         0         0         0         0        12         0   \n",
       "1         0         0         0         0        12         0         8   \n",
       "2         0         0         0         3         9         5         0   \n",
       "3         0         0         0        12         0         8        17   \n",
       "4         0         0         0        12        17         0         0   \n",
       "\n",
       "   cod_seq8  cod_target  \n",
       "0         8           0  \n",
       "1        17           0  \n",
       "2        14           0  \n",
       "3         3           0  \n",
       "4         0           0  "
      ]
     },
     "execution_count": 30,
     "metadata": {},
     "output_type": "execute_result"
    }
   ],
   "source": [
    "columns_name_dfe = ['seq1', 'seq2', 'seq3', 'seq4', 'seq5', 'seq6', 'seq7', 'seq8', 'target']\n",
    "columns_name_dfc = ['cod_seq1', 'cod_seq2', 'cod_seq3', 'cod_seq4', 'cod_seq5', 'cod_seq6', 'cod_seq7', 'cod_seq8', \n",
    "                    'cod_target']\n",
    "for i in range(len(columns_name_dfe)):\n",
    "    le = LabelEncoder()\n",
    "    le_ft = le.fit_transform(df_expand[columns_name_dfe[i]])\n",
    "    df_cod.insert(loc=i, column=columns_name_dfc[i], value=le_ft)\n",
    "    \n",
    "df_cod.head()"
   ]
  },
  {
   "cell_type": "code",
   "execution_count": 31,
   "metadata": {},
   "outputs": [
    {
     "data": {
      "text/plain": [
       "array([ 0,  1,  2,  3,  4,  5,  6,  7,  8,  9, 10, 11, 12, 13, 14, 15, 16,\n",
       "       17, 18, 19], dtype=int64)"
      ]
     },
     "execution_count": 31,
     "metadata": {},
     "output_type": "execute_result"
    }
   ],
   "source": [
    "# Antes:\n",
    "# array(['A', 'C', 'D', 'E', 'F', 'G', 'H', 'I', 'K', 'L', 'M', 'N', 'P',\n",
    "#       'Q', 'R', 'S', 'T', 'V', 'W', 'Y'], dtype=object)\n",
    "# Depois:\n",
    "df_cod.cod_seq1.unique()"
   ]
  },
  {
   "cell_type": "code",
   "execution_count": 32,
   "metadata": {},
   "outputs": [
    {
     "data": {
      "text/plain": [
       "array([ 0,  1,  2,  3,  4,  5,  6,  7,  8,  9, 10, 11, 12, 13, 14, 15, 16,\n",
       "       17, 18, 19], dtype=int64)"
      ]
     },
     "execution_count": 32,
     "metadata": {},
     "output_type": "execute_result"
    }
   ],
   "source": [
    "# Antes:\n",
    "#array(['A', 'C', 'D', 'E', 'F', 'G', 'H', 'I', 'K', 'L', 'M', 'N', 'P',\n",
    "#       'Q', 'R', 'S', 'T', 'V', 'W', 'Y'], dtype=object)\n",
    "# Depois:\n",
    "df_cod.cod_seq2.unique()"
   ]
  },
  {
   "cell_type": "code",
   "execution_count": 33,
   "metadata": {},
   "outputs": [
    {
     "data": {
      "text/plain": [
       "array([ 0,  2,  3,  5,  7,  8,  9, 10, 11, 12, 15, 16, 17, 19,  1,  6, 13,\n",
       "        4, 14, 18], dtype=int64)"
      ]
     },
     "execution_count": 33,
     "metadata": {},
     "output_type": "execute_result"
    }
   ],
   "source": [
    "# Antes:\n",
    "#array(['A', 'D', 'E', 'G', 'I', 'K', 'L', 'M', 'N', 'P', 'S', 'T', 'V',\n",
    "#       'Y', 'C', 'H', 'Q', 'F', 'R', 'W'], dtype=object)\n",
    "# Depois:\n",
    "df_cod.cod_seq3.unique()"
   ]
  },
  {
   "cell_type": "code",
   "execution_count": 34,
   "metadata": {},
   "outputs": [
    {
     "data": {
      "text/plain": [
       "array([ 0,  3, 12, 16, 10,  7,  9, 13, 17,  2,  5,  1, 19, 15, 14,  4,  8,\n",
       "        6, 11, 18], dtype=int64)"
      ]
     },
     "execution_count": 34,
     "metadata": {},
     "output_type": "execute_result"
    }
   ],
   "source": [
    "# Antes:\n",
    "#array(['A', 'E', 'P', 'T', 'M', 'I', 'L', 'Q', 'V', 'D', 'G', 'C', 'Y',\n",
    "#       'S', 'R', 'F', 'K', 'H', 'N', 'W'], dtype=object)\n",
    "# Depois:\n",
    "df_cod.cod_seq4.unique()"
   ]
  },
  {
   "cell_type": "code",
   "execution_count": 35,
   "metadata": {},
   "outputs": [
    {
     "data": {
      "text/plain": [
       "array([ 0, 12,  9, 17, 16,  3,  5,  2, 15, 13,  8, 11,  6,  4,  7, 10, 14,\n",
       "       19, 18,  1], dtype=int64)"
      ]
     },
     "execution_count": 35,
     "metadata": {},
     "output_type": "execute_result"
    }
   ],
   "source": [
    "# Antes:\n",
    "#array(['A', 'P', 'L', 'V', 'T', 'E', 'G', 'D', 'S', 'Q', 'K', 'N', 'H',\n",
    "#       'F', 'I', 'M', 'R', 'Y', 'W', 'C'], dtype=object)\n",
    "# Depois:\n",
    "df_cod.cod_seq5.unique()"
   ]
  },
  {
   "cell_type": "code",
   "execution_count": 36,
   "metadata": {},
   "outputs": [
    {
     "data": {
      "text/plain": [
       "array([12,  0,  5,  8, 17, 10, 14,  6, 15,  3, 11, 13,  2,  4,  9, 16, 19,\n",
       "       18,  7,  1], dtype=int64)"
      ]
     },
     "execution_count": 36,
     "metadata": {},
     "output_type": "execute_result"
    }
   ],
   "source": [
    "# Antes:\n",
    "#array(['P', 'A', 'G', 'K', 'V', 'M', 'R', 'H', 'S', 'E', 'N', 'Q', 'D',\n",
    "#       'F', 'L', 'T', 'Y', 'W', 'I', 'C'], dtype=object)\n",
    "# Depois:\n",
    "df_cod.cod_seq6.unique()"
   ]
  },
  {
   "cell_type": "code",
   "execution_count": 37,
   "metadata": {},
   "outputs": [
    {
     "data": {
      "text/plain": [
       "array([ 0,  8, 17, 12, 15,  3,  9, 11, 16, 10, 13,  4, 18,  2,  7,  6, 19,\n",
       "        5,  1, 14], dtype=int64)"
      ]
     },
     "execution_count": 37,
     "metadata": {},
     "output_type": "execute_result"
    }
   ],
   "source": [
    "# Antes:\n",
    "#array(['A', 'K', 'V', 'P', 'S', 'E', 'L', 'N', 'T', 'M', 'Q', 'F', 'W',\n",
    "#       'D', 'I', 'H', 'Y', 'G', 'C', 'R'], dtype=object)\n",
    "# Depois:\n",
    "df_cod.cod_seq7.unique()"
   ]
  },
  {
   "cell_type": "code",
   "execution_count": 38,
   "metadata": {},
   "outputs": [
    {
     "data": {
      "text/plain": [
       "array([ 8, 17, 14,  3,  0, 13, 12, 19,  5,  9,  7, 16, 15,  2,  4, 10, 11,\n",
       "        1,  6, 18], dtype=int64)"
      ]
     },
     "execution_count": 38,
     "metadata": {},
     "output_type": "execute_result"
    }
   ],
   "source": [
    "# Antes:\n",
    "#array(['K', 'V', 'R', 'E', 'A', 'Q', 'P', 'Y', 'G', 'L', 'I', 'T', 'S',\n",
    "#       'D', 'F', 'M', 'N', 'C', 'H', 'W'], dtype=object)\n",
    "# Depois:\n",
    "df_cod.cod_seq8.unique()"
   ]
  },
  {
   "cell_type": "code",
   "execution_count": 39,
   "metadata": {},
   "outputs": [
    {
     "data": {
      "text/plain": [
       "array([0, 1], dtype=int64)"
      ]
     },
     "execution_count": 39,
     "metadata": {},
     "output_type": "execute_result"
    }
   ],
   "source": [
    "# Antes:\n",
    "#array([-1, 1], dtype=object)\n",
    "# Depois:\n",
    "df_cod.cod_target.unique()"
   ]
  },
  {
   "cell_type": "code",
   "execution_count": 40,
   "metadata": {},
   "outputs": [],
   "source": [
    "columns_name = ['cod_seq1', 'cod_seq2', 'cod_seq3', 'cod_seq4', 'cod_seq5', 'cod_seq6', 'cod_seq7', 'cod_seq8', \n",
    "                'cod_target']\n",
    "df_cod.to_csv(path_or_buf='hpcdata_label_coded.csv',\n",
    "              sep=',',\n",
    "              header=columns_name,\n",
    "              index=False,\n",
    "              encoding='utf-8')"
   ]
  },
  {
   "cell_type": "markdown",
   "metadata": {},
   "source": [
    "<h3>3 Etapa</h3>\n",
    "<p>Usa OneHoteEnconder para codificar os dados e transformá-los em uma forma mais útil de uso nos algoritmos de aprendizado de máquina</p>"
   ]
  },
  {
   "cell_type": "code",
   "execution_count": 5,
   "metadata": {},
   "outputs": [],
   "source": [
    "# cria um novo dataframe com os dados codificados com LabeEnconder\n",
    "df_ohe = pd.DataFrame()"
   ]
  },
  {
   "cell_type": "code",
   "execution_count": 6,
   "metadata": {},
   "outputs": [
    {
     "data": {
      "text/html": [
       "<div>\n",
       "<style scoped>\n",
       "    .dataframe tbody tr th:only-of-type {\n",
       "        vertical-align: middle;\n",
       "    }\n",
       "\n",
       "    .dataframe tbody tr th {\n",
       "        vertical-align: top;\n",
       "    }\n",
       "\n",
       "    .dataframe thead th {\n",
       "        text-align: right;\n",
       "    }\n",
       "</style>\n",
       "<table border=\"1\" class=\"dataframe\">\n",
       "  <thead>\n",
       "    <tr style=\"text-align: right;\">\n",
       "      <th></th>\n",
       "      <th>cod_seq1</th>\n",
       "      <th>cod_seq2</th>\n",
       "      <th>cod_seq3</th>\n",
       "      <th>cod_seq4</th>\n",
       "      <th>cod_seq5</th>\n",
       "      <th>cod_seq6</th>\n",
       "      <th>cod_seq7</th>\n",
       "      <th>cod_seq8</th>\n",
       "      <th>cod_target</th>\n",
       "    </tr>\n",
       "  </thead>\n",
       "  <tbody>\n",
       "    <tr>\n",
       "      <th>0</th>\n",
       "      <td>0</td>\n",
       "      <td>0</td>\n",
       "      <td>0</td>\n",
       "      <td>0</td>\n",
       "      <td>0</td>\n",
       "      <td>12</td>\n",
       "      <td>0</td>\n",
       "      <td>8</td>\n",
       "      <td>0</td>\n",
       "    </tr>\n",
       "    <tr>\n",
       "      <th>1</th>\n",
       "      <td>0</td>\n",
       "      <td>0</td>\n",
       "      <td>0</td>\n",
       "      <td>0</td>\n",
       "      <td>12</td>\n",
       "      <td>0</td>\n",
       "      <td>8</td>\n",
       "      <td>17</td>\n",
       "      <td>0</td>\n",
       "    </tr>\n",
       "    <tr>\n",
       "      <th>2</th>\n",
       "      <td>0</td>\n",
       "      <td>0</td>\n",
       "      <td>0</td>\n",
       "      <td>3</td>\n",
       "      <td>9</td>\n",
       "      <td>5</td>\n",
       "      <td>0</td>\n",
       "      <td>14</td>\n",
       "      <td>0</td>\n",
       "    </tr>\n",
       "    <tr>\n",
       "      <th>3</th>\n",
       "      <td>0</td>\n",
       "      <td>0</td>\n",
       "      <td>0</td>\n",
       "      <td>12</td>\n",
       "      <td>0</td>\n",
       "      <td>8</td>\n",
       "      <td>17</td>\n",
       "      <td>3</td>\n",
       "      <td>0</td>\n",
       "    </tr>\n",
       "    <tr>\n",
       "      <th>4</th>\n",
       "      <td>0</td>\n",
       "      <td>0</td>\n",
       "      <td>0</td>\n",
       "      <td>12</td>\n",
       "      <td>17</td>\n",
       "      <td>0</td>\n",
       "      <td>0</td>\n",
       "      <td>0</td>\n",
       "      <td>0</td>\n",
       "    </tr>\n",
       "  </tbody>\n",
       "</table>\n",
       "</div>"
      ],
      "text/plain": [
       "   cod_seq1  cod_seq2  cod_seq3  cod_seq4  cod_seq5  cod_seq6  cod_seq7  \\\n",
       "0         0         0         0         0         0        12         0   \n",
       "1         0         0         0         0        12         0         8   \n",
       "2         0         0         0         3         9         5         0   \n",
       "3         0         0         0        12         0         8        17   \n",
       "4         0         0         0        12        17         0         0   \n",
       "\n",
       "   cod_seq8  cod_target  \n",
       "0         8           0  \n",
       "1        17           0  \n",
       "2        14           0  \n",
       "3         3           0  \n",
       "4         0           0  "
      ]
     },
     "execution_count": 6,
     "metadata": {},
     "output_type": "execute_result"
    }
   ],
   "source": [
    "df_lc = pd.read_csv('hpcdata_label_coded.csv', engine='c')\n",
    "df_lc.head()"
   ]
  },
  {
   "cell_type": "code",
   "execution_count": 7,
   "metadata": {},
   "outputs": [
    {
     "data": {
      "text/html": [
       "<div>\n",
       "<style scoped>\n",
       "    .dataframe tbody tr th:only-of-type {\n",
       "        vertical-align: middle;\n",
       "    }\n",
       "\n",
       "    .dataframe tbody tr th {\n",
       "        vertical-align: top;\n",
       "    }\n",
       "\n",
       "    .dataframe thead th {\n",
       "        text-align: right;\n",
       "    }\n",
       "</style>\n",
       "<table border=\"1\" class=\"dataframe\">\n",
       "  <thead>\n",
       "    <tr style=\"text-align: right;\">\n",
       "      <th></th>\n",
       "      <th>ohe_seq11</th>\n",
       "      <th>ohe_seq12</th>\n",
       "      <th>ohe_seq13</th>\n",
       "      <th>ohe_seq14</th>\n",
       "      <th>ohe_seq15</th>\n",
       "      <th>ohe_seq16</th>\n",
       "      <th>ohe_seq17</th>\n",
       "      <th>ohe_seq18</th>\n",
       "      <th>ohe_seq19</th>\n",
       "      <th>ohe_seq110</th>\n",
       "      <th>...</th>\n",
       "      <th>ohe_seq812</th>\n",
       "      <th>ohe_seq813</th>\n",
       "      <th>ohe_seq814</th>\n",
       "      <th>ohe_seq815</th>\n",
       "      <th>ohe_seq816</th>\n",
       "      <th>ohe_seq817</th>\n",
       "      <th>ohe_seq818</th>\n",
       "      <th>ohe_seq819</th>\n",
       "      <th>ohe_seq820</th>\n",
       "      <th>target</th>\n",
       "    </tr>\n",
       "  </thead>\n",
       "  <tbody>\n",
       "    <tr>\n",
       "      <th>0</th>\n",
       "      <td>1.0</td>\n",
       "      <td>0.0</td>\n",
       "      <td>0.0</td>\n",
       "      <td>0.0</td>\n",
       "      <td>0.0</td>\n",
       "      <td>0.0</td>\n",
       "      <td>0.0</td>\n",
       "      <td>0.0</td>\n",
       "      <td>0.0</td>\n",
       "      <td>0.0</td>\n",
       "      <td>...</td>\n",
       "      <td>0.0</td>\n",
       "      <td>0.0</td>\n",
       "      <td>0.0</td>\n",
       "      <td>0.0</td>\n",
       "      <td>0.0</td>\n",
       "      <td>0.0</td>\n",
       "      <td>0.0</td>\n",
       "      <td>0.0</td>\n",
       "      <td>0.0</td>\n",
       "      <td>0</td>\n",
       "    </tr>\n",
       "    <tr>\n",
       "      <th>1</th>\n",
       "      <td>1.0</td>\n",
       "      <td>0.0</td>\n",
       "      <td>0.0</td>\n",
       "      <td>0.0</td>\n",
       "      <td>0.0</td>\n",
       "      <td>0.0</td>\n",
       "      <td>0.0</td>\n",
       "      <td>0.0</td>\n",
       "      <td>0.0</td>\n",
       "      <td>0.0</td>\n",
       "      <td>...</td>\n",
       "      <td>0.0</td>\n",
       "      <td>0.0</td>\n",
       "      <td>0.0</td>\n",
       "      <td>0.0</td>\n",
       "      <td>0.0</td>\n",
       "      <td>0.0</td>\n",
       "      <td>1.0</td>\n",
       "      <td>0.0</td>\n",
       "      <td>0.0</td>\n",
       "      <td>0</td>\n",
       "    </tr>\n",
       "    <tr>\n",
       "      <th>2</th>\n",
       "      <td>1.0</td>\n",
       "      <td>0.0</td>\n",
       "      <td>0.0</td>\n",
       "      <td>0.0</td>\n",
       "      <td>0.0</td>\n",
       "      <td>0.0</td>\n",
       "      <td>0.0</td>\n",
       "      <td>0.0</td>\n",
       "      <td>0.0</td>\n",
       "      <td>0.0</td>\n",
       "      <td>...</td>\n",
       "      <td>0.0</td>\n",
       "      <td>0.0</td>\n",
       "      <td>0.0</td>\n",
       "      <td>1.0</td>\n",
       "      <td>0.0</td>\n",
       "      <td>0.0</td>\n",
       "      <td>0.0</td>\n",
       "      <td>0.0</td>\n",
       "      <td>0.0</td>\n",
       "      <td>0</td>\n",
       "    </tr>\n",
       "    <tr>\n",
       "      <th>3</th>\n",
       "      <td>1.0</td>\n",
       "      <td>0.0</td>\n",
       "      <td>0.0</td>\n",
       "      <td>0.0</td>\n",
       "      <td>0.0</td>\n",
       "      <td>0.0</td>\n",
       "      <td>0.0</td>\n",
       "      <td>0.0</td>\n",
       "      <td>0.0</td>\n",
       "      <td>0.0</td>\n",
       "      <td>...</td>\n",
       "      <td>0.0</td>\n",
       "      <td>0.0</td>\n",
       "      <td>0.0</td>\n",
       "      <td>0.0</td>\n",
       "      <td>0.0</td>\n",
       "      <td>0.0</td>\n",
       "      <td>0.0</td>\n",
       "      <td>0.0</td>\n",
       "      <td>0.0</td>\n",
       "      <td>0</td>\n",
       "    </tr>\n",
       "    <tr>\n",
       "      <th>4</th>\n",
       "      <td>1.0</td>\n",
       "      <td>0.0</td>\n",
       "      <td>0.0</td>\n",
       "      <td>0.0</td>\n",
       "      <td>0.0</td>\n",
       "      <td>0.0</td>\n",
       "      <td>0.0</td>\n",
       "      <td>0.0</td>\n",
       "      <td>0.0</td>\n",
       "      <td>0.0</td>\n",
       "      <td>...</td>\n",
       "      <td>0.0</td>\n",
       "      <td>0.0</td>\n",
       "      <td>0.0</td>\n",
       "      <td>0.0</td>\n",
       "      <td>0.0</td>\n",
       "      <td>0.0</td>\n",
       "      <td>0.0</td>\n",
       "      <td>0.0</td>\n",
       "      <td>0.0</td>\n",
       "      <td>0</td>\n",
       "    </tr>\n",
       "  </tbody>\n",
       "</table>\n",
       "<p>5 rows × 161 columns</p>\n",
       "</div>"
      ],
      "text/plain": [
       "   ohe_seq11  ohe_seq12  ohe_seq13  ohe_seq14  ohe_seq15  ohe_seq16  \\\n",
       "0        1.0        0.0        0.0        0.0        0.0        0.0   \n",
       "1        1.0        0.0        0.0        0.0        0.0        0.0   \n",
       "2        1.0        0.0        0.0        0.0        0.0        0.0   \n",
       "3        1.0        0.0        0.0        0.0        0.0        0.0   \n",
       "4        1.0        0.0        0.0        0.0        0.0        0.0   \n",
       "\n",
       "   ohe_seq17  ohe_seq18  ohe_seq19  ohe_seq110  ...  ohe_seq812  ohe_seq813  \\\n",
       "0        0.0        0.0        0.0         0.0  ...         0.0         0.0   \n",
       "1        0.0        0.0        0.0         0.0  ...         0.0         0.0   \n",
       "2        0.0        0.0        0.0         0.0  ...         0.0         0.0   \n",
       "3        0.0        0.0        0.0         0.0  ...         0.0         0.0   \n",
       "4        0.0        0.0        0.0         0.0  ...         0.0         0.0   \n",
       "\n",
       "   ohe_seq814  ohe_seq815  ohe_seq816  ohe_seq817  ohe_seq818  ohe_seq819  \\\n",
       "0         0.0         0.0         0.0         0.0         0.0         0.0   \n",
       "1         0.0         0.0         0.0         0.0         1.0         0.0   \n",
       "2         0.0         1.0         0.0         0.0         0.0         0.0   \n",
       "3         0.0         0.0         0.0         0.0         0.0         0.0   \n",
       "4         0.0         0.0         0.0         0.0         0.0         0.0   \n",
       "\n",
       "   ohe_seq820  target  \n",
       "0         0.0       0  \n",
       "1         0.0       0  \n",
       "2         0.0       0  \n",
       "3         0.0       0  \n",
       "4         0.0       0  \n",
       "\n",
       "[5 rows x 161 columns]"
      ]
     },
     "execution_count": 7,
     "metadata": {},
     "output_type": "execute_result"
    }
   ],
   "source": [
    "columns_name_dfc = ['cod_seq1', 'cod_seq2', 'cod_seq3', 'cod_seq4', 'cod_seq5', 'cod_seq6', 'cod_seq7', 'cod_seq8']\n",
    "columns_name_prefix = ['ohe_seq1', 'ohe_seq2', 'ohe_seq3', 'ohe_seq4', 'ohe_seq5', 'ohe_seq6', 'ohe_seq7', 'ohe_seq8']\n",
    "columns_name_sufix = list(range(20))\n",
    "\n",
    "X = df_lc[columns_name_dfc]\n",
    "y = df_lc['cod_target']\n",
    "\n",
    "ohe = OneHotEncoder(categories='auto', sparse=False, handle_unknown='ignore')\n",
    "X_ft = ohe.fit_transform(X)\n",
    "\n",
    "cols_name = []\n",
    "limit = X_ft.shape[1]\n",
    "prefix = 0\n",
    "sufix = 0\n",
    "for i in range(limit):\n",
    "    prefix = i // 20\n",
    "    sufix = sufix + 1\n",
    "    if (sufix > len(columns_name_sufix)):\n",
    "        sufix = 1\n",
    "    col_raiz = columns_name_prefix[prefix] + str(sufix)\n",
    "    cols_name.append(col_raiz)\n",
    "    \n",
    "df_ohe = pd.DataFrame(data=X_ft, columns=cols_name)\n",
    "df_ohe.insert(loc=X_ft.shape[1], column='target', value=y)\n",
    "df_ohe.head()"
   ]
  },
  {
   "cell_type": "code",
   "execution_count": 8,
   "metadata": {},
   "outputs": [],
   "source": [
    "df_ohe.to_csv(path_or_buf='hpcdata_ohe_coded.csv',\n",
    "              sep=',',\n",
    "              index=False,\n",
    "              encoding='utf-8')"
   ]
  },
  {
   "cell_type": "markdown",
   "metadata": {},
   "source": [
    "<h3>4 Etapa</h3>\n",
    "<p>A partir deste ponto os algoritmos de ML são usados com os dados transformado até agora</p>\n",
    "<p>Primeiro vai ser explorado o conjunto de dados tratados com LabelEnconder</p>\n",
    "<p>Segundo será explorado o conjunto de dados tratados com OneHotEnconder</p>\n",
    "<p>Para implementações futuras ficou de se testar com o conjunto de dados apenas unificado e com o conjunto de dados separados em colunas</p>"
   ]
  },
  {
   "cell_type": "code",
   "execution_count": 97,
   "metadata": {},
   "outputs": [],
   "source": [
    "# carrega os dados label Coded\n",
    "df_lc = pd.read_csv('hpcdata_label_coded.csv', engine='c')\n",
    "df_lc.head()\n",
    "\n",
    "# Cria uma matriz de dados para plotagem\n",
    "data_plot = {}"
   ]
  },
  {
   "cell_type": "code",
   "execution_count": 98,
   "metadata": {},
   "outputs": [],
   "source": [
    "# Separa os dados de treinamento e teste\n",
    "X = df_lc[['cod_seq1', 'cod_seq2', 'cod_seq3', 'cod_seq4', 'cod_seq5', 'cod_seq6',\n",
    "           'cod_seq7', 'cod_seq8']]\n",
    "y = df_lc['cod_target']\n",
    "\n",
    "# Split dataset into training set and test set\n",
    "# 70% training and 30% test\n",
    "X_train, X_test, y_train, y_test = train_test_split(X, y, test_size = 0.3, random_state = 100, shuffle=True, stratify=y)"
   ]
  },
  {
   "cell_type": "code",
   "execution_count": 99,
   "metadata": {},
   "outputs": [],
   "source": [
    "# Testa o modelo de Decision Tree\n",
    "model_dt = DecisionTreeClassifier(criterion = 'entropy',\n",
    "                                  splitter='best',\n",
    "                                  max_depth=None,\n",
    "                                  min_samples_split=2,\n",
    "                                  min_samples_leaf=1,\n",
    "                                  min_weight_fraction_leaf=0.,\n",
    "                                  max_features=None,\n",
    "                                  random_state = 100,\n",
    "                                  max_leaf_nodes=None,\n",
    "                                  min_impurity_decrease=0,\n",
    "                                  #min_impurity_split=0,\n",
    "                                  class_weight=None,\n",
    "                                  presort=False)"
   ]
  },
  {
   "cell_type": "code",
   "execution_count": 100,
   "metadata": {},
   "outputs": [],
   "source": [
    "mdt_fit = model_dt.fit(X_train, y_train)\n",
    "y_pred = model_dt.predict(X_test)"
   ]
  },
  {
   "cell_type": "code",
   "execution_count": 101,
   "metadata": {},
   "outputs": [
    {
     "name": "stdout",
     "output_type": "stream",
     "text": [
      "Accuracy: 0.8659585230146687\n",
      "\n",
      "Classifcation Report\n",
      "              precision    recall  f1-score   support\n",
      "\n",
      "           0       0.92      0.91      0.91      1569\n",
      "           1       0.66      0.71      0.69       408\n",
      "\n",
      "    accuracy                           0.87      1977\n",
      "   macro avg       0.79      0.81      0.80      1977\n",
      "weighted avg       0.87      0.87      0.87      1977\n",
      "\n",
      "\n",
      "Accuracy Score\n",
      "0.8659585230146687\n",
      "\n",
      "Confusion Matrix\n",
      "[[1421  148]\n",
      " [ 117  291]]\n"
     ]
    }
   ],
   "source": [
    "mac = metrics.accuracy_score(y_test, y_pred)\n",
    "mcr = classification_report(y_test,y_pred)\n",
    "mas = accuracy_score(y_test, y_pred)\n",
    "mcm = confusion_matrix(y_test,y_pred)\n",
    "\n",
    "print(\"Accuracy:\", mac)\n",
    "\n",
    "print(\"\\nClassifcation Report\")\n",
    "print(mcr)  \n",
    "\n",
    "print(\"\\nAccuracy Score\")\n",
    "print(mas)\n",
    "\n",
    "print(\"\\nConfusion Matrix\")\n",
    "print(mcm)"
   ]
  },
  {
   "cell_type": "code",
   "execution_count": 34,
   "metadata": {},
   "outputs": [],
   "source": [
    "#tree.plot_tree(model_dt.fit(X_train, y_train)) \n",
    "#dot_data = tree.export_graphviz(model_dt, out_file=None)\n",
    "#graph = graphviz.Source(dot_data)\n",
    "#graph.render(\"MT T3\")"
   ]
  },
  {
   "cell_type": "code",
   "execution_count": 102,
   "metadata": {},
   "outputs": [
    {
     "name": "stdout",
     "output_type": "stream",
     "text": [
      "[0.82549317 0.77389985 0.75113809 0.7875569  0.91350531 0.90440061\n",
      " 0.92261002 0.93930197 0.92261002 0.94081942]\n",
      "Accuracy: 0.87 (+/- 0.14)\n"
     ]
    },
    {
     "name": "stderr",
     "output_type": "stream",
     "text": [
      "[Parallel(n_jobs=-1)]: Using backend LokyBackend with 4 concurrent workers.\n",
      "[Parallel(n_jobs=-1)]: Done   3 out of  10 | elapsed:    0.0s remaining:    0.1s\n",
      "[Parallel(n_jobs=-1)]: Done  10 out of  10 | elapsed:    0.1s finished\n"
     ]
    }
   ],
   "source": [
    "#scoring = ['accuracy', 'balanced_accuracy', 'average_precision', 'brier_score_loss', \n",
    "#           'f1', 'f1_micro', 'f1_macro', 'f1_weighted', 'f1_samples', 'neg_log_loss',\n",
    "#           'precision', 'recall', 'jaccard', 'roc_auc']\n",
    "scores = cross_val_score(model_dt, X, y, cv=10, scoring='accuracy')\n",
    "print(scores)\n",
    "\n",
    "msm = scores.mean()\n",
    "mss = scores.std() * 2\n",
    "print(\"Accuracy: %0.2f (+/- %0.2f)\" % (msm, mss))\n",
    "\n",
    "cv_results = cross_validate(model_dt, X, y, scoring=['accuracy', 'brier_score_loss'],\n",
    "                            cv=10, n_jobs=-1, verbose=1)\n",
    "#print(cv_results)"
   ]
  },
  {
   "cell_type": "code",
   "execution_count": 103,
   "metadata": {},
   "outputs": [],
   "source": [
    "data_plot.update({1:['Decision Tree', mac, mcr, mas, mcm, msm, mss]})"
   ]
  },
  {
   "cell_type": "code",
   "execution_count": 104,
   "metadata": {},
   "outputs": [],
   "source": [
    "# Testa o modelo de Random Forest\n",
    "model_rf = RandomForestClassifier(n_estimators= 160,\n",
    "                                  criterion='entropy',\n",
    "                                  max_features = 'auto',\n",
    "                                  max_depth = None,\n",
    "                                  min_samples_split = 2,\n",
    "                                  min_samples_leaf = 1,\n",
    "                                  min_weight_fraction_leaf = 0,\n",
    "                                  max_leaf_nodes = None,\n",
    "                                  min_impurity_decrease = 0,\n",
    "                                  bootstrap = True,\n",
    "                                  oob_score = True,\n",
    "                                  n_jobs = -1,\n",
    "                                  random_state = 100,\n",
    "                                  verbose = 1,\n",
    "                                  warm_start = False,\n",
    "                                  class_weight = None)"
   ]
  },
  {
   "cell_type": "code",
   "execution_count": 105,
   "metadata": {},
   "outputs": [
    {
     "name": "stderr",
     "output_type": "stream",
     "text": [
      "[Parallel(n_jobs=-1)]: Using backend ThreadingBackend with 4 concurrent workers.\n",
      "[Parallel(n_jobs=-1)]: Done  42 tasks      | elapsed:    0.3s\n",
      "[Parallel(n_jobs=-1)]: Done 160 out of 160 | elapsed:    0.6s finished\n",
      "[Parallel(n_jobs=4)]: Using backend ThreadingBackend with 4 concurrent workers.\n",
      "[Parallel(n_jobs=4)]: Done  42 tasks      | elapsed:    0.0s\n",
      "[Parallel(n_jobs=4)]: Done 160 out of 160 | elapsed:    0.0s finished\n"
     ]
    }
   ],
   "source": [
    "mrf_fit = model_rf.fit(X_train, y_train)\n",
    "y_pred = model_rf.predict(X_test)"
   ]
  },
  {
   "cell_type": "code",
   "execution_count": 106,
   "metadata": {},
   "outputs": [
    {
     "name": "stdout",
     "output_type": "stream",
     "text": [
      "Accuracy: 0.9089529590288316\n",
      "\n",
      "Classifcation Report\n",
      "              precision    recall  f1-score   support\n",
      "\n",
      "           0       0.91      0.99      0.94      1569\n",
      "           1       0.92      0.62      0.74       408\n",
      "\n",
      "    accuracy                           0.91      1977\n",
      "   macro avg       0.91      0.80      0.84      1977\n",
      "weighted avg       0.91      0.91      0.90      1977\n",
      "\n",
      "\n",
      "Accuracy Score\n",
      "0.9089529590288316\n",
      "\n",
      "Confusion Matrix\n",
      "[[1546   23]\n",
      " [ 157  251]]\n"
     ]
    }
   ],
   "source": [
    "mac = metrics.accuracy_score(y_test, y_pred)\n",
    "mcr = classification_report(y_test,y_pred)\n",
    "mas = accuracy_score(y_test, y_pred)\n",
    "mcm = confusion_matrix(y_test,y_pred)\n",
    "\n",
    "print(\"Accuracy:\", mac)\n",
    "\n",
    "print(\"\\nClassifcation Report\")\n",
    "print(mcr)  \n",
    "\n",
    "print(\"\\nAccuracy Score\")\n",
    "print(mas)\n",
    "\n",
    "print(\"\\nConfusion Matrix\")\n",
    "print(mcm)"
   ]
  },
  {
   "cell_type": "code",
   "execution_count": 107,
   "metadata": {},
   "outputs": [
    {
     "name": "stderr",
     "output_type": "stream",
     "text": [
      "[Parallel(n_jobs=-1)]: Using backend LokyBackend with 4 concurrent workers.\n",
      "[Parallel(n_jobs=-1)]: Done 160 out of 160 | elapsed:    0.8s finished\n",
      "[Parallel(n_jobs=4)]: Using backend ThreadingBackend with 4 concurrent workers.\n",
      "[Parallel(n_jobs=4)]: Done  42 tasks      | elapsed:    0.0s\n",
      "[Parallel(n_jobs=4)]: Done 160 out of 160 | elapsed:    0.0s finished\n",
      "[Parallel(n_jobs=-1)]: Using backend LokyBackend with 4 concurrent workers.\n",
      "[Parallel(n_jobs=-1)]: Done 160 out of 160 | elapsed:    0.5s finished\n",
      "[Parallel(n_jobs=4)]: Using backend ThreadingBackend with 4 concurrent workers.\n",
      "[Parallel(n_jobs=4)]: Done  42 tasks      | elapsed:    0.0s\n",
      "[Parallel(n_jobs=4)]: Done 160 out of 160 | elapsed:    0.0s finished\n",
      "[Parallel(n_jobs=-1)]: Using backend LokyBackend with 4 concurrent workers.\n",
      "[Parallel(n_jobs=-1)]: Done 160 out of 160 | elapsed:    0.4s finished\n",
      "[Parallel(n_jobs=4)]: Using backend ThreadingBackend with 4 concurrent workers.\n",
      "[Parallel(n_jobs=4)]: Done  42 tasks      | elapsed:    0.0s\n",
      "[Parallel(n_jobs=4)]: Done 160 out of 160 | elapsed:    0.0s finished\n",
      "[Parallel(n_jobs=-1)]: Using backend LokyBackend with 4 concurrent workers.\n",
      "[Parallel(n_jobs=-1)]: Done 160 out of 160 | elapsed:    0.5s finished\n",
      "[Parallel(n_jobs=4)]: Using backend ThreadingBackend with 4 concurrent workers.\n",
      "[Parallel(n_jobs=4)]: Done  42 tasks      | elapsed:    0.0s\n",
      "[Parallel(n_jobs=4)]: Done 160 out of 160 | elapsed:    0.0s finished\n",
      "[Parallel(n_jobs=-1)]: Using backend LokyBackend with 4 concurrent workers.\n",
      "[Parallel(n_jobs=-1)]: Done 160 out of 160 | elapsed:    0.5s finished\n",
      "[Parallel(n_jobs=4)]: Using backend ThreadingBackend with 4 concurrent workers.\n",
      "[Parallel(n_jobs=4)]: Done  42 tasks      | elapsed:    0.0s\n",
      "[Parallel(n_jobs=4)]: Done 160 out of 160 | elapsed:    0.0s finished\n",
      "[Parallel(n_jobs=-1)]: Using backend LokyBackend with 4 concurrent workers.\n",
      "[Parallel(n_jobs=-1)]: Done 160 out of 160 | elapsed:    0.4s finished\n",
      "[Parallel(n_jobs=4)]: Using backend ThreadingBackend with 4 concurrent workers.\n",
      "[Parallel(n_jobs=4)]: Done  42 tasks      | elapsed:    0.0s\n",
      "[Parallel(n_jobs=4)]: Done 160 out of 160 | elapsed:    0.0s finished\n",
      "[Parallel(n_jobs=-1)]: Using backend LokyBackend with 4 concurrent workers.\n",
      "[Parallel(n_jobs=-1)]: Done 160 out of 160 | elapsed:    0.5s finished\n",
      "[Parallel(n_jobs=4)]: Using backend ThreadingBackend with 4 concurrent workers.\n",
      "[Parallel(n_jobs=4)]: Done  42 tasks      | elapsed:    0.0s\n",
      "[Parallel(n_jobs=4)]: Done 160 out of 160 | elapsed:    0.0s finished\n",
      "[Parallel(n_jobs=-1)]: Using backend LokyBackend with 4 concurrent workers.\n",
      "[Parallel(n_jobs=-1)]: Done 160 out of 160 | elapsed:    0.6s finished\n",
      "[Parallel(n_jobs=4)]: Using backend ThreadingBackend with 4 concurrent workers.\n",
      "[Parallel(n_jobs=4)]: Done  42 tasks      | elapsed:    0.0s\n",
      "[Parallel(n_jobs=4)]: Done 160 out of 160 | elapsed:    0.0s finished\n",
      "[Parallel(n_jobs=-1)]: Using backend LokyBackend with 4 concurrent workers.\n",
      "[Parallel(n_jobs=-1)]: Done 160 out of 160 | elapsed:    0.5s finished\n",
      "[Parallel(n_jobs=4)]: Using backend ThreadingBackend with 4 concurrent workers.\n",
      "[Parallel(n_jobs=4)]: Done  42 tasks      | elapsed:    0.0s\n",
      "[Parallel(n_jobs=4)]: Done 160 out of 160 | elapsed:    0.0s finished\n",
      "[Parallel(n_jobs=-1)]: Using backend LokyBackend with 4 concurrent workers.\n",
      "[Parallel(n_jobs=-1)]: Done 160 out of 160 | elapsed:    0.6s finished\n",
      "[Parallel(n_jobs=4)]: Using backend ThreadingBackend with 4 concurrent workers.\n",
      "[Parallel(n_jobs=4)]: Done  42 tasks      | elapsed:    0.0s\n",
      "[Parallel(n_jobs=4)]: Done 160 out of 160 | elapsed:    0.0s finished\n"
     ]
    },
    {
     "name": "stdout",
     "output_type": "stream",
     "text": [
      "[0.80273141 0.80121396 0.80273141 0.81487102 0.94537178 0.98179059\n",
      " 0.9908953  0.96661608 0.97875569 0.96358118]\n",
      "Accuracy: 0.90 (+/- 0.16)\n"
     ]
    },
    {
     "name": "stderr",
     "output_type": "stream",
     "text": [
      "[Parallel(n_jobs=-1)]: Using backend LokyBackend with 4 concurrent workers.\n",
      "[Parallel(n_jobs=-1)]: Done  10 out of  10 | elapsed:    5.5s finished\n"
     ]
    }
   ],
   "source": [
    "#scoring = ['accuracy', 'balanced_accuracy', 'average_precision', 'brier_score_loss', \n",
    "#           'f1', 'f1_micro', 'f1_macro', 'f1_weighted', 'f1_samples', 'neg_log_loss',\n",
    "#           'precision', 'recall', 'jaccard', 'roc_auc']\n",
    "scores = cross_val_score(model_rf, X, y, cv=10, scoring='accuracy')\n",
    "print(scores)\n",
    "\n",
    "msm = scores.mean()\n",
    "mss = scores.std() * 2\n",
    "print(\"Accuracy: %0.2f (+/- %0.2f)\" % (msm, mss))\n",
    "\n",
    "cv_results = cross_validate(model_rf, X, y, scoring=['accuracy', 'brier_score_loss'],\n",
    "                            cv=10, n_jobs=-1, verbose=1)\n",
    "#print(cv_results)"
   ]
  },
  {
   "cell_type": "code",
   "execution_count": 108,
   "metadata": {},
   "outputs": [],
   "source": [
    "data_plot.update({2:['Random Forest', mac, mcr, mas, mcm, msm, mss]})"
   ]
  },
  {
   "cell_type": "code",
   "execution_count": 113,
   "metadata": {},
   "outputs": [],
   "source": [
    "# Testa o modelo SVM/SVC\n",
    "model_svc = SVC(C=1.0,\n",
    "                kernel='rbf', \n",
    "                degree=3, \n",
    "                gamma='auto', \n",
    "                coef0=0.0, \n",
    "                shrinking=True, \n",
    "                probability=True, \n",
    "                tol=0.001, \n",
    "                cache_size=200, \n",
    "                class_weight=None, \n",
    "                verbose=True, \n",
    "                max_iter=-1, \n",
    "                decision_function_shape='ovr', \n",
    "                random_state=100)"
   ]
  },
  {
   "cell_type": "code",
   "execution_count": 114,
   "metadata": {},
   "outputs": [
    {
     "name": "stdout",
     "output_type": "stream",
     "text": [
      "[LibSVM]"
     ]
    }
   ],
   "source": [
    "mss_fit = model_svc.fit(X_train, y_train)\n",
    "y_pred = model_svc.predict(X_test)"
   ]
  },
  {
   "cell_type": "code",
   "execution_count": 115,
   "metadata": {},
   "outputs": [
    {
     "name": "stdout",
     "output_type": "stream",
     "text": [
      "Accuracy: 0.881638846737481\n",
      "\n",
      "Classifcation Report\n",
      "              precision    recall  f1-score   support\n",
      "\n",
      "           0       0.87      0.99      0.93      1569\n",
      "           1       0.95      0.45      0.61       408\n",
      "\n",
      "    accuracy                           0.88      1977\n",
      "   macro avg       0.91      0.72      0.77      1977\n",
      "weighted avg       0.89      0.88      0.86      1977\n",
      "\n",
      "\n",
      "Accuracy Score\n",
      "0.881638846737481\n",
      "\n",
      "Confusion Matrix\n",
      "[[1559   10]\n",
      " [ 224  184]]\n"
     ]
    }
   ],
   "source": [
    "mac = metrics.accuracy_score(y_test, y_pred)\n",
    "mcr = classification_report(y_test,y_pred)\n",
    "mas = accuracy_score(y_test, y_pred)\n",
    "mcm = confusion_matrix(y_test,y_pred)\n",
    "\n",
    "print(\"Accuracy:\", mac)\n",
    "\n",
    "print(\"\\nClassifcation Report\")\n",
    "print(mcr)  \n",
    "\n",
    "print(\"\\nAccuracy Score\")\n",
    "print(mas)\n",
    "\n",
    "print(\"\\nConfusion Matrix\")\n",
    "print(mcm)"
   ]
  },
  {
   "cell_type": "code",
   "execution_count": 116,
   "metadata": {},
   "outputs": [
    {
     "name": "stdout",
     "output_type": "stream",
     "text": [
      "[LibSVM][LibSVM][LibSVM][LibSVM][LibSVM][LibSVM][LibSVM][LibSVM][LibSVM][LibSVM][0.79514416 0.79817906 0.79969651 0.80728376 0.93930197 0.97572079\n",
      " 0.98179059 0.94385432 0.98634294 0.94233687]\n",
      "Accuracy: 0.90 (+/- 0.16)\n"
     ]
    },
    {
     "name": "stderr",
     "output_type": "stream",
     "text": [
      "[Parallel(n_jobs=-1)]: Using backend LokyBackend with 4 concurrent workers.\n",
      "[Parallel(n_jobs=-1)]: Done  10 out of  10 | elapsed:  1.6min finished\n"
     ]
    }
   ],
   "source": [
    "#scoring = ['accuracy', 'balanced_accuracy', 'average_precision', 'brier_score_loss', \n",
    "#           'f1', 'f1_micro', 'f1_macro', 'f1_weighted', 'f1_samples', 'neg_log_loss',\n",
    "#           'precision', 'recall', 'jaccard', 'roc_auc']\n",
    "scores = cross_val_score(model_svc, X, y, cv=10, scoring='accuracy')\n",
    "print(scores)\n",
    "\n",
    "msm = scores.mean()\n",
    "mss = scores.std() * 2\n",
    "print(\"Accuracy: %0.2f (+/- %0.2f)\" % (msm, mss))\n",
    "\n",
    "cv_results = cross_validate(model_svc, X, y, scoring=['accuracy', 'brier_score_loss'],\n",
    "                            cv=10, n_jobs=-1, verbose=1)\n",
    "#print(cv_results)"
   ]
  },
  {
   "cell_type": "code",
   "execution_count": 117,
   "metadata": {},
   "outputs": [],
   "source": [
    "data_plot.update({3:['SVM/SVC', mac, mcr, mas, mcm, msm, mss]})"
   ]
  },
  {
   "cell_type": "code",
   "execution_count": 118,
   "metadata": {},
   "outputs": [],
   "source": [
    "# Testa o modelo Linear SVC\n",
    "model_lss = LinearSVC(penalty='l2',\n",
    "                      loss='squared_hinge',\n",
    "                      dual = False, \n",
    "                      tol=0.0001, \n",
    "                      C=1.0, \n",
    "                      multi_class='ovr', \n",
    "                      fit_intercept=True, \n",
    "                      intercept_scaling=1, \n",
    "                      class_weight = 'balanced', \n",
    "                      verbose = 1, \n",
    "                      random_state = 100, \n",
    "                      max_iter=1000)"
   ]
  },
  {
   "cell_type": "code",
   "execution_count": 119,
   "metadata": {},
   "outputs": [
    {
     "name": "stdout",
     "output_type": "stream",
     "text": [
      "[LibLinear]"
     ]
    }
   ],
   "source": [
    "mls_fit = model_lss.fit(X_train, y_train)\n",
    "y_pred = model_lss.predict(X_test)"
   ]
  },
  {
   "cell_type": "code",
   "execution_count": 120,
   "metadata": {},
   "outputs": [
    {
     "name": "stdout",
     "output_type": "stream",
     "text": [
      "Accuracy: 0.5356600910470409\n",
      "\n",
      "Classifcation Report\n",
      "              precision    recall  f1-score   support\n",
      "\n",
      "           0       0.80      0.55      0.65      1569\n",
      "           1       0.22      0.48      0.30       408\n",
      "\n",
      "    accuracy                           0.54      1977\n",
      "   macro avg       0.51      0.52      0.48      1977\n",
      "weighted avg       0.68      0.54      0.58      1977\n",
      "\n",
      "\n",
      "Accuracy Score\n",
      "0.5356600910470409\n",
      "\n",
      "Confusion Matrix\n",
      "[[862 707]\n",
      " [211 197]]\n"
     ]
    }
   ],
   "source": [
    "mac = metrics.accuracy_score(y_test, y_pred)\n",
    "mcr = classification_report(y_test,y_pred)\n",
    "mas = accuracy_score(y_test, y_pred)\n",
    "mcm = confusion_matrix(y_test,y_pred)\n",
    "\n",
    "print(\"Accuracy:\", mac)\n",
    "\n",
    "print(\"\\nClassifcation Report\")\n",
    "print(mcr)  \n",
    "\n",
    "print(\"\\nAccuracy Score\")\n",
    "print(mas)\n",
    "\n",
    "print(\"\\nConfusion Matrix\")\n",
    "print(mcm)"
   ]
  },
  {
   "cell_type": "code",
   "execution_count": 122,
   "metadata": {},
   "outputs": [
    {
     "name": "stdout",
     "output_type": "stream",
     "text": [
      "[LibLinear][LibLinear][LibLinear][LibLinear][LibLinear][LibLinear][LibLinear][LibLinear][LibLinear][LibLinear][0.5660091  0.53566009 0.49468892 0.54324734 0.40364188 0.64643399\n",
      " 0.51593323 0.46737481 0.55235205 0.52807284]\n",
      "Accuracy: 0.53 (+/- 0.12)\n"
     ]
    }
   ],
   "source": [
    "#scoring = ['accuracy', 'balanced_accuracy', 'average_precision', 'brier_score_loss', \n",
    "#           'f1', 'f1_micro', 'f1_macro', 'f1_weighted', 'f1_samples', 'neg_log_loss',\n",
    "#           'precision', 'recall', 'jaccard', 'roc_auc']\n",
    "scores = cross_val_score(model_lss, X, y, cv=10, scoring='accuracy')\n",
    "print(scores)\n",
    "\n",
    "msm = scores.mean()\n",
    "mss = scores.std() * 2\n",
    "print(\"Accuracy: %0.2f (+/- %0.2f)\" % (msm, mss))\n",
    "\n",
    "#cv_results = cross_validate(model_lss, X, y, scoring=['accuracy', 'brier_score_loss'],\n",
    "#                            cv=10, n_jobs=-1, verbose=1)\n",
    "#print(cv_results)"
   ]
  },
  {
   "cell_type": "code",
   "execution_count": 123,
   "metadata": {},
   "outputs": [],
   "source": [
    "data_plot.update({4:['SVM/LinearSVM', mac, mcr, mas, mcm, msm, mss]})"
   ]
  },
  {
   "cell_type": "markdown",
   "metadata": {},
   "source": [
    "<h3>4 etapa</h3>\n",
    "<p>Constrói a visualização gráfica dos resultados</p>"
   ]
  },
  {
   "cell_type": "code",
   "execution_count": 143,
   "metadata": {},
   "outputs": [
    {
     "name": "stdout",
     "output_type": "stream",
     "text": [
      "['Decision Tree', 'Random Forest', 'SVM/SVC', 'SVM/LinearSVM']\n",
      "[0.8659585230146687, 0.9089529590288316, 0.881638846737481, 0.5356600910470409]\n",
      "[0.8681335356600911, 0.9048558421851289, 0.8969650986342943, 0.5253414264036419]\n",
      "[0.1421775982121842, 0.1641769439029143, 0.1613269184866828, 0.12112868888149483]\n"
     ]
    }
   ],
   "source": [
    "algoritmos = []\n",
    "accuracy = []\n",
    "accuracy_mean = []\n",
    "accuracy_std = []\n",
    "for k, v in data_plot.items():\n",
    "    algoritmos.append(v[0])\n",
    "    accuracy.append(v[1])\n",
    "    accuracy_mean.append(v[5])\n",
    "    accuracy_std.append(v[6])\n",
    "\n",
    "print(algoritmos)\n",
    "print(accuracy)\n",
    "print(accuracy_mean)\n",
    "print(accuracy_std)"
   ]
  },
  {
   "cell_type": "code",
   "execution_count": 174,
   "metadata": {},
   "outputs": [
    {
     "data": {
      "image/png": "[encoded data removed]",
      "text/plain": [
       "<Figure size 864x576 with 1 Axes>"
      ]
     },
     "metadata": {
      "needs_background": "light"
     },
     "output_type": "display_data"
    }
   ],
   "source": [
    "#plt.plot(algoritmos, accuracy, 'go', color='green'); Ponto em bola\n",
    "#plt.plot(algoritmos, accuracy, 'k:', color='green'); linha pontilha orange\n",
    "#plt.plot(algoritmos, accuracy, 'r^', color='green'); Ponto em triângulo\n",
    "#plt.plot(algoritmos, accuracy, 'k--', color='green'); linha tracejada\n",
    "plt.figure(figsize=(12,8))\n",
    "plt.plot(algoritmos, accuracy, color='blue', linewidth=3.0, label='Acurácia');\n",
    "plt.plot(algoritmos, accuracy_mean, 'k--', color='green', linewidth=3.0, label='Acurácia média');\n",
    "plt.plot(algoritmos, accuracy_std, color='orange', linewidth=3.0, label='Desvio padrão');\n",
    "plt.title('Acurácia obtida por algoritmo')\n",
    "plt.xlabel('Algoritmo')\n",
    "plt.ylabel('Acurácia')\n",
    "plt.grid(True)\n",
    "plt.legend();\n",
    "#plt.ylim(0, 0.999)\n",
    "#plt.axis([0, x, 0, y])"
   ]
  },
  {
   "cell_type": "code",
   "execution_count": 167,
   "metadata": {},
   "outputs": [],
   "source": [
    "tn, fp, fn, tp = confusion_matrix(y_test,y_pred).ravel()"
   ]
  },
  {
   "cell_type": "code",
   "execution_count": 197,
   "metadata": {},
   "outputs": [
    {
     "name": "stdout",
     "output_type": "stream",
     "text": [
      "['Decision Tree', 'Random Forest', 'SVM/SVC', 'SVM/LinearSVM']\n",
      "[1421, 1546, 1559, 862]\n",
      "[291, 251, 184, 197]\n",
      "[117, 157, 224, 211]\n",
      "[291, 251, 184, 197]\n",
      "[0.2637342242019302, 0.28693392724573125, 0.28934669636228655, 0.15998515219005197]\n",
      "[0.3152762730227519, 0.27193932827735645, 0.19934994582881907, 0.2134344528710726]\n",
      "[0.16502115655853314, 0.22143864598025387, 0.3159379407616361, 0.29760225669957685]\n",
      "[0.3152762730227519, 0.27193932827735645, 0.19934994582881907, 0.2134344528710726]\n"
     ]
    }
   ],
   "source": [
    "algoritmos = []\n",
    "tn = []\n",
    "fp = []\n",
    "fn = []\n",
    "tp = []\n",
    "for k, v in data_plot.items():\n",
    "    algoritmos.append(v[0])\n",
    "    tn.append(v[4][0][0])\n",
    "    fp.append(v[4][1][1])\n",
    "    fn.append(v[4][1][0])\n",
    "    tp.append(v[4][1][1])\n",
    "\n",
    "print(algoritmos)\n",
    "print(tn)\n",
    "print(fp)\n",
    "print(fn)\n",
    "print(tp)\n",
    "\n",
    "def scalable_data_one(data):\n",
    "    np_data = np.array(data)\n",
    "    data_mean = np_data.mean()\n",
    "    return [(item/data_mean) for item in data]\n",
    "\n",
    "def scalable_data(data):\n",
    "    np_data = np.array(data)\n",
    "    data_sum = np_data.sum()\n",
    "    return [(item/data_sum) for item in data]\n",
    "\n",
    "tn = scalable_data(tn)\n",
    "fp = scalable_data(fp)\n",
    "fn = scalable_data(fn)\n",
    "tp = scalable_data(tp)\n",
    "\n",
    "print(tn)\n",
    "print(fp)\n",
    "print(fn)\n",
    "print(tp)\n",
    "#5388"
   ]
  },
  {
   "cell_type": "code",
   "execution_count": 198,
   "metadata": {},
   "outputs": [
    {
     "data": {
      "image/png": "[encoded data removed]",
      "text/plain": [
       "<Figure size 864x576 with 1 Axes>"
      ]
     },
     "metadata": {
      "needs_background": "light"
     },
     "output_type": "display_data"
    }
   ],
   "source": [
    "plt.figure(figsize=(12,8))\n",
    "plt.plot(algoritmos, tn, color='#00BFFF', linewidth=3.0, label='True Negative')\n",
    "plt.plot(algoritmos, fp, color='#DEB887', linewidth=3.0, label='False Positive')\n",
    "plt.plot(algoritmos, fn, color='#FF8C00', linewidth=3.0, label='False Negative')\n",
    "plt.plot(algoritmos, tp, color='#808000', linewidth=3.0, label='True Positive')\n",
    "plt.title('Matriz de confusão por algoritmo')\n",
    "plt.xlabel('Algoritmo')\n",
    "plt.ylabel('Matriz de confusão')\n",
    "plt.grid(True)\n",
    "plt.legend();"
   ]
  },
  {
   "cell_type": "code",
   "execution_count": null,
   "metadata": {},
   "outputs": [],
   "source": []
  },
  {
   "cell_type": "code",
   "execution_count": null,
   "metadata": {},
   "outputs": [],
   "source": []
  },
  {
   "cell_type": "code",
   "execution_count": null,
   "metadata": {},
   "outputs": [],
   "source": []
  }
 ],
 "metadata": {
  "kernelspec": {
   "display_name": "Python 3",
   "language": "python",
   "name": "python3"
  },
  "language_info": {
   "codemirror_mode": {
    "name": "ipython",
    "version": 3
   },
   "file_extension": ".py",
   "mimetype": "text/x-python",
   "name": "python",
   "nbconvert_exporter": "python",
   "pygments_lexer": "ipython3",
   "version": "3.7.2"
  }
 },
 "nbformat": 4,
 "nbformat_minor": 2
}
